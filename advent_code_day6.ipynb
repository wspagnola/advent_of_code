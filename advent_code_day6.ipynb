{
 "cells": [
  {
   "cell_type": "code",
   "execution_count": 2,
   "id": "498cec81",
   "metadata": {},
   "outputs": [],
   "source": [
    "import numpy as np"
   ]
  },
  {
   "cell_type": "code",
   "execution_count": 19,
   "id": "562bde2c",
   "metadata": {},
   "outputs": [
    {
     "data": {
      "text/plain": [
       "array([3, 4, 3, 1, 2])"
      ]
     },
     "execution_count": 19,
     "metadata": {},
     "output_type": "execute_result"
    }
   ],
   "source": [
    "gen0_test = np.array([3,4,3,1,2])\n",
    "gen0_test"
   ]
  },
  {
   "cell_type": "code",
   "execution_count": 68,
   "id": "d2b01636",
   "metadata": {},
   "outputs": [
    {
     "name": "stdout",
     "output_type": "stream",
     "text": [
      "Gen 0 : [3 4 3 1 2]\n",
      "Gen 1 : [2 3 2 0 1]\n",
      "Gen 2 : [1 2 1 6 0 8]\n",
      "Gen 3 : [0 1 0 5 6 7 8]\n",
      "Gen 4 : [6 0 6 4 5 6 7 8 8]\n",
      "Gen 5 : [5 6 5 3 4 5 6 7 7 8]\n",
      "Gen 6 : [4 5 4 2 3 4 5 6 6 7]\n",
      "Gen 7 : [3 4 3 1 2 3 4 5 5 6]\n",
      "Gen 8 : [2 3 2 0 1 2 3 4 4 5]\n",
      "Gen 9 : [1 2 1 6 0 1 2 3 3 4 8]\n",
      "Gen 10 : [0 1 0 5 6 0 1 2 2 3 7 8]\n",
      "Gen 11 : [6 0 6 4 5 6 0 1 1 2 6 7 8 8 8]\n",
      "Gen 12 : [5 6 5 3 4 5 6 0 0 1 5 6 7 7 7 8 8]\n",
      "Gen 13 : [4 5 4 2 3 4 5 6 6 0 4 5 6 6 6 7 7 8 8]\n",
      "Gen 14 : [3 4 3 1 2 3 4 5 5 6 3 4 5 5 5 6 6 7 7 8]\n",
      "Gen 15 : [2 3 2 0 1 2 3 4 4 5 2 3 4 4 4 5 5 6 6 7]\n",
      "Gen 16 : [1 2 1 6 0 1 2 3 3 4 1 2 3 3 3 4 4 5 5 6 8]\n",
      "Gen 17 : [0 1 0 5 6 0 1 2 2 3 0 1 2 2 2 3 3 4 4 5 7 8]\n",
      "Gen 18 : [6 0 6 4 5 6 0 1 1 2 6 0 1 1 1 2 2 3 3 4 6 7 8 8 8 8]\n"
     ]
    }
   ],
   "source": [
    "gen0_test = np.array([3,4,3,1,2])\n",
    "gen_list = [gen0_test]\n",
    "next_gen = gen0_test\n",
    "for i in range(18):\n",
    "    print(\"Gen\", i, \":\", next_gen)\n",
    "    new_gen = np.repeat(8, sum(next_gen == 0))\n",
    "    next_gen = next_gen - 1\n",
    "    next_gen[next_gen <0 ] = 6\n",
    "    next_gen = np.concatenate([next_gen, new_gen])\n",
    "    gen_list.append(next_gen)\n",
    "print(\"Gen\", 18, \":\", next_gen)\n",
    "#print(gen_list)"
   ]
  },
  {
   "cell_type": "code",
   "execution_count": 71,
   "id": "e52877de",
   "metadata": {},
   "outputs": [
    {
     "data": {
      "text/plain": [
       "26"
      ]
     },
     "execution_count": 71,
     "metadata": {},
     "output_type": "execute_result"
    }
   ],
   "source": [
    "len(gen_list[-1])"
   ]
  },
  {
   "cell_type": "code",
   "execution_count": 73,
   "id": "3eba8010",
   "metadata": {},
   "outputs": [
    {
     "data": {
      "text/plain": [
       "5934"
      ]
     },
     "execution_count": 73,
     "metadata": {},
     "output_type": "execute_result"
    }
   ],
   "source": [
    "gen0_test = np.array([3,4,3,1,2])\n",
    "gen_list = [gen0_test]\n",
    "next_gen = gen0_test\n",
    "for i in range(80):\n",
    "    \n",
    "    new_gen = np.repeat(8, sum(next_gen == 0))\n",
    "    next_gen = next_gen - 1\n",
    "    next_gen[next_gen <0 ] = 6\n",
    "    next_gen = np.concatenate([next_gen, new_gen])\n",
    "    gen_list.append(next_gen)\n",
    "\n",
    "len(gen_list[-1])"
   ]
  },
  {
   "cell_type": "code",
   "execution_count": 88,
   "id": "5e98f4ea",
   "metadata": {},
   "outputs": [
    {
     "data": {
      "text/plain": [
       "5934"
      ]
     },
     "execution_count": 88,
     "metadata": {},
     "output_type": "execute_result"
    }
   ],
   "source": [
    "# withou storing list\n",
    "gen0_test = np.array([3,4,3,1,2])\n",
    "#gen_list = [gen0_test]\n",
    "next_gen = gen0_test\n",
    "for i in range(80):\n",
    "    \n",
    "    new_gen = np.repeat(8, sum(next_gen == 0))\n",
    "    next_gen = next_gen - 1\n",
    "    next_gen[next_gen <0 ] = 6\n",
    "    next_gen = np.concatenate([next_gen, new_gen])\n",
    "   # gen_list.append(next_gen)\n",
    "\n",
    "len(next_gen)"
   ]
  },
  {
   "cell_type": "code",
   "execution_count": 159,
   "id": "76bbc9fc",
   "metadata": {},
   "outputs": [
    {
     "name": "stdout",
     "output_type": "stream",
     "text": [
      "0.0\n",
      "0.0\n",
      "0.0\n",
      "0.0\n",
      "0.0\n",
      "0.0\n",
      "0.0\n",
      "0.0\n",
      "0.6931471805599453\n",
      "0.6931471805599453\n",
      "0.6931471805599453\n",
      "0.6931471805599453\n",
      "0.6931471805599453\n",
      "0.6931471805599453\n",
      "0.6931471805599453\n",
      "1.0986122886681098\n",
      "1.0986122886681098\n",
      "1.3862943611198906\n",
      "1.3862943611198906\n",
      "1.3862943611198906\n",
      "1.3862943611198906\n",
      "1.3862943611198906\n",
      "1.6094379124341003\n",
      "1.6094379124341003\n",
      "1.9459101490553132\n",
      "1.9459101490553132\n",
      "2.0794415416798357\n",
      "2.0794415416798357\n",
      "2.0794415416798357\n",
      "2.1972245773362196\n",
      "2.1972245773362196\n",
      "2.4849066497880004\n",
      "2.4849066497880004\n",
      "2.70805020110221\n",
      "2.70805020110221\n",
      "2.772588722239781\n",
      "2.833213344056216\n",
      "2.833213344056216\n",
      "3.044522437723423\n",
      "3.044522437723423\n",
      "3.295836866004329\n",
      "3.295836866004329\n",
      "3.4339872044851463\n",
      "3.4657359027997265\n",
      "3.4965075614664802\n",
      "3.6375861597263857\n",
      "3.6375861597263857\n",
      "3.871201010907891\n",
      "3.871201010907891\n",
      "4.060443010546419\n",
      "4.07753744390572\n",
      "4.1588830833596715\n",
      "4.248495242049359\n",
      "4.2626798770413155\n",
      "4.454347296253507\n",
      "4.454347296253507\n",
      "4.663439094112067\n",
      "4.672828834461906\n",
      "4.804021044733257\n",
      "4.859812404361672\n",
      "4.90527477843843\n",
      "5.049856007249537\n",
      "5.056245805348308\n",
      "5.2574953720277815\n",
      "5.262690188904886\n",
      "5.429345628954441\n",
      "5.4638318050256105\n",
      "5.54907608489522\n",
      "5.652489180268651\n",
      "5.676753802268282\n",
      "5.8522024797744745\n",
      "5.857933154483459\n",
      "6.040254711277414\n",
      "6.061456918928017\n",
      "6.184148890937483\n",
      "6.255750041753367\n",
      "6.3080984415095305\n",
      "6.450470422144176\n",
      "6.464588303689961\n",
      "6.643789733147672\n",
      "6.658011045870748\n",
      "6.807934943699926\n",
      "6.856461984594587\n",
      "6.9411900550683745\n",
      "7.050989447068045\n",
      "7.0825485693553\n",
      "7.244941546337007\n",
      "7.259116128097101\n",
      "7.422373700986824\n",
      "7.455298485683291\n",
      "7.569927655242652\n",
      "7.651595573857601\n",
      "7.707512194600341\n",
      "7.845807502637805\n",
      "7.867871490396322\n",
      "8.03073492409854\n",
      "8.055157731819678\n",
      "8.192016914536875\n",
      "8.251403065380556\n",
      "8.33423142973486\n"
     ]
    },
    {
     "data": {
      "text/plain": [
       "<AxesSubplot:>"
      ]
     },
     "execution_count": 159,
     "metadata": {},
     "output_type": "execute_result"
    },
    {
     "data": {
      "image/png": "[encoded data removed]",
      "text/plain": [
       "<Figure size 432x288 with 1 Axes>"
      ]
     },
     "metadata": {
      "needs_background": "light"
     },
     "output_type": "display_data"
    }
   ],
   "source": [
    "def sim_fish(gen0, days):\n",
    "    #gen0 = initial population\n",
    "    #days = number of days passed since day0\n",
    "    \n",
    "    next_gen = gen0\n",
    "    pop = []\n",
    "    for i in range(days):\n",
    "        #if i % 1 == 0:\n",
    "           # print(i, len(next_gen))\n",
    "        new_gen = np.repeat(8, sum(next_gen == 0)) # Create new fish from ones ready to spawn\n",
    "        next_gen = next_gen - 1 # Subtract days left till next spawn\n",
    "        next_gen[next_gen <0 ] = 6 #Reset days for fish that have spawned\n",
    "        next_gen = np.concatenate([next_gen, new_gen]) # add new generation to current population\n",
    "        cur_pop = [i, len(next_gen)]\n",
    "        pop.append(cur_pop)\n",
    "        #print(pop)\n",
    "        print(np.log(len(next_gen)))\n",
    "    return(pop)\n",
    "   # return(len(next_gen))\n",
    "\n",
    "x = np.array(sim_fish(np.array([8]), 100))\n",
    "\n",
    "\n",
    "new = pd.DataFrame(x[:,1], index = x[:,0], columns = ['y'])\n",
    "new['log_y'] = np.log(new.y)\n",
    "#new.plot()\n",
    "new['log_y'].plot()"
   ]
  },
  {
   "cell_type": "markdown",
   "id": "17bfef86",
   "metadata": {},
   "source": [
    "## Load Text Data\n"
   ]
  },
  {
   "cell_type": "code",
   "execution_count": 78,
   "id": "bff0e1a4",
   "metadata": {},
   "outputs": [
    {
     "data": {
      "text/html": [
       "<div>\n",
       "<style scoped>\n",
       "    .dataframe tbody tr th:only-of-type {\n",
       "        vertical-align: middle;\n",
       "    }\n",
       "\n",
       "    .dataframe tbody tr th {\n",
       "        vertical-align: top;\n",
       "    }\n",
       "\n",
       "    .dataframe thead th {\n",
       "        text-align: right;\n",
       "    }\n",
       "</style>\n",
       "<table border=\"1\" class=\"dataframe\">\n",
       "  <thead>\n",
       "    <tr style=\"text-align: right;\">\n",
       "      <th></th>\n",
       "      <th>1</th>\n",
       "      <th>4</th>\n",
       "      <th>1.1</th>\n",
       "      <th>1.2</th>\n",
       "      <th>1.3</th>\n",
       "      <th>1.4</th>\n",
       "      <th>1.5</th>\n",
       "      <th>1.6</th>\n",
       "      <th>1.7</th>\n",
       "      <th>4.1</th>\n",
       "      <th>...</th>\n",
       "      <th>1.206</th>\n",
       "      <th>2.22</th>\n",
       "      <th>5.18</th>\n",
       "      <th>1.207</th>\n",
       "      <th>1.208</th>\n",
       "      <th>4.20</th>\n",
       "      <th>1.209</th>\n",
       "      <th>3.24</th>\n",
       "      <th>1.210</th>\n",
       "      <th>1.211</th>\n",
       "    </tr>\n",
       "  </thead>\n",
       "  <tbody>\n",
       "  </tbody>\n",
       "</table>\n",
       "<p>0 rows × 300 columns</p>\n",
       "</div>"
      ],
      "text/plain": [
       "Empty DataFrame\n",
       "Columns: [1, 4, 1.1, 1.2, 1.3, 1.4, 1.5, 1.6, 1.7, 4.1, 3, 1.8, 1.9, 3.1, 5, 1.10, 5.1, 3.2, 2, 1.11, 1.12, 2.1, 3.3, 1.13, 1.14, 5.2, 3.4, 1.15, 5.3, 1.16, 1.17, 2.2, 1.18, 2.3, 1.19, 1.20, 3.5, 1.21, 5.4, 1.22, 1.23, 1.24, 3.6, 1.25, 1.26, 1.27, 1.28, 1.29, 1.30, 4.2, 5.5, 3.7, 1.31, 1.32, 1.33, 1.34, 1.35, 1.36, 2.4, 1.37, 1.38, 1.39, 1.40, 4.3, 4.4, 4.5, 1.41, 1.42, 1.43, 1.44, 5.6, 1.45, 2.5, 4.6, 1.46, 1.47, 4.7, 1.48, 2.6, 1.49, 1.50, 1.51, 2.7, 1.52, 5.7, 1.53, 1.54, 1.55, 3.8, 4.8, 1.56, 1.57, 1.58, 3.9, 2.8, 1.59, 1.60, 1.61, 4.9, 1.62, ...]\n",
       "Index: []\n",
       "\n",
       "[0 rows x 300 columns]"
      ]
     },
     "execution_count": 78,
     "metadata": {},
     "output_type": "execute_result"
    }
   ],
   "source": [
    "# Pandas confuses the rows for columns\n",
    "import pandas as pd\n",
    "x = pd.read_csv('input6.txt', dtype = \"int\")\n",
    "x"
   ]
  },
  {
   "cell_type": "code",
   "execution_count": 84,
   "id": "30bb83ed",
   "metadata": {},
   "outputs": [
    {
     "data": {
      "text/plain": [
       "array([1, 4, 1, 1, 1, 1, 1, 1, 1, 4, 3, 1, 1, 3, 5, 1, 5, 3, 2, 1, 1, 2,\n",
       "       3, 1, 1, 5, 3, 1, 5, 1, 1, 2, 1, 2, 1, 1, 3, 1, 5, 1, 1, 1, 3, 1,\n",
       "       1, 1, 1, 1, 1, 4, 5, 3, 1, 1, 1, 1, 1, 1, 2, 1, 1, 1, 1, 4, 4, 4,\n",
       "       1, 1, 1, 1, 5, 1, 2, 4, 1, 1, 4, 1, 2, 1, 1, 1, 2, 1, 5, 1, 1, 1,\n",
       "       3, 4, 1, 1, 1, 3, 2, 1, 1, 1, 4, 1, 1, 1, 5, 1, 1, 4, 1, 1, 2, 1,\n",
       "       4, 1, 1, 1, 3, 1, 1, 1, 1, 1, 3, 1, 3, 1, 1, 2, 1, 4, 1, 1, 1, 1,\n",
       "       3, 1, 1, 1, 1, 1, 1, 2, 1, 3, 1, 1, 1, 1, 4, 1, 1, 1, 1, 1, 1, 1,\n",
       "       1, 1, 1, 1, 1, 2, 1, 1, 5, 1, 1, 1, 2, 2, 1, 1, 3, 5, 1, 1, 1, 1,\n",
       "       3, 1, 3, 3, 1, 1, 1, 1, 3, 5, 2, 1, 1, 1, 1, 5, 1, 1, 1, 1, 1, 1,\n",
       "       1, 2, 1, 2, 1, 1, 1, 2, 1, 1, 1, 1, 1, 2, 1, 1, 1, 1, 1, 5, 1, 4,\n",
       "       3, 3, 1, 3, 4, 1, 1, 1, 1, 1, 1, 1, 1, 1, 1, 4, 3, 5, 1, 1, 1, 1,\n",
       "       1, 1, 1, 1, 1, 1, 1, 1, 1, 5, 2, 1, 4, 1, 1, 1, 1, 1, 1, 1, 1, 1,\n",
       "       1, 1, 1, 1, 5, 1, 1, 1, 1, 1, 1, 1, 1, 2, 1, 4, 4, 1, 1, 1, 1, 1,\n",
       "       1, 1, 5, 1, 1, 2, 5, 1, 1, 4, 1, 3, 1, 1])"
      ]
     },
     "execution_count": 84,
     "metadata": {},
     "output_type": "execute_result"
    }
   ],
   "source": [
    "# Numpy loadtxt worked\n",
    "gen0 = np.loadtxt('input6.txt', dtype = 'int64', delimiter = ',')\n",
    "gen0"
   ]
  },
  {
   "cell_type": "code",
   "execution_count": 85,
   "id": "de8731bf",
   "metadata": {},
   "outputs": [
    {
     "data": {
      "text/plain": [
       "393019"
      ]
     },
     "execution_count": 85,
     "metadata": {},
     "output_type": "execute_result"
    }
   ],
   "source": [
    "gen_list = [gen0]\n",
    "next_gen = gen0\n",
    "for i in range(80):\n",
    "    \n",
    "    new_gen = np.repeat(8, sum(next_gen == 0))\n",
    "    next_gen = next_gen - 1\n",
    "    next_gen[next_gen <0 ] = 6\n",
    "    next_gen = np.concatenate([next_gen, new_gen])\n",
    "    gen_list.append(next_gen)\n",
    "\n",
    "len(gen_list[-1])"
   ]
  },
  {
   "cell_type": "markdown",
   "id": "ced61352",
   "metadata": {},
   "source": [
    "##  Part 2"
   ]
  },
  {
   "cell_type": "code",
   "execution_count": 87,
   "id": "6b4d9940",
   "metadata": {},
   "outputs": [
    {
     "ename": "KeyboardInterrupt",
     "evalue": "",
     "output_type": "error",
     "traceback": [
      "\u001b[0;31m---------------------------------------------------------------------------\u001b[0m",
      "\u001b[0;31mKeyboardInterrupt\u001b[0m                         Traceback (most recent call last)",
      "\u001b[0;32m<ipython-input-87-ccd61972f520>\u001b[0m in \u001b[0;36m<module>\u001b[0;34m\u001b[0m\n\u001b[0;32m----> 1\u001b[0;31m \u001b[0mgen_256\u001b[0m \u001b[0;34m=\u001b[0m \u001b[0msim_fish\u001b[0m\u001b[0;34m(\u001b[0m\u001b[0mnp\u001b[0m\u001b[0;34m.\u001b[0m\u001b[0marray\u001b[0m\u001b[0;34m(\u001b[0m\u001b[0;34m[\u001b[0m\u001b[0;36m3\u001b[0m\u001b[0;34m,\u001b[0m\u001b[0;36m4\u001b[0m\u001b[0;34m,\u001b[0m\u001b[0;36m3\u001b[0m\u001b[0;34m,\u001b[0m\u001b[0;36m1\u001b[0m\u001b[0;34m,\u001b[0m\u001b[0;36m2\u001b[0m\u001b[0;34m]\u001b[0m\u001b[0;34m)\u001b[0m\u001b[0;34m,\u001b[0m \u001b[0;36m256\u001b[0m\u001b[0;34m)\u001b[0m\u001b[0;34m\u001b[0m\u001b[0;34m\u001b[0m\u001b[0m\n\u001b[0m",
      "\u001b[0;32m<ipython-input-86-eee0c28ef021>\u001b[0m in \u001b[0;36msim_fish\u001b[0;34m(gen0, days)\u001b[0m\n\u001b[1;32m      6\u001b[0m \u001b[0;34m\u001b[0m\u001b[0m\n\u001b[1;32m      7\u001b[0m     \u001b[0;32mfor\u001b[0m \u001b[0mi\u001b[0m \u001b[0;32min\u001b[0m \u001b[0mrange\u001b[0m\u001b[0;34m(\u001b[0m\u001b[0mdays\u001b[0m\u001b[0;34m)\u001b[0m\u001b[0;34m:\u001b[0m\u001b[0;34m\u001b[0m\u001b[0;34m\u001b[0m\u001b[0m\n\u001b[0;32m----> 8\u001b[0;31m         \u001b[0mnew_gen\u001b[0m \u001b[0;34m=\u001b[0m \u001b[0mnp\u001b[0m\u001b[0;34m.\u001b[0m\u001b[0mrepeat\u001b[0m\u001b[0;34m(\u001b[0m\u001b[0;36m8\u001b[0m\u001b[0;34m,\u001b[0m \u001b[0msum\u001b[0m\u001b[0;34m(\u001b[0m\u001b[0mnext_gen\u001b[0m \u001b[0;34m==\u001b[0m \u001b[0;36m0\u001b[0m\u001b[0;34m)\u001b[0m\u001b[0;34m)\u001b[0m \u001b[0;31m# Create new fish from ones ready to spawn\u001b[0m\u001b[0;34m\u001b[0m\u001b[0;34m\u001b[0m\u001b[0m\n\u001b[0m\u001b[1;32m      9\u001b[0m         \u001b[0mnext_gen\u001b[0m \u001b[0;34m=\u001b[0m \u001b[0mnext_gen\u001b[0m \u001b[0;34m-\u001b[0m \u001b[0;36m1\u001b[0m \u001b[0;31m# Subtract days left till next spawn\u001b[0m\u001b[0;34m\u001b[0m\u001b[0;34m\u001b[0m\u001b[0m\n\u001b[1;32m     10\u001b[0m         \u001b[0mnext_gen\u001b[0m\u001b[0;34m[\u001b[0m\u001b[0mnext_gen\u001b[0m \u001b[0;34m<\u001b[0m\u001b[0;36m0\u001b[0m \u001b[0;34m]\u001b[0m \u001b[0;34m=\u001b[0m \u001b[0;36m6\u001b[0m \u001b[0;31m#Reset days for fish that have spawned\u001b[0m\u001b[0;34m\u001b[0m\u001b[0;34m\u001b[0m\u001b[0m\n",
      "\u001b[0;31mKeyboardInterrupt\u001b[0m: "
     ]
    }
   ],
   "source": [
    "gen_256 = sim_fish(np.array([3,4,3,1,2]), 256)\n"
   ]
  },
  {
   "cell_type": "code",
   "execution_count": null,
   "id": "3a74655d",
   "metadata": {},
   "outputs": [],
   "source": []
  },
  {
   "cell_type": "markdown",
   "id": "3af60e98",
   "metadata": {},
   "source": [
    "## Useful Python Functions\n",
    "### Numpy\n",
    " - np.concatenate( ) # use axis argument\n",
    " \n",
    " - np.arange( ) #To generate arrays or load from lists\n",
    " - np.array( )\n",
    " - np.repeat( )\n",
    " - np.ones( )\n",
    " - np.zeros( )\n",
    " \n",
    " - np.nan( )\n",
    " \n",
    " - np.sum( ) # use axis = 0, 1 for rows and columns respectively (3d-arrays?)\n",
    " - np.mean( )\n",
    " - np.max( )\n",
    " - np.min( )\n",
    " \n",
    " - np.where( )\n",
    " - np.argmax( ) # Returns indices\n",
    " - np.argmin( ) # Returns indices\n",
    " \n",
    "### String Manipulation\n",
    " - join( )\n",
    " - split( )\n",
    " - replace( )\n",
    " - strip( )\n",
    " \n",
    "### Reading Files\n",
    " - read( )\n",
    " - readline( )\n",
    " - readlines( )\n",
    " - open( )\n",
    " - close( )\n",
    " \n",
    "### Other Native Python Functions\n",
    " - append( )\n",
    " - range( )\n",
    " - list( )\n",
    " - int( )\n",
    " - "
   ]
  },
  {
   "cell_type": "code",
   "execution_count": null,
   "id": "c1748fb2",
   "metadata": {},
   "outputs": [],
   "source": []
  }
 ],
 "metadata": {
  "kernelspec": {
   "display_name": "Python 3",
   "language": "python",
   "name": "python3"
  },
  "language_info": {
   "codemirror_mode": {
    "name": "ipython",
    "version": 3
   },
   "file_extension": ".py",
   "mimetype": "text/x-python",
   "name": "python",
   "nbconvert_exporter": "python",
   "pygments_lexer": "ipython3",
   "version": "3.8.8"
  }
 },
 "nbformat": 4,
 "nbformat_minor": 5
}
