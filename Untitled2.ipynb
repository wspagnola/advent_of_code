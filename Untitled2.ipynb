{
 "cells": [
  {
   "cell_type": "markdown",
   "id": "daa1fd5d",
   "metadata": {},
   "source": [
    "### Load Test Data"
   ]
  },
  {
   "cell_type": "code",
   "execution_count": 3,
   "id": "311e38cf",
   "metadata": {},
   "outputs": [],
   "source": [
    "import numpy as np"
   ]
  },
  {
   "cell_type": "code",
   "execution_count": 7,
   "id": "7e284177",
   "metadata": {},
   "outputs": [],
   "source": [
    "coord_lst = [[[0,9], [5,9]],\n",
    "             [[8,0], [0,8]],\n",
    "             [[9,4], [3,4]],\n",
    "             [[2,2], [2,1]],\n",
    "             [[7,0], [7,4]],\n",
    "             [[6,4], [2,0]],\n",
    "             [[0,9], [2,9]],\n",
    "             [[3,4], [1,4]],\n",
    "             [[0,0], [8,8]],\n",
    "             [[5,5], [8,2]]]"
   ]
  },
  {
   "cell_type": "code",
   "execution_count": 10,
   "id": "3b32e22d",
   "metadata": {},
   "outputs": [
    {
     "data": {
      "text/plain": [
       "(10, 2, 2)"
      ]
     },
     "execution_count": 10,
     "metadata": {},
     "output_type": "execute_result"
    }
   ],
   "source": [
    "coord = np.array(coord_lst)\n",
    "coord.shape"
   ]
  },
  {
   "cell_type": "code",
   "execution_count": 17,
   "id": "77793e46",
   "metadata": {},
   "outputs": [
    {
     "name": "stdout",
     "output_type": "stream",
     "text": [
      "0\n",
      "9\n",
      "5\n",
      "9\n"
     ]
    }
   ],
   "source": [
    "print(coord[0,0,0])\n",
    "print(coord[0,0,1])\n",
    "print(coord[0,1,0])\n",
    "print(coord[0,1,1])"
   ]
  },
  {
   "cell_type": "code",
   "execution_count": 19,
   "id": "2567769c",
   "metadata": {},
   "outputs": [
    {
     "data": {
      "text/plain": [
       "array([[5, 9],\n",
       "       [0, 8],\n",
       "       [3, 4],\n",
       "       [2, 1],\n",
       "       [7, 4],\n",
       "       [2, 0],\n",
       "       [2, 9],\n",
       "       [1, 4],\n",
       "       [8, 8],\n",
       "       [8, 2]])"
      ]
     },
     "execution_count": 19,
     "metadata": {},
     "output_type": "execute_result"
    }
   ],
   "source": [
    "coord[:,1, :]"
   ]
  },
  {
   "cell_type": "code",
   "execution_count": 24,
   "id": "86fca8e8",
   "metadata": {},
   "outputs": [
    {
     "name": "stdout",
     "output_type": "stream",
     "text": [
      "x: [0 9], y [5 9]\n",
      "x: [8 0], y [0 8]\n",
      "x: [9 4], y [3 4]\n",
      "x: [2 2], y [2 1]\n",
      "x: [7 0], y [7 4]\n",
      "x: [6 4], y [2 0]\n",
      "x: [0 9], y [2 9]\n",
      "x: [3 4], y [1 4]\n",
      "x: [0 0], y [8 8]\n",
      "x: [5 5], y [8 2]\n"
     ]
    }
   ],
   "source": [
    "for x,y in coord:\n",
    "    print(\"x: {}, y {}\".format(x,y))"
   ]
  },
  {
   "cell_type": "code",
   "execution_count": 37,
   "id": "dec62845",
   "metadata": {},
   "outputs": [
    {
     "data": {
      "text/plain": [
       "array([1, 0, 1, 1, 1, 0, 1, 1, 0, 0])"
      ]
     },
     "execution_count": 37,
     "metadata": {},
     "output_type": "execute_result"
    }
   ],
   "source": [
    "# Find horizontal and vertical lines\n",
    "row_idx = np.sum((coord[:,0,:] == coord[:,1,:])*1, axis = 1)\n",
    "row_idx"
   ]
  },
  {
   "cell_type": "code",
   "execution_count": 42,
   "id": "d65e9698",
   "metadata": {},
   "outputs": [
    {
     "data": {
      "text/plain": [
       "array([[[0, 9],\n",
       "        [5, 9]],\n",
       "\n",
       "       [[9, 4],\n",
       "        [3, 4]],\n",
       "\n",
       "       [[2, 2],\n",
       "        [2, 1]],\n",
       "\n",
       "       [[7, 0],\n",
       "        [7, 4]],\n",
       "\n",
       "       [[0, 9],\n",
       "        [2, 9]],\n",
       "\n",
       "       [[3, 4],\n",
       "        [1, 4]]])"
      ]
     },
     "execution_count": 42,
     "metadata": {},
     "output_type": "execute_result"
    }
   ],
   "source": [
    "# Keep rows for coord 1\n",
    "coord1 = coord[row_idx == 1, :, :]\n",
    "coord1"
   ]
  },
  {
   "cell_type": "code",
   "execution_count": 121,
   "id": "9c606049",
   "metadata": {},
   "outputs": [
    {
     "data": {
      "text/plain": [
       "array([[0, 0, 0, 0, 0, 0, 0, 0, 0],\n",
       "       [0, 0, 0, 0, 0, 0, 0, 0, 0],\n",
       "       [0, 0, 0, 0, 0, 0, 0, 0, 0],\n",
       "       [0, 0, 0, 0, 0, 0, 0, 0, 0],\n",
       "       [0, 0, 0, 0, 0, 0, 0, 0, 0],\n",
       "       [0, 0, 0, 0, 0, 0, 0, 0, 0],\n",
       "       [0, 0, 0, 0, 0, 0, 0, 0, 0],\n",
       "       [0, 0, 0, 0, 0, 0, 0, 0, 0],\n",
       "       [0, 0, 0, 0, 0, 0, 0, 0, 0]])"
      ]
     },
     "execution_count": 121,
     "metadata": {},
     "output_type": "execute_result"
    }
   ],
   "source": [
    "grid = np.zeros([9, 9], dtype = int)\n",
    "grid"
   ]
  },
  {
   "cell_type": "code",
   "execution_count": 168,
   "id": "8abe7631",
   "metadata": {},
   "outputs": [
    {
     "name": "stdout",
     "output_type": "stream",
     "text": [
      "[[0 0 0 0 0 0 0 0 0]\n",
      " [0 0 0 0 0 0 0 0 0]\n",
      " [0 1 1 1 1 1 1 1 0]\n",
      " [0 0 0 0 0 0 0 0 0]\n",
      " [0 0 0 0 0 0 0 0 0]\n",
      " [0 0 0 0 0 0 0 0 0]\n",
      " [0 0 0 0 0 0 0 0 0]\n",
      " [0 0 0 0 0 0 0 0 0]\n",
      " [0 0 0 0 0 0 0 0 0]]\n"
     ]
    }
   ],
   "source": [
    "new_grid = grid\n",
    "new_grid[3:1, 4] = 1 \n",
    "print(new_grid)"
   ]
  },
  {
   "cell_type": "raw",
   "id": "4cbe0ce2",
   "metadata": {},
   "source": []
  },
  {
   "cell_type": "code",
   "execution_count": 52,
   "id": "e11d82b2",
   "metadata": {},
   "outputs": [
    {
     "data": {
      "text/plain": [
       "9"
      ]
     },
     "execution_count": 52,
     "metadata": {},
     "output_type": "execute_result"
    }
   ],
   "source": [
    "coord1[0]\n",
    "coord1[0].shape\n",
    "coord1[0][0, 1]"
   ]
  },
  {
   "cell_type": "code",
   "execution_count": null,
   "id": "0bceb4d2",
   "metadata": {},
   "outputs": [],
   "source": [
    "grid[ x[0,0]:x[0,1], x[1,0] - 1,] = 1 "
   ]
  },
  {
   "cell_type": "code",
   "execution_count": 202,
   "id": "0cb5a13f",
   "metadata": {},
   "outputs": [
    {
     "name": "stdout",
     "output_type": "stream",
     "text": [
      "Vert\n",
      "[[0 0 0 0 0 0 0 1 0 0]\n",
      " [0 0 0 0 0 0 0 1 0 0]\n",
      " [0 0 0 0 0 0 0 1 0 0]\n",
      " [0 0 0 0 0 0 0 1 0 0]\n",
      " [0 0 0 0 0 0 0 0 0 0]\n",
      " [0 0 0 0 0 0 0 0 0 0]\n",
      " [0 0 0 0 0 0 0 0 0 0]\n",
      " [0 0 0 0 0 0 0 0 0 0]\n",
      " [0 0 0 0 0 0 0 0 0 0]\n",
      " [0 0 0 0 0 0 0 0 0 0]]\n",
      "[[7 0]\n",
      " [7 4]]\n"
     ]
    }
   ],
   "source": [
    "def add_coord(x, n = 10):\n",
    "    new_grid = np.zeros([n,n], dtype = int)\n",
    "    #x is a 2 by 2 array\n",
    "    hor = abs(x[1,0] - x[0,0])\n",
    "    ver = abs(x[1,1] - x[0,1])\n",
    "    if hor > 0:\n",
    "        end_pt = max(x[1,0], x[0,0]) \n",
    "        str_pt = min(x[1,0], x[0,0])\n",
    "        new_grid[ x[0,1], str_pt:end_pt,  ] = 1 \n",
    "        print(new_grid)\n",
    "        return(new_grid)\n",
    "    elif ver > 0:\n",
    "        print('Vert')\n",
    "        end_pt = max(x[0,1], x[1,1]) \n",
    "        str_pt = min(x[0,1], x[1,1])\n",
    "        new_grid[  str_pt:end_pt, x[1,0]  ] = 1 \n",
    "        new_grid[ x[0,1]:x[1,1], x[1,0] ] = 1 \n",
    "        return(new_grid)\n",
    "\n"
   ]
  },
  {
   "cell_type": "code",
   "execution_count": 206,
   "id": "5149fcaf",
   "metadata": {},
   "outputs": [
    {
     "name": "stdout",
     "output_type": "stream",
     "text": [
      "[[0 9]\n",
      " [5 9]]\n",
      "[[0 0 0 0 0 0 0 0 0 0]\n",
      " [0 0 0 0 0 0 0 0 0 0]\n",
      " [0 0 0 0 0 0 0 0 0 0]\n",
      " [0 0 0 0 0 0 0 0 0 0]\n",
      " [0 0 0 0 0 0 0 0 0 0]\n",
      " [0 0 0 0 0 0 0 0 0 0]\n",
      " [0 0 0 0 0 0 0 0 0 0]\n",
      " [0 0 0 0 0 0 0 0 0 0]\n",
      " [0 0 0 0 0 0 0 0 0 0]\n",
      " [1 1 1 1 1 0 0 0 0 0]]\n",
      "[[8 0]\n",
      " [0 8]]\n",
      "[[1 1 1 1 1 1 1 1 0 0]\n",
      " [0 0 0 0 0 0 0 0 0 0]\n",
      " [0 0 0 0 0 0 0 0 0 0]\n",
      " [0 0 0 0 0 0 0 0 0 0]\n",
      " [0 0 0 0 0 0 0 0 0 0]\n",
      " [0 0 0 0 0 0 0 0 0 0]\n",
      " [0 0 0 0 0 0 0 0 0 0]\n",
      " [0 0 0 0 0 0 0 0 0 0]\n",
      " [0 0 0 0 0 0 0 0 0 0]\n",
      " [0 0 0 0 0 0 0 0 0 0]]\n",
      "[[9 4]\n",
      " [3 4]]\n",
      "[[0 0 0 0 0 0 0 0 0 0]\n",
      " [0 0 0 0 0 0 0 0 0 0]\n",
      " [0 0 0 0 0 0 0 0 0 0]\n",
      " [0 0 0 0 0 0 0 0 0 0]\n",
      " [0 0 0 1 1 1 1 1 1 0]\n",
      " [0 0 0 0 0 0 0 0 0 0]\n",
      " [0 0 0 0 0 0 0 0 0 0]\n",
      " [0 0 0 0 0 0 0 0 0 0]\n",
      " [0 0 0 0 0 0 0 0 0 0]\n",
      " [0 0 0 0 0 0 0 0 0 0]]\n",
      "[[2 2]\n",
      " [2 1]]\n",
      "Vert\n",
      "[[7 0]\n",
      " [7 4]]\n",
      "Vert\n",
      "[[6 4]\n",
      " [2 0]]\n",
      "[[0 0 0 0 0 0 0 0 0 0]\n",
      " [0 0 0 0 0 0 0 0 0 0]\n",
      " [0 0 0 0 0 0 0 0 0 0]\n",
      " [0 0 0 0 0 0 0 0 0 0]\n",
      " [0 0 1 1 1 1 0 0 0 0]\n",
      " [0 0 0 0 0 0 0 0 0 0]\n",
      " [0 0 0 0 0 0 0 0 0 0]\n",
      " [0 0 0 0 0 0 0 0 0 0]\n",
      " [0 0 0 0 0 0 0 0 0 0]\n",
      " [0 0 0 0 0 0 0 0 0 0]]\n",
      "[[0 9]\n",
      " [2 9]]\n",
      "[[0 0 0 0 0 0 0 0 0 0]\n",
      " [0 0 0 0 0 0 0 0 0 0]\n",
      " [0 0 0 0 0 0 0 0 0 0]\n",
      " [0 0 0 0 0 0 0 0 0 0]\n",
      " [0 0 0 0 0 0 0 0 0 0]\n",
      " [0 0 0 0 0 0 0 0 0 0]\n",
      " [0 0 0 0 0 0 0 0 0 0]\n",
      " [0 0 0 0 0 0 0 0 0 0]\n",
      " [0 0 0 0 0 0 0 0 0 0]\n",
      " [1 1 0 0 0 0 0 0 0 0]]\n",
      "[[3 4]\n",
      " [1 4]]\n",
      "[[0 0 0 0 0 0 0 0 0 0]\n",
      " [0 0 0 0 0 0 0 0 0 0]\n",
      " [0 0 0 0 0 0 0 0 0 0]\n",
      " [0 0 0 0 0 0 0 0 0 0]\n",
      " [0 1 1 0 0 0 0 0 0 0]\n",
      " [0 0 0 0 0 0 0 0 0 0]\n",
      " [0 0 0 0 0 0 0 0 0 0]\n",
      " [0 0 0 0 0 0 0 0 0 0]\n",
      " [0 0 0 0 0 0 0 0 0 0]\n",
      " [0 0 0 0 0 0 0 0 0 0]]\n",
      "[[0 0]\n",
      " [8 8]]\n",
      "[[1 1 1 1 1 1 1 1 0 0]\n",
      " [0 0 0 0 0 0 0 0 0 0]\n",
      " [0 0 0 0 0 0 0 0 0 0]\n",
      " [0 0 0 0 0 0 0 0 0 0]\n",
      " [0 0 0 0 0 0 0 0 0 0]\n",
      " [0 0 0 0 0 0 0 0 0 0]\n",
      " [0 0 0 0 0 0 0 0 0 0]\n",
      " [0 0 0 0 0 0 0 0 0 0]\n",
      " [0 0 0 0 0 0 0 0 0 0]\n",
      " [0 0 0 0 0 0 0 0 0 0]]\n",
      "[[5 5]\n",
      " [8 2]]\n",
      "[[0 0 0 0 0 0 0 0 0 0]\n",
      " [0 0 0 0 0 0 0 0 0 0]\n",
      " [0 0 0 0 0 0 0 0 0 0]\n",
      " [0 0 0 0 0 0 0 0 0 0]\n",
      " [0 0 0 0 0 0 0 0 0 0]\n",
      " [0 0 0 0 0 1 1 1 0 0]\n",
      " [0 0 0 0 0 0 0 0 0 0]\n",
      " [0 0 0 0 0 0 0 0 0 0]\n",
      " [0 0 0 0 0 0 0 0 0 0]\n",
      " [0 0 0 0 0 0 0 0 0 0]]\n"
     ]
    }
   ],
   "source": [
    "grid_lst = []\n",
    "for x in coord:\n",
    "    print(x)\n",
    "    grid_lst.append(add_coord(x))"
   ]
  },
  {
   "cell_type": "code",
   "execution_count": 64,
   "id": "a4c2d623",
   "metadata": {},
   "outputs": [
    {
     "data": {
      "text/plain": [
       "array([1, 1, 1, 1, 1, 1, 1])"
      ]
     },
     "execution_count": 64,
     "metadata": {},
     "output_type": "execute_result"
    }
   ],
   "source": [
    "8 - 1\n",
    "np.ones(7, dtype = int)"
   ]
  },
  {
   "cell_type": "code",
   "execution_count": null,
   "id": "0dd073b8",
   "metadata": {},
   "outputs": [],
   "source": []
  }
 ],
 "metadata": {
  "kernelspec": {
   "display_name": "Python 3",
   "language": "python",
   "name": "python3"
  },
  "language_info": {
   "codemirror_mode": {
    "name": "ipython",
    "version": 3
   },
   "file_extension": ".py",
   "mimetype": "text/x-python",
   "name": "python",
   "nbconvert_exporter": "python",
   "pygments_lexer": "ipython3",
   "version": "3.8.8"
  }
 },
 "nbformat": 4,
 "nbformat_minor": 5
}
