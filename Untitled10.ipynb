{
 "cells": [
  {
   "cell_type": "code",
   "execution_count": 7,
   "id": "c1b76de5",
   "metadata": {},
   "outputs": [],
   "source": [
    "import numpy as np\n",
    "import os"
   ]
  },
  {
   "cell_type": "code",
   "execution_count": 37,
   "id": "1cbb24b1",
   "metadata": {},
   "outputs": [],
   "source": [
    "test_mat = np.array([['#','.','.','#','.'],\n",
    "                ['#','.','.','.','.'],\n",
    "                ['#','#','.','.','#'],\n",
    "                ['.','.','#','.','.'],\n",
    "                ['.','.','#','#','#']])"
   ]
  },
  {
   "cell_type": "code",
   "execution_count": 20,
   "id": "f0b6bea6",
   "metadata": {},
   "outputs": [
    {
     "data": {
      "text/plain": [
       "array(['.', '.', '#', '.', '#'], dtype='<U1')"
      ]
     },
     "execution_count": 20,
     "metadata": {},
     "output_type": "execute_result"
    }
   ],
   "source": [
    "decode = []\n",
    "with open('input20_test.txt') as f:\n",
    "    lines = f.readlines()\n",
    "    for l in lines:\n",
    "        for char in l.strip():\n",
    "            decode.append(char)\n",
    "\n",
    "arr = np.array(decode[1:len(decode)])\n",
    "arr[0:5]"
   ]
  },
  {
   "cell_type": "code",
   "execution_count": 43,
   "id": "27ab0016",
   "metadata": {},
   "outputs": [],
   "source": [
    "def check(mat, i, j):\n",
    "    l = i+1\n",
    "    r = i-1\n",
    "    u =j+1\n",
    "    d = j-1\n",
    "\n",
    "    z = [mat[l,u], mat[i, u], mat[r, u], \n",
    "         mat[l, j], mat[i, j], mat[r, j], \n",
    "         mat[l, d], mat[i, d], mat[r, d]]\n",
    "    return(z)"
   ]
  },
  {
   "cell_type": "code",
   "execution_count": 45,
   "id": "9643f974",
   "metadata": {},
   "outputs": [
    {
     "data": {
      "text/plain": [
       "['.', '.', '.', '#', '.', '.', '.', '#', '.']"
      ]
     },
     "execution_count": 45,
     "metadata": {},
     "output_type": "execute_result"
    }
   ],
   "source": [
    "ind = check(test_mat, 2, 2)\n",
    "ind"
   ]
  },
  {
   "cell_type": "code",
   "execution_count": 46,
   "id": "d4d8c2c2",
   "metadata": {},
   "outputs": [
    {
     "data": {
      "text/plain": [
       "{'.': 0, '#': 1}"
      ]
     },
     "execution_count": 46,
     "metadata": {},
     "output_type": "execute_result"
    }
   ],
   "source": [
    "bin_dict = {'.': 0, '#': 1}\n",
    "bin_dict"
   ]
  },
  {
   "cell_type": "code",
   "execution_count": 60,
   "id": "4a138520",
   "metadata": {},
   "outputs": [],
   "source": [
    "bin_exp = np.arange(len(ind))[::-1]"
   ]
  },
  {
   "cell_type": "code",
   "execution_count": 61,
   "id": "1c266e9c",
   "metadata": {},
   "outputs": [
    {
     "data": {
      "text/plain": [
       "array([ 0,  0,  0, 32,  0,  0,  0,  2,  0])"
      ]
     },
     "execution_count": 61,
     "metadata": {},
     "output_type": "execute_result"
    }
   ],
   "source": [
    "bin_arr = np.array([bin_dict[code] for code in ind])\n",
    "bin_arr*(2**bin_exp)"
   ]
  },
  {
   "cell_type": "code",
   "execution_count": 63,
   "id": "40c77561",
   "metadata": {},
   "outputs": [],
   "source": [
    "code_idx = np.sum(bin_arr*(2**bin_exp))"
   ]
  },
  {
   "cell_type": "code",
   "execution_count": 64,
   "id": "c717ede5",
   "metadata": {},
   "outputs": [
    {
     "data": {
      "text/plain": [
       "'#'"
      ]
     },
     "execution_count": 64,
     "metadata": {},
     "output_type": "execute_result"
    }
   ],
   "source": [
    "arr[code_idx]"
   ]
  },
  {
   "cell_type": "markdown",
   "id": "1a17e722",
   "metadata": {},
   "source": [
    "## Array Sub-selection"
   ]
  },
  {
   "cell_type": "code",
   "execution_count": 24,
   "id": "3f0c876c",
   "metadata": {},
   "outputs": [
    {
     "data": {
      "text/plain": [
       "array([['#', '#', '.', '.', '#'],\n",
       "       ['.', '.', '#', '.', '.']], dtype='<U1')"
      ]
     },
     "execution_count": 24,
     "metadata": {},
     "output_type": "execute_result"
    }
   ],
   "source": [
    "mat[2:4, 0:5]"
   ]
  },
  {
   "cell_type": "code",
   "execution_count": 26,
   "id": "2949bbec",
   "metadata": {},
   "outputs": [
    {
     "data": {
      "text/plain": [
       "array([['#', '#', '.', '.', '#'],\n",
       "       ['.', '.', '#', '.', '.']], dtype='<U1')"
      ]
     },
     "execution_count": 26,
     "metadata": {},
     "output_type": "execute_result"
    }
   ],
   "source": [
    "mat[2:4][0:5]"
   ]
  },
  {
   "cell_type": "code",
   "execution_count": 28,
   "id": "061872ff",
   "metadata": {},
   "outputs": [
    {
     "data": {
      "text/plain": [
       "array([['#', '#', '.', '.', '#']], dtype='<U1')"
      ]
     },
     "execution_count": 28,
     "metadata": {},
     "output_type": "execute_result"
    }
   ],
   "source": [
    "mat[2:3][0:4]"
   ]
  },
  {
   "cell_type": "code",
   "execution_count": 29,
   "id": "f411e12e",
   "metadata": {},
   "outputs": [
    {
     "data": {
      "text/plain": [
       "array(['#', '#', '.', '.'], dtype='<U1')"
      ]
     },
     "execution_count": 29,
     "metadata": {},
     "output_type": "execute_result"
    }
   ],
   "source": [
    "mat[2][0:4]"
   ]
  },
  {
   "cell_type": "code",
   "execution_count": null,
   "id": "a48b6149",
   "metadata": {},
   "outputs": [],
   "source": []
  }
 ],
 "metadata": {
  "kernelspec": {
   "display_name": "Python 3",
   "language": "python",
   "name": "python3"
  },
  "language_info": {
   "codemirror_mode": {
    "name": "ipython",
    "version": 3
   },
   "file_extension": ".py",
   "mimetype": "text/x-python",
   "name": "python",
   "nbconvert_exporter": "python",
   "pygments_lexer": "ipython3",
   "version": "3.8.8"
  }
 },
 "nbformat": 4,
 "nbformat_minor": 5
}
