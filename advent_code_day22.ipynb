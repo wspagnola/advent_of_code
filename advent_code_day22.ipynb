{
 "cells": [
  {
   "cell_type": "code",
   "execution_count": 6,
   "id": "1df1d768",
   "metadata": {},
   "outputs": [],
   "source": [
    "import numpy as np"
   ]
  },
  {
   "cell_type": "code",
   "execution_count": 7,
   "id": "2106e450",
   "metadata": {},
   "outputs": [],
   "source": [
    "lst = \"on x=10..12,y=10..12,z=10..12\\non x=11..13,y=11..13,z=11..13\\noff x=9..11,y=9..11,z=9..11\\non x=10..10,y=10..10,z=10..10\""
   ]
  },
  {
   "cell_type": "code",
   "execution_count": 8,
   "id": "aea97b46",
   "metadata": {},
   "outputs": [],
   "source": [
    "io = []\n",
    "coord = []\n",
    "\n",
    "for line in lst.split(\"\\n\"):\n",
    "    io.append(line.split()[0])\n",
    "    coord.append(line.split()[1])"
   ]
  },
  {
   "cell_type": "code",
   "execution_count": 63,
   "id": "6443eb87",
   "metadata": {},
   "outputs": [
    {
     "data": {
      "text/plain": [
       "array([[[0, 0, 0, ..., 0, 0, 0],\n",
       "        [0, 0, 0, ..., 0, 0, 0],\n",
       "        [0, 0, 0, ..., 0, 0, 0],\n",
       "        ...,\n",
       "        [0, 0, 0, ..., 0, 0, 0],\n",
       "        [0, 0, 0, ..., 0, 0, 0],\n",
       "        [0, 0, 0, ..., 0, 0, 0]],\n",
       "\n",
       "       [[0, 0, 0, ..., 0, 0, 0],\n",
       "        [0, 0, 0, ..., 0, 0, 0],\n",
       "        [0, 0, 0, ..., 0, 0, 0],\n",
       "        ...,\n",
       "        [0, 0, 0, ..., 0, 0, 0],\n",
       "        [0, 0, 0, ..., 0, 0, 0],\n",
       "        [0, 0, 0, ..., 0, 0, 0]],\n",
       "\n",
       "       [[0, 0, 0, ..., 0, 0, 0],\n",
       "        [0, 0, 0, ..., 0, 0, 0],\n",
       "        [0, 0, 0, ..., 0, 0, 0],\n",
       "        ...,\n",
       "        [0, 0, 0, ..., 0, 0, 0],\n",
       "        [0, 0, 0, ..., 0, 0, 0],\n",
       "        [0, 0, 0, ..., 0, 0, 0]],\n",
       "\n",
       "       ...,\n",
       "\n",
       "       [[0, 0, 0, ..., 0, 0, 0],\n",
       "        [0, 0, 0, ..., 0, 0, 0],\n",
       "        [0, 0, 0, ..., 0, 0, 0],\n",
       "        ...,\n",
       "        [0, 0, 0, ..., 0, 0, 0],\n",
       "        [0, 0, 0, ..., 0, 0, 0],\n",
       "        [0, 0, 0, ..., 0, 0, 0]],\n",
       "\n",
       "       [[0, 0, 0, ..., 0, 0, 0],\n",
       "        [0, 0, 0, ..., 0, 0, 0],\n",
       "        [0, 0, 0, ..., 0, 0, 0],\n",
       "        ...,\n",
       "        [0, 0, 0, ..., 0, 0, 0],\n",
       "        [0, 0, 0, ..., 0, 0, 0],\n",
       "        [0, 0, 0, ..., 0, 0, 0]],\n",
       "\n",
       "       [[0, 0, 0, ..., 0, 0, 0],\n",
       "        [0, 0, 0, ..., 0, 0, 0],\n",
       "        [0, 0, 0, ..., 0, 0, 0],\n",
       "        ...,\n",
       "        [0, 0, 0, ..., 0, 0, 0],\n",
       "        [0, 0, 0, ..., 0, 0, 0],\n",
       "        [0, 0, 0, ..., 0, 0, 0]]])"
      ]
     },
     "execution_count": 63,
     "metadata": {},
     "output_type": "execute_result"
    }
   ],
   "source": [
    "mat = np.zeros((20, 20, 20), dtype = int)\n",
    "mat[10:12+1, 10:12+1, 10:12+1] = 1\n",
    "#mat.shape\n",
    "mat"
   ]
  },
  {
   "cell_type": "code",
   "execution_count": 10,
   "id": "b50a0703",
   "metadata": {},
   "outputs": [
    {
     "name": "stdout",
     "output_type": "stream",
     "text": [
      "10 10 10\n",
      "10 10 11\n",
      "10 10 12\n",
      "10 11 10\n",
      "10 11 11\n",
      "10 11 12\n",
      "10 12 10\n",
      "10 12 11\n",
      "10 12 12\n",
      "11 10 10\n",
      "11 10 11\n",
      "11 10 12\n",
      "11 11 10\n",
      "11 11 11\n",
      "11 11 12\n",
      "11 12 10\n",
      "11 12 11\n",
      "11 12 12\n",
      "12 10 10\n",
      "12 10 11\n",
      "12 10 12\n",
      "12 11 10\n",
      "12 11 11\n",
      "12 11 12\n",
      "12 12 10\n",
      "12 12 11\n",
      "12 12 12\n"
     ]
    }
   ],
   "source": [
    "for i in range(mat.shape[0]):\n",
    "    for j in range(mat.shape[1]):\n",
    "        for k in range(mat.shape[2]):\n",
    "            if mat[i, j, k] == 1:\n",
    "                 print(i,j, k) \n",
    "            else:\n",
    "                pass"
   ]
  },
  {
   "cell_type": "code",
   "execution_count": 14,
   "id": "f75cd5e6",
   "metadata": {},
   "outputs": [],
   "source": [
    "coord_split = [x.split(',') for x in coord]"
   ]
  },
  {
   "cell_type": "code",
   "execution_count": 25,
   "id": "1f4f85fb",
   "metadata": {},
   "outputs": [
    {
     "name": "stdout",
     "output_type": "stream",
     "text": [
      "['10..12']\n"
     ]
    }
   ],
   "source": [
    "# r m in re.finditer(r\"\\w+ly\\b\", text):\n",
    "import re\n",
    "z = re.findall(\"\\\\d+..\\\\d+\", coord_split[0][0])\n",
    "print(z)"
   ]
  },
  {
   "cell_type": "code",
   "execution_count": 31,
   "id": "62cc91ab",
   "metadata": {},
   "outputs": [
    {
     "data": {
      "text/plain": [
       "[['x=10..12', 'y=10..12', 'z=10..12'],\n",
       " ['x=11..13', 'y=11..13', 'z=11..13'],\n",
       " ['x=9..11', 'y=9..11', 'z=9..11'],\n",
       " ['x=10..10', 'y=10..10', 'z=10..10']]"
      ]
     },
     "execution_count": 31,
     "metadata": {},
     "output_type": "execute_result"
    }
   ],
   "source": [
    "coord_split"
   ]
  },
  {
   "cell_type": "code",
   "execution_count": 85,
   "id": "af91464a",
   "metadata": {},
   "outputs": [
    {
     "data": {
      "text/plain": [
       "array([[[10, 12],\n",
       "        [10, 12],\n",
       "        [10, 12]],\n",
       "\n",
       "       [[11, 13],\n",
       "        [11, 13],\n",
       "        [11, 13]],\n",
       "\n",
       "       [[ 9, 11],\n",
       "        [ 9, 11],\n",
       "        [ 9, 11]],\n",
       "\n",
       "       [[10, 10],\n",
       "        [10, 10],\n",
       "        [10, 10]]])"
      ]
     },
     "execution_count": 85,
     "metadata": {},
     "output_type": "execute_result"
    }
   ],
   "source": [
    "coord_mat"
   ]
  },
  {
   "cell_type": "code",
   "execution_count": 128,
   "id": "c2b5ee92",
   "metadata": {},
   "outputs": [
    {
     "data": {
      "text/plain": [
       "[[slice(10, 13, 1), slice(10, 13, 1), slice(10, 13, 1)],\n",
       " [slice(11, 14, 1), slice(11, 14, 1), slice(11, 14, 1)],\n",
       " [slice(9, 12, 1), slice(9, 12, 1), slice(9, 12, 1)],\n",
       " [slice(10, 11, 1), slice(10, 11, 1), slice(10, 11, 1)]]"
      ]
     },
     "execution_count": 128,
     "metadata": {},
     "output_type": "execute_result"
    }
   ],
   "source": [
    "coord_lst = []\n",
    "for row in coord_split:\n",
    "    elem_lst = []\n",
    "    for elem in row:\n",
    "        elem_lst.append(re.findall(\"\\\\d+..\\\\d+\", elem)[0].split(\"..\"))\n",
    "    coord_lst.append(elem_lst)\n",
    "\n",
    "idx_lst= []\n",
    "\n",
    "for row in coord_lst:\n",
    "    idx_row = []\n",
    "    for i in row:\n",
    "        i_num = np.array(i, dtype = int)\n",
    "        #print(i_num)\n",
    "        idx_row.append( slice(i_num[0], i_num[1]+1, 1))\n",
    "    idx_lst.append(idx_row)\n",
    "    \n",
    "idx_lst  "
   ]
  },
  {
   "cell_type": "code",
   "execution_count": 137,
   "id": "b4caa4c8",
   "metadata": {},
   "outputs": [
    {
     "data": {
      "text/plain": [
       "array([[[0, 0, 0, ..., 0, 0, 0],\n",
       "        [0, 0, 0, ..., 0, 0, 0],\n",
       "        [0, 0, 0, ..., 0, 0, 0],\n",
       "        ...,\n",
       "        [0, 0, 0, ..., 0, 0, 0],\n",
       "        [0, 0, 0, ..., 0, 0, 0],\n",
       "        [0, 0, 0, ..., 0, 0, 0]],\n",
       "\n",
       "       [[0, 0, 0, ..., 0, 0, 0],\n",
       "        [0, 0, 0, ..., 0, 0, 0],\n",
       "        [0, 0, 0, ..., 0, 0, 0],\n",
       "        ...,\n",
       "        [0, 0, 0, ..., 0, 0, 0],\n",
       "        [0, 0, 0, ..., 0, 0, 0],\n",
       "        [0, 0, 0, ..., 0, 0, 0]],\n",
       "\n",
       "       [[0, 0, 0, ..., 0, 0, 0],\n",
       "        [0, 0, 0, ..., 0, 0, 0],\n",
       "        [0, 0, 0, ..., 0, 0, 0],\n",
       "        ...,\n",
       "        [0, 0, 0, ..., 0, 0, 0],\n",
       "        [0, 0, 0, ..., 0, 0, 0],\n",
       "        [0, 0, 0, ..., 0, 0, 0]],\n",
       "\n",
       "       ...,\n",
       "\n",
       "       [[0, 0, 0, ..., 0, 0, 0],\n",
       "        [0, 0, 0, ..., 0, 0, 0],\n",
       "        [0, 0, 0, ..., 0, 0, 0],\n",
       "        ...,\n",
       "        [0, 0, 0, ..., 0, 0, 0],\n",
       "        [0, 0, 0, ..., 0, 0, 0],\n",
       "        [0, 0, 0, ..., 0, 0, 0]],\n",
       "\n",
       "       [[0, 0, 0, ..., 0, 0, 0],\n",
       "        [0, 0, 0, ..., 0, 0, 0],\n",
       "        [0, 0, 0, ..., 0, 0, 0],\n",
       "        ...,\n",
       "        [0, 0, 0, ..., 0, 0, 0],\n",
       "        [0, 0, 0, ..., 0, 0, 0],\n",
       "        [0, 0, 0, ..., 0, 0, 0]],\n",
       "\n",
       "       [[0, 0, 0, ..., 0, 0, 0],\n",
       "        [0, 0, 0, ..., 0, 0, 0],\n",
       "        [0, 0, 0, ..., 0, 0, 0],\n",
       "        ...,\n",
       "        [0, 0, 0, ..., 0, 0, 0],\n",
       "        [0, 0, 0, ..., 0, 0, 0],\n",
       "        [0, 0, 0, ..., 0, 0, 0]]])"
      ]
     },
     "execution_count": 137,
     "metadata": {},
     "output_type": "execute_result"
    }
   ],
   "source": [
    "mat = np.zeros((20, 20, 20), dtype = int)\n",
    "for i, idx in enumerate(idx_lst):\n",
    "    if io[i] == 'on':\n",
    "        mat[idx[0], idx[1], idx[2]] = 1\n",
    "    else:\n",
    "        mat[idx[0], idx[1], idx[2]] = 0\n",
    "mat"
   ]
  },
  {
   "cell_type": "code",
   "execution_count": 138,
   "id": "fa2514f0",
   "metadata": {},
   "outputs": [
    {
     "data": {
      "text/plain": [
       "39"
      ]
     },
     "execution_count": 138,
     "metadata": {},
     "output_type": "execute_result"
    }
   ],
   "source": [
    "np.sum(mat==1)"
   ]
  },
  {
   "cell_type": "markdown",
   "id": "3e15d9b8",
   "metadata": {},
   "source": [
    "##  Test 2"
   ]
  },
  {
   "cell_type": "code",
   "execution_count": 54,
   "id": "9b0f2868",
   "metadata": {},
   "outputs": [
    {
     "data": {
      "text/plain": [
       "(4, 3, 2)"
      ]
     },
     "execution_count": 54,
     "metadata": {},
     "output_type": "execute_result"
    }
   ],
   "source": [
    "coord_mat.shape"
   ]
  },
  {
   "cell_type": "code",
   "execution_count": 52,
   "id": "f59e9670",
   "metadata": {},
   "outputs": [
    {
     "data": {
      "text/plain": [
       "['on', 'on', 'off', 'on']"
      ]
     },
     "execution_count": 52,
     "metadata": {},
     "output_type": "execute_result"
    }
   ],
   "source": [
    "io"
   ]
  },
  {
   "cell_type": "markdown",
   "id": "577fc86b",
   "metadata": {},
   "source": [
    "##  Run Reactor Reboot"
   ]
  },
  {
   "cell_type": "code",
   "execution_count": 84,
   "id": "000c191a",
   "metadata": {},
   "outputs": [
    {
     "data": {
      "text/plain": [
       "[[11, 11, 11],\n",
       " [11, 11, 12],\n",
       " [11, 11, 13],\n",
       " [11, 12, 11],\n",
       " [11, 12, 12],\n",
       " [11, 12, 13],\n",
       " [11, 13, 11],\n",
       " [11, 13, 12],\n",
       " [11, 13, 13],\n",
       " [12, 11, 11],\n",
       " [12, 11, 12],\n",
       " [12, 11, 13],\n",
       " [12, 12, 11],\n",
       " [12, 12, 12],\n",
       " [12, 12, 13],\n",
       " [12, 13, 11],\n",
       " [12, 13, 12],\n",
       " [12, 13, 13],\n",
       " [13, 11, 11],\n",
       " [13, 11, 12],\n",
       " [13, 11, 13],\n",
       " [13, 12, 11],\n",
       " [13, 12, 12],\n",
       " [13, 12, 13],\n",
       " [13, 13, 11],\n",
       " [13, 13, 12],\n",
       " [13, 13, 13]]"
      ]
     },
     "execution_count": 84,
     "metadata": {},
     "output_type": "execute_result"
    }
   ],
   "source": [
    "# create arrays\n",
    "reboot_lst = []\n",
    "\n",
    "for i, cubes in enumerate(coord_mat):\n",
    "    reboot = []\n",
    "    for x in range(cubes[0][0], cubes[0][1]+1):\n",
    "        for y in range(cubes[1][0], cubes[1][1]+1):\n",
    "            for z in range(cubes[2][0], cubes[2][1]+1):\n",
    "                #print(x, y, z)\n",
    "                reboot.append([x, y, z])\n",
    "    reboot_lst.append(reboot)\n",
    "\n",
    "reboot_lst[1]\n",
    "    #reboot_mat = np.array(reboot_lst, dtype = int)"
   ]
  },
  {
   "cell_type": "code",
   "execution_count": null,
   "id": "0b2e7bba",
   "metadata": {},
   "outputs": [],
   "source": []
  }
 ],
 "metadata": {
  "kernelspec": {
   "display_name": "Python 3",
   "language": "python",
   "name": "python3"
  },
  "language_info": {
   "codemirror_mode": {
    "name": "ipython",
    "version": 3
   },
   "file_extension": ".py",
   "mimetype": "text/x-python",
   "name": "python",
   "nbconvert_exporter": "python",
   "pygments_lexer": "ipython3",
   "version": "3.8.8"
  }
 },
 "nbformat": 4,
 "nbformat_minor": 5
}
