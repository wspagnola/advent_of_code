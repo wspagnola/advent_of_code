{
 "cells": [
  {
   "cell_type": "code",
   "execution_count": 9,
   "id": "bf2494ae",
   "metadata": {},
   "outputs": [],
   "source": [
    "import numpy as np"
   ]
  },
  {
   "cell_type": "code",
   "execution_count": 25,
   "id": "98a5fa3c",
   "metadata": {},
   "outputs": [
    {
     "name": "stdout",
     "output_type": "stream",
     "text": [
      "A:\n",
      " [[1 1 1 1 1]\n",
      " [1 9 9 9 1]\n",
      " [1 9 1 9 1]\n",
      " [1 9 9 9 1]\n",
      " [1 1 1 1 1]]\n",
      "\n",
      " Shape: (5, 5)\n"
     ]
    }
   ],
   "source": [
    "lst_test = [[1,1,1,1,1],\n",
    "            [1,9,9,9,1],\n",
    "            [1,9,1,9,1],\n",
    "            [1,9,9,9,1],\n",
    "            [1,1,1,1,1]]\n",
    "a = np.array(lst_test)\n",
    "print(\"A:\\n {}\\n\\n Shape: {}\".format(a,a.shape))\n",
    "#print(a.shape)"
   ]
  },
  {
   "cell_type": "markdown",
   "id": "9a9f46bf",
   "metadata": {},
   "source": [
    "### Iterate through a single round of octupi\n",
    "While loop continues along as there are octupi who are flashing"
   ]
  },
  {
   "cell_type": "code",
   "execution_count": 17,
   "id": "863c1dfc",
   "metadata": {},
   "outputs": [],
   "source": [
    "def octo_iter(a):\n",
    "    \n",
    "    # a: matrix of dumbo octupi \n",
    "    \n",
    "    # Initialize Variables\n",
    "    #iteration = 0;\n",
    "    nrow, ncol = a.shape\n",
    "    a1 = a + 1\n",
    "    x, y = np.where(a1 == 10)\n",
    "\n",
    "    # Don't think I need this\n",
    "    #a_flash = np.zeros([nrow, ncol], dtype = int)\n",
    "    #a_flash[a1==10] = 1\n",
    "    \n",
    "    if len(x) == 0:\n",
    "       # print(iteration)\n",
    "        return(dict(matrix = a1, flash =0))\n",
    "\n",
    "    # One interation of octupi (repeat for flashes )\n",
    "    while len(x) > 0:     \n",
    "        #print(iteration)\n",
    "        #print('\\nFlash:\\n', (a1 >=10)*1)\n",
    "        \n",
    "        a2 = np.zeros([nrow, ncol], dtype = int)\n",
    "        \n",
    "        for m in range(len(x)):\n",
    "            \n",
    "                i = x[m]\n",
    "                j = y[m]\n",
    "                coord = [i, j]\n",
    "                #print(coord)\n",
    "            \n",
    "                u = i-1 if (i > 0) else np.nan\n",
    "                d = i + 1 if (i < nrow-1)  else np.nan\n",
    "                ver = (u, d)\n",
    "                #print(\"Vertical\", ver)\n",
    "\n",
    "                l = j-1 if (j > 0) else np.nan\n",
    "                r = j+1 if (j < ncol-1) else np.nan\n",
    "                hor = (l, r)\n",
    "                #print(\"Horizontal\", hor)\n",
    "\n",
    "                diag_ul = (u, l)\n",
    "                diag_ur = (u, r)\n",
    "                diag_dl = (d, l)\n",
    "                diag_dr = (d, r)\n",
    "                diag = [diag_ul, diag_ur, diag_dl, diag_dr]\n",
    "          \n",
    "                 # An octopus can only flash at most once per step\n",
    "                for n in ver:\n",
    "                   # print([n, j])\n",
    "                    \n",
    "                    if (np.isnan(n) == False):\n",
    "                       # print(\"check\", [n,j])\n",
    "                        if (a1[n,j] < 10):\n",
    "                          #  print(\"plus 1 vertical\")\n",
    "\n",
    "                            a2[n, j] = a2[n, j] + 1\n",
    "                            \n",
    "                for n in hor:\n",
    "                    if (np.isnan(n) == False): \n",
    "                       # print(\"check\", [i,n])\n",
    "                        if (a1[i,n] < 10):\n",
    "                            #print(\"plus 1 vertical\")\n",
    "      \n",
    "                            a2[i, n] = a2[i, n] + 1\n",
    "                            \n",
    "                for n in diag:\n",
    "                   # print(\"diag\")\n",
    "                    #print(\"n\", n)\n",
    "                    if (sum(np.isnan(n)*1) == 0):\n",
    "                        #print(a1[n])\n",
    "                        if a1[n] < 10:\n",
    "                            a2[n] = a2[n] + 1\n",
    "        #a_flash[a2 >= 10] = 1\n",
    "        at = a1 + a2\n",
    "        #print(at)\n",
    "        #print(a1)\n",
    "        #print(a2)\n",
    "        new_flash = ((at > 9)*(a1 <= 9) )\n",
    "        x, y = np.where(new_flash)\n",
    "        \n",
    "        #print(len(x))\n",
    "        #a_total_steps =  a_total_steps + a2\n",
    "        a1 = at\n",
    "        #print('\\na2\\')\n",
    "        #print(\"\\na1\\n\", a1)\n",
    "        #iteration = iteration + 1\n",
    "        \n",
    "    #Reset flashes back to zer0\n",
    "    #a_final = at\n",
    "\n",
    "    #print(at)\n",
    "        #a_final = at\n",
    "        #print(a_final)\n",
    "    n_flash = sum(sum((at >= 10)*1))\n",
    "    at[at >= 10] = 0\n",
    "    #print(a_total_steps)\n",
    "    #print(at)\n",
    "    return(dict(matrix = at, flash = n_flash))\n",
    "\n",
    "#x = octo_iter(a)\n",
    "#print(x['matrix'])\n",
    "#print(x['flash'])"
   ]
  },
  {
   "cell_type": "markdown",
   "id": "e7f94e60",
   "metadata": {},
   "source": [
    "### Function to simulate multiple rounds: octo_sim( )"
   ]
  },
  {
   "cell_type": "code",
   "execution_count": 12,
   "id": "0a917324",
   "metadata": {},
   "outputs": [],
   "source": [
    "def octo_sim(x, n):\n",
    "    \n",
    "    #input \n",
    "    ## x: array of octopi, numbers represent levels\n",
    "    ## n: number of iterations to run octo_iter() function\n",
    "    \n",
    "    octo_lst = []\n",
    "             \n",
    "    for i in range(n):\n",
    "        y = octo_iter(x)\n",
    "        octo_lst.append(y)\n",
    "        x = y['matrix']\n",
    "        if np.all(x == np.zeros(list(x.shape), dtype = int)):\n",
    "            print(\"All the Octopi Flashed at the same time in Round \", i+1)\n",
    "            return(i+1)\n",
    "    \n",
    "    flash_lst = []\n",
    "    for i in octo_lst:\n",
    "        flash_lst.append(i['flash'])\n",
    "\n",
    "    return(sum(flash_lst))\n"
   ]
  },
  {
   "cell_type": "markdown",
   "id": "d204b2fa",
   "metadata": {},
   "source": [
    "### Test octo_sim( )"
   ]
  },
  {
   "cell_type": "code",
   "execution_count": 18,
   "id": "ce8b7d2a",
   "metadata": {},
   "outputs": [
    {
     "name": "stdout",
     "output_type": "stream",
     "text": [
      "Number of Flashes\n",
      "10 Iterations: 204\n",
      "100 Iterations: 1656\n"
     ]
    }
   ],
   "source": [
    "x_lst =  [[5,4,8,3,1,4,3,2,2,3],\n",
    "          [2,7,4,5,8,5,4,7,1,1],\n",
    "          [5,2,6,4,5,5,6,1,7,3],\n",
    "          [6,1,4,1,3,3,6,1,4,6],\n",
    "          [6,3,5,7,3,8,5,4,7,8],\n",
    "          [4,1,6,7,5,2,4,6,4,5],\n",
    "          [2,1,7,6,8,4,1,7,2,1],\n",
    "          [6,8,8,2,8,8,1,1,3,4],\n",
    "          [4,8,4,6,8,4,8,5,5,4],\n",
    "          [5,2,8,3,7,5,1,5,2,6]]\n",
    "\n",
    "x = np.array(x_lst)\n",
    "\n",
    "\n",
    "print(\"Number of Flashes\")\n",
    "print('10 Iterations:', octo_sim(x, 10))\n",
    "print(\"100 Iterations:\", octo_sim(x, 100))"
   ]
  },
  {
   "cell_type": "code",
   "execution_count": 19,
   "id": "ecbb592a",
   "metadata": {},
   "outputs": [
    {
     "name": "stdout",
     "output_type": "stream",
     "text": [
      "All the Octopi Flashed at the same time in Round  195\n"
     ]
    },
    {
     "data": {
      "text/plain": [
       "195"
      ]
     },
     "execution_count": 19,
     "metadata": {},
     "output_type": "execute_result"
    }
   ],
   "source": [
    "octo_sim(x, 200)"
   ]
  },
  {
   "cell_type": "markdown",
   "id": "6edef120",
   "metadata": {},
   "source": [
    "## Part 1: Real Input"
   ]
  },
  {
   "cell_type": "markdown",
   "id": "463cad82",
   "metadata": {},
   "source": [
    "### Read in Text file"
   ]
  },
  {
   "cell_type": "code",
   "execution_count": 23,
   "id": "108b3e84",
   "metadata": {},
   "outputs": [
    {
     "name": "stdout",
     "output_type": "stream",
     "text": [
      "[[6 6 1 7 1 1 3 5 8 4]\n",
      " [6 5 4 4 2 1 8 6 3 8]\n",
      " [5 4 5 7 3 3 1 4 8 8]\n",
      " [1 1 3 5 6 7 5 5 8 7]\n",
      " [1 2 2 1 3 5 3 2 1 6]\n",
      " [1 8 1 1 1 2 4 3 7 8]\n",
      " [1 3 8 7 8 6 4 3 6 8]\n",
      " [4 4 2 7 6 3 7 2 6 2]\n",
      " [6 7 7 8 6 4 5 4 8 6]\n",
      " [3 6 8 2 1 4 6 7 4 5]]\n",
      "(10, 10)\n"
     ]
    }
   ],
   "source": [
    "text_lst = []\n",
    "with open(\"input11.txt\") as f:\n",
    "    lines = f.readlines()\n",
    "    for line in lines:\n",
    "        num_row = [num for num in line.strip()]\n",
    "        text_lst.append(num_row)\n",
    "        \n",
    "x_part1 = np.array(text_lst, dtype = int)\n",
    "print(x_part1)\n",
    "print(x_part1.shape)"
   ]
  },
  {
   "cell_type": "code",
   "execution_count": 24,
   "id": "64fd7df7",
   "metadata": {},
   "outputs": [
    {
     "data": {
      "text/plain": [
       "1599"
      ]
     },
     "execution_count": 24,
     "metadata": {},
     "output_type": "execute_result"
    }
   ],
   "source": [
    "octo_sim(x_part1, 100)"
   ]
  },
  {
   "cell_type": "markdown",
   "id": "5279f16c",
   "metadata": {},
   "source": [
    "## Part 2"
   ]
  },
  {
   "cell_type": "code",
   "execution_count": 22,
   "id": "0ccdb870",
   "metadata": {},
   "outputs": [
    {
     "name": "stdout",
     "output_type": "stream",
     "text": [
      "All the Octopi Flashed at the same time in Round  418\n"
     ]
    },
    {
     "data": {
      "text/plain": [
       "418"
      ]
     },
     "execution_count": 22,
     "metadata": {},
     "output_type": "execute_result"
    }
   ],
   "source": [
    "octo_sim(x_part1, 1000)"
   ]
  },
  {
   "cell_type": "markdown",
   "id": "3fad308b",
   "metadata": {},
   "source": [
    "## New python Functions"
   ]
  },
  {
   "cell_type": "markdown",
   "id": "d2c06d05",
   "metadata": {},
   "source": [
    "- **np.any( )**: return *True* if any element in the array is true\n",
    "- **np.all( )**: return *True* if all elements in the array are true"
   ]
  },
  {
   "cell_type": "markdown",
   "id": "f07c515c",
   "metadata": {},
   "source": [
    "## Notes\n",
    " - Remember to account for zero indexing when running through iterations (Hint: add one)\n",
    " - Remember that range() does not include last number.  Range(9) goes from 0 to 8."
   ]
  }
 ],
 "metadata": {
  "kernelspec": {
   "display_name": "Python 3",
   "language": "python",
   "name": "python3"
  },
  "language_info": {
   "codemirror_mode": {
    "name": "ipython",
    "version": 3
   },
   "file_extension": ".py",
   "mimetype": "text/x-python",
   "name": "python",
   "nbconvert_exporter": "python",
   "pygments_lexer": "ipython3",
   "version": "3.8.8"
  }
 },
 "nbformat": 4,
 "nbformat_minor": 5
}
