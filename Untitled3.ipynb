{
 "cells": [
  {
   "cell_type": "code",
   "execution_count": 2,
   "id": "9fb2c1e6",
   "metadata": {},
   "outputs": [],
   "source": [
    "import numpy as np"
   ]
  },
  {
   "cell_type": "code",
   "execution_count": 19,
   "id": "bac939e9",
   "metadata": {},
   "outputs": [
    {
     "data": {
      "text/plain": [
       "array([3, 4, 3, 1, 2])"
      ]
     },
     "execution_count": 19,
     "metadata": {},
     "output_type": "execute_result"
    }
   ],
   "source": [
    "gen0_test = np.array([3,4,3,1,2])\n",
    "gen0_test"
   ]
  },
  {
   "cell_type": "code",
   "execution_count": 68,
   "id": "ceec8570",
   "metadata": {},
   "outputs": [
    {
     "name": "stdout",
     "output_type": "stream",
     "text": [
      "Gen 0 : [3 4 3 1 2]\n",
      "Gen 1 : [2 3 2 0 1]\n",
      "Gen 2 : [1 2 1 6 0 8]\n",
      "Gen 3 : [0 1 0 5 6 7 8]\n",
      "Gen 4 : [6 0 6 4 5 6 7 8 8]\n",
      "Gen 5 : [5 6 5 3 4 5 6 7 7 8]\n",
      "Gen 6 : [4 5 4 2 3 4 5 6 6 7]\n",
      "Gen 7 : [3 4 3 1 2 3 4 5 5 6]\n",
      "Gen 8 : [2 3 2 0 1 2 3 4 4 5]\n",
      "Gen 9 : [1 2 1 6 0 1 2 3 3 4 8]\n",
      "Gen 10 : [0 1 0 5 6 0 1 2 2 3 7 8]\n",
      "Gen 11 : [6 0 6 4 5 6 0 1 1 2 6 7 8 8 8]\n",
      "Gen 12 : [5 6 5 3 4 5 6 0 0 1 5 6 7 7 7 8 8]\n",
      "Gen 13 : [4 5 4 2 3 4 5 6 6 0 4 5 6 6 6 7 7 8 8]\n",
      "Gen 14 : [3 4 3 1 2 3 4 5 5 6 3 4 5 5 5 6 6 7 7 8]\n",
      "Gen 15 : [2 3 2 0 1 2 3 4 4 5 2 3 4 4 4 5 5 6 6 7]\n",
      "Gen 16 : [1 2 1 6 0 1 2 3 3 4 1 2 3 3 3 4 4 5 5 6 8]\n",
      "Gen 17 : [0 1 0 5 6 0 1 2 2 3 0 1 2 2 2 3 3 4 4 5 7 8]\n",
      "Gen 18 : [6 0 6 4 5 6 0 1 1 2 6 0 1 1 1 2 2 3 3 4 6 7 8 8 8 8]\n"
     ]
    }
   ],
   "source": [
    "gen0_test = np.array([3,4,3,1,2])\n",
    "gen_list = [gen0_test]\n",
    "next_gen = gen0_test\n",
    "for i in range(18):\n",
    "    print(\"Gen\", i, \":\", next_gen)\n",
    "    new_gen = np.repeat(8, sum(next_gen == 0))\n",
    "    next_gen = next_gen - 1\n",
    "    next_gen[next_gen <0 ] = 6\n",
    "    next_gen = np.concatenate([next_gen, new_gen])\n",
    "    gen_list.append(next_gen)\n",
    "print(\"Gen\", 18, \":\", next_gen)\n",
    "#print(gen_list)"
   ]
  },
  {
   "cell_type": "code",
   "execution_count": 71,
   "id": "d5be038f",
   "metadata": {},
   "outputs": [
    {
     "data": {
      "text/plain": [
       "26"
      ]
     },
     "execution_count": 71,
     "metadata": {},
     "output_type": "execute_result"
    }
   ],
   "source": [
    "len(gen_list[-1])"
   ]
  },
  {
   "cell_type": "code",
   "execution_count": 72,
   "id": "bf67ccbe",
   "metadata": {},
   "outputs": [
    {
     "data": {
      "text/plain": [
       "5934"
      ]
     },
     "execution_count": 72,
     "metadata": {},
     "output_type": "execute_result"
    }
   ],
   "source": [
    "gen0_test = np.array([3,4,3,1,2])\n",
    "gen_list = [gen0_test]\n",
    "next_gen = gen0_test\n",
    "for i in range(80):\n",
    "    \n",
    "    new_gen = np.repeat(8, sum(next_gen == 0))\n",
    "    next_gen = next_gen - 1\n",
    "    next_gen[next_gen <0 ] = 6\n",
    "    next_gen = np.concatenate([next_gen, new_gen])\n",
    "    gen_list.append(next_gen)\n",
    "\n",
    "len(gen_list[-1])"
   ]
  },
  {
   "cell_type": "markdown",
   "id": "b285cd32",
   "metadata": {},
   "source": [
    "## Useful Python Functions\n",
    " ### Numpy\n",
    " - np.concatenate()\n",
    " - np.arange()\n",
    " - np.array()\n",
    " - np.repeat()\n",
    "### Native for Strings\n",
    " - join()\n",
    " - append()\n",
    " - split()\n",
    " - replace()\n",
    " ### Native "
   ]
  },
  {
   "cell_type": "code",
   "execution_count": null,
   "id": "80788a18",
   "metadata": {},
   "outputs": [],
   "source": []
  }
 ],
 "metadata": {
  "kernelspec": {
   "display_name": "Python 3",
   "language": "python",
   "name": "python3"
  },
  "language_info": {
   "codemirror_mode": {
    "name": "ipython",
    "version": 3
   },
   "file_extension": ".py",
   "mimetype": "text/x-python",
   "name": "python",
   "nbconvert_exporter": "python",
   "pygments_lexer": "ipython3",
   "version": "3.8.8"
  }
 },
 "nbformat": 4,
 "nbformat_minor": 5
}
