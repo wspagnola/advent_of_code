{
 "cells": [
  {
   "cell_type": "code",
   "execution_count": 1,
   "id": "c1b76de5",
   "metadata": {},
   "outputs": [],
   "source": [
    "import numpy as np\n",
    "import os"
   ]
  },
  {
   "cell_type": "code",
   "execution_count": 2,
   "id": "1cbb24b1",
   "metadata": {},
   "outputs": [],
   "source": [
    "test_mat = np.array([['#','.','.','#','.'],\n",
    "                ['#','.','.','.','.'],\n",
    "                ['#','#','.','.','#'],\n",
    "                ['.','.','#','.','.'],\n",
    "                ['.','.','#','#','#']])"
   ]
  },
  {
   "cell_type": "code",
   "execution_count": 3,
   "id": "f0b6bea6",
   "metadata": {},
   "outputs": [
    {
     "data": {
      "text/plain": [
       "array(['.', '.', '#', '.', '#'], dtype='<U1')"
      ]
     },
     "execution_count": 3,
     "metadata": {},
     "output_type": "execute_result"
    }
   ],
   "source": [
    "decode = []\n",
    "with open('input20_test.txt') as f:\n",
    "    lines = f.readlines()\n",
    "    for l in lines:\n",
    "        for char in l.strip():\n",
    "            decode.append(char)\n",
    "\n",
    "arr = np.array(decode[1:len(decode)])\n",
    "arr[0:5]"
   ]
  },
  {
   "cell_type": "code",
   "execution_count": 77,
   "id": "27ab0016",
   "metadata": {},
   "outputs": [],
   "source": [
    "def check(mat, i, j):\n",
    "    l = i+1\n",
    "    r = i-1\n",
    "    u =j+1\n",
    "    d = j-1\n",
    "\n",
    "    z = [mat[l,u], mat[i, u], mat[r, u], \n",
    "         mat[l, j], mat[i, j], mat[r, j], \n",
    "         mat[l, d], mat[i, d], mat[r, d]]\n",
    "    return(z)"
   ]
  },
  {
   "cell_type": "code",
   "execution_count": 78,
   "id": "9643f974",
   "metadata": {},
   "outputs": [
    {
     "data": {
      "text/plain": [
       "['.', '.', '.', '#', '.', '.', '.', '#', '.']"
      ]
     },
     "execution_count": 78,
     "metadata": {},
     "output_type": "execute_result"
    }
   ],
   "source": [
    "ind = check(test_mat, 2, 2)\n",
    "ind"
   ]
  },
  {
   "cell_type": "markdown",
   "id": "4a6101ac",
   "metadata": {},
   "source": [
    "##  Run Image through Image Enhancement Algorithm"
   ]
  },
  {
   "cell_type": "code",
   "execution_count": 73,
   "id": "d4d8c2c2",
   "metadata": {},
   "outputs": [
    {
     "name": "stdout",
     "output_type": "stream",
     "text": [
      "{'.': 0, '#': 1}\n",
      "[8 7 6 5 4 3 2 1 0]\n",
      "[0 0 0 1 0 0 0 1 0]\n",
      "[ 0  0  0 32  0  0  0  2  0]\n",
      "34\n"
     ]
    },
    {
     "data": {
      "text/plain": [
       "array([8, 7, 6, 5, 4, 3, 2, 1])"
      ]
     },
     "execution_count": 73,
     "metadata": {},
     "output_type": "execute_result"
    }
   ],
   "source": [
    "bin_dict = {'.': 0, '#': 1}\n",
    "print(bin_dict)\n",
    "bin_exp = np.arange(len(ind))[::-1] # create vector of numbers in \n",
    "print(bin_exp)\n",
    "bin_arr = np.array([bin_dict[code] for code in ind])\n",
    "print(bin_arr)\n",
    "dec_arr = bin_arr*(2**bin_exp)\n",
    "print(dec_arr)\n",
    "dec_sum = sum(dec_arr)\n",
    "print(dec_sum)\n",
    "\n",
    "# Better line\n",
    "np.arange(8,0, -1)\n"
   ]
  },
  {
   "cell_type": "markdown",
   "id": "697ac257",
   "metadata": {},
   "source": [
    "###  Function to enhance image "
   ]
  },
  {
   "cell_type": "code",
   "execution_count": 84,
   "id": "4a138520",
   "metadata": {},
   "outputs": [
    {
     "data": {
      "text/plain": [
       "34"
      ]
     },
     "execution_count": 84,
     "metadata": {},
     "output_type": "execute_result"
    }
   ],
   "source": [
    "def enhance(x):\n",
    "    bin_dict = {'.': 0, '#': 1} #dictionary code for binary\n",
    "    bin_arr = np.array([bin_dict[code] for code in x]) # convert codes to binary array\n",
    "    dec_arr = bin_arr*(2**np.arange(len(x)-1, 0-1, -1))  # exponentiate to get decimal array\n",
    "    return(sum(dec_arr)) # return sum of decimal array\n",
    "enhance(ind)\n",
    "#len(ind)"
   ]
  },
  {
   "cell_type": "code",
   "execution_count": 8,
   "id": "1c266e9c",
   "metadata": {},
   "outputs": [
    {
     "data": {
      "text/plain": [
       "array([ 0,  0,  0, 32,  0,  0,  0,  2,  0])"
      ]
     },
     "execution_count": 8,
     "metadata": {},
     "output_type": "execute_result"
    }
   ],
   "source": []
  },
  {
   "cell_type": "code",
   "execution_count": 9,
   "id": "40c77561",
   "metadata": {},
   "outputs": [],
   "source": [
    "code_idx = np.sum(bin_arr*(2**bin_exp))"
   ]
  },
  {
   "cell_type": "code",
   "execution_count": 64,
   "id": "c717ede5",
   "metadata": {},
   "outputs": [
    {
     "data": {
      "text/plain": [
       "'#'"
      ]
     },
     "execution_count": 64,
     "metadata": {},
     "output_type": "execute_result"
    }
   ],
   "source": [
    "arr[code_idx]"
   ]
  },
  {
   "cell_type": "code",
   "execution_count": null,
   "id": "d7b1a299",
   "metadata": {},
   "outputs": [],
   "source": [
    "# def mat_pad(mat):\n",
    "#         np.concat()"
   ]
  },
  {
   "cell_type": "code",
   "execution_count": 20,
   "id": "2b862db8",
   "metadata": {},
   "outputs": [
    {
     "data": {
      "text/plain": [
       "array([['#', '.', '.', '#', '.'],\n",
       "       ['#', '.', '.', '.', '.'],\n",
       "       ['#', '#', '.', '.', '#'],\n",
       "       ['.', '.', '#', '.', '.'],\n",
       "       ['.', '.', '#', '#', '#']], dtype='<U1')"
      ]
     },
     "execution_count": 20,
     "metadata": {},
     "output_type": "execute_result"
    }
   ],
   "source": [
    "test_mat"
   ]
  },
  {
   "cell_type": "code",
   "execution_count": 58,
   "id": "7cd0dd4c",
   "metadata": {},
   "outputs": [
    {
     "data": {
      "text/plain": [
       "(7, 7)"
      ]
     },
     "execution_count": 58,
     "metadata": {},
     "output_type": "execute_result"
    }
   ],
   "source": [
    "test_mat_pad.shape"
   ]
  },
  {
   "cell_type": "code",
   "execution_count": 44,
   "id": "62e4f8d0",
   "metadata": {},
   "outputs": [
    {
     "data": {
      "text/plain": [
       "array([['.', '.', '.', '.', '.', '.', '.'],\n",
       "       ['.', '#', '.', '.', '#', '.', '.'],\n",
       "       ['.', '#', '.', '.', '.', '.', '.'],\n",
       "       ['.', '#', '#', '.', '.', '#', '.'],\n",
       "       ['.', '.', '.', '#', '.', '.', '.'],\n",
       "       ['.', '.', '.', '#', '#', '#', '.'],\n",
       "       ['.', '.', '.', '.', '.', '.', '.']], dtype='<U1')"
      ]
     },
     "execution_count": 44,
     "metadata": {},
     "output_type": "execute_result"
    }
   ],
   "source": [
    "#row pad\n",
    "row_pad = np.array([['.']*test_mat.shape[1]])\n",
    "test_mat_rowpad = np.concatenate((row_pad, test_mat, row_pad), axis = 0)\n",
    "col_pad = np.array([['.']*test_mat_rowpad.shape[0]]).T\n",
    "col_pad.shape\n",
    "test_mat_pad = np.concatenate((col_pad, test_mat_rowpad, col_pad), axis = 1)\n",
    "test_mat_pad"
   ]
  },
  {
   "cell_type": "code",
   "execution_count": 86,
   "id": "e2515009",
   "metadata": {},
   "outputs": [
    {
     "data": {
      "text/plain": [
       "[['.', '.', '.', '#', '#', '.', '.', '.', '.'],\n",
       " ['.', '.', '.', '.', '.', '.', '#', '#', '.'],\n",
       " ['.', '#', '.', '.', '.', '.', '.', '.', '.'],\n",
       " ['.', '.', '.', '.', '#', '.', '.', '.', '.'],\n",
       " ['.', '.', '.', '.', '.', '.', '.', '#', '.']]"
      ]
     },
     "execution_count": 86,
     "metadata": {},
     "output_type": "execute_result"
    }
   ],
   "source": [
    "check_list = []\n",
    "\n",
    "for i in range(1,test_mat_pad.shape[0]-1):\n",
    "    for j in range(1,test_mat_pad.shape[1]-1):\n",
    "        #print(test_mat_pad[i,j])\n",
    "        #print(i, j)\n",
    "        check_list.append(check(test_mat_pad, i, j))\n",
    "        \n",
    "np.array(check_list).shape\n",
    "check_list[0:5]"
   ]
  },
  {
   "cell_type": "markdown",
   "id": "3543e362",
   "metadata": {},
   "source": [
    "##  Pseudo Code for Enhancement Algorithm"
   ]
  },
  {
   "cell_type": "code",
   "execution_count": null,
   "id": "360c89ff",
   "metadata": {},
   "outputs": [],
   "source": [
    "# Run numbers to enhancement algorithm\n",
    "\n",
    "# 1) pad image  matrix with 0 ('.') -> pad_image()\n",
    "# 2) look at 3x3 image matrix around each pixel -> scan_pixel()\n",
    "# 3) Convert each list from scan_pixel to number -> convert_pixels()\n",
    "# 4) Run numbers from convert_pixels through image enhance function -> enhance_img()\n",
    "# 5) return pixesl from enhance_img() as enhanced image matrix "
   ]
  },
  {
   "cell_type": "markdown",
   "id": "1a17e722",
   "metadata": {},
   "source": [
    "## Array Sub-selection"
   ]
  },
  {
   "cell_type": "code",
   "execution_count": 24,
   "id": "3f0c876c",
   "metadata": {},
   "outputs": [
    {
     "data": {
      "text/plain": [
       "array([['#', '#', '.', '.', '#'],\n",
       "       ['.', '.', '#', '.', '.']], dtype='<U1')"
      ]
     },
     "execution_count": 24,
     "metadata": {},
     "output_type": "execute_result"
    }
   ],
   "source": [
    "mat[2:4, 0:5]"
   ]
  },
  {
   "cell_type": "code",
   "execution_count": 26,
   "id": "2949bbec",
   "metadata": {},
   "outputs": [
    {
     "data": {
      "text/plain": [
       "array([['#', '#', '.', '.', '#'],\n",
       "       ['.', '.', '#', '.', '.']], dtype='<U1')"
      ]
     },
     "execution_count": 26,
     "metadata": {},
     "output_type": "execute_result"
    }
   ],
   "source": [
    "mat[2:4][0:5]"
   ]
  },
  {
   "cell_type": "code",
   "execution_count": 28,
   "id": "061872ff",
   "metadata": {},
   "outputs": [
    {
     "data": {
      "text/plain": [
       "array([['#', '#', '.', '.', '#']], dtype='<U1')"
      ]
     },
     "execution_count": 28,
     "metadata": {},
     "output_type": "execute_result"
    }
   ],
   "source": [
    "mat[2:3][0:4]"
   ]
  },
  {
   "cell_type": "code",
   "execution_count": 29,
   "id": "f411e12e",
   "metadata": {},
   "outputs": [
    {
     "data": {
      "text/plain": [
       "array(['#', '#', '.', '.'], dtype='<U1')"
      ]
     },
     "execution_count": 29,
     "metadata": {},
     "output_type": "execute_result"
    }
   ],
   "source": [
    "mat[2][0:4]"
   ]
  },
  {
   "cell_type": "code",
   "execution_count": null,
   "id": "a48b6149",
   "metadata": {},
   "outputs": [],
   "source": []
  }
 ],
 "metadata": {
  "kernelspec": {
   "display_name": "Python 3",
   "language": "python",
   "name": "python3"
  },
  "language_info": {
   "codemirror_mode": {
    "name": "ipython",
    "version": 3
   },
   "file_extension": ".py",
   "mimetype": "text/x-python",
   "name": "python",
   "nbconvert_exporter": "python",
   "pygments_lexer": "ipython3",
   "version": "3.8.8"
  }
 },
 "nbformat": 4,
 "nbformat_minor": 5
}
