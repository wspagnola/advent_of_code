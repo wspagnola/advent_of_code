{
 "cells": [
  {
   "cell_type": "code",
   "execution_count": 15,
   "id": "f70062d6",
   "metadata": {},
   "outputs": [],
   "source": [
    "import numpy as np\n",
    "import re"
   ]
  },
  {
   "cell_type": "code",
   "execution_count": 2,
   "id": "07a5966f",
   "metadata": {},
   "outputs": [
    {
     "name": "stdout",
     "output_type": "stream",
     "text": [
      "(100, 10)\n",
      "[[ 0.48886447 -0.1901248   0.25634776  0.15120547 -0.22848707 -0.0568344\n",
      "   1.16886233 -0.19369912  0.76799488  1.91791676]\n",
      " [ 0.33351487 -0.04517073  0.62512203 -0.21071091 -2.17817567 -0.13337658\n",
      "  -0.39278749 -0.49109208 -0.51550775  0.63159121]\n",
      " [-0.30630034  0.43058986 -1.6342949  -1.12870401  0.97036992 -0.19657319\n",
      "   1.39092223 -0.01289474  0.44507596 -0.80061181]\n",
      " [ 0.90837496  0.27387482  2.80565972  0.31275524  0.13396652 -1.57709683\n",
      "   0.53446614 -2.63436621  1.23187768  0.6027247 ]\n",
      " [-0.62163418 -1.11713138  1.04281721  2.15460306  1.37513368  1.20090206\n",
      "  -0.46498932 -0.39999294 -0.27079326 -1.44459458]]\n"
     ]
    }
   ],
   "source": [
    "z = np.random.randn(1000).reshape(100, 10)\n",
    "print(z.shape)\n",
    "print(z[0:5])"
   ]
  },
  {
   "cell_type": "code",
   "execution_count": 3,
   "id": "76f96eba",
   "metadata": {},
   "outputs": [
    {
     "data": {
      "text/plain": [
       "(1000, 1)"
      ]
     },
     "execution_count": 3,
     "metadata": {},
     "output_type": "execute_result"
    }
   ],
   "source": [
    "z_vec = z.reshape(-1, 1)\n",
    "z_vec.shape"
   ]
  },
  {
   "cell_type": "code",
   "execution_count": 4,
   "id": "822c19b7",
   "metadata": {},
   "outputs": [
    {
     "data": {
      "text/plain": [
       "array([[ 0.48886447],\n",
       "       [-0.1901248 ],\n",
       "       [ 0.25634776],\n",
       "       [ 0.15120547],\n",
       "       [-0.22848707]])"
      ]
     },
     "execution_count": 4,
     "metadata": {},
     "output_type": "execute_result"
    }
   ],
   "source": [
    "# Col Vector\n",
    "z_vec[0:5]"
   ]
  },
  {
   "cell_type": "code",
   "execution_count": 5,
   "id": "fb003a56",
   "metadata": {},
   "outputs": [
    {
     "data": {
      "text/plain": [
       "0.4888644659764232"
      ]
     },
     "execution_count": 5,
     "metadata": {},
     "output_type": "execute_result"
    }
   ],
   "source": [
    "z_vec[0][0]"
   ]
  },
  {
   "cell_type": "code",
   "execution_count": 6,
   "id": "b275c553",
   "metadata": {},
   "outputs": [
    {
     "name": "stdout",
     "output_type": "stream",
     "text": [
      "﻿[({(<(())[]>[[{[]{<()<>> \n",
      "\n",
      "[(()[<>])]({[<{<<[]>>( \n",
      "\n",
      "{([(<{}[<>[]}>{[]{[(<()> \n",
      "\n",
      "(((({<>}<{<{<>}{[]{[]{} \n",
      "\n",
      "[[<[([]))<([[{}[[()]]] \n",
      "\n",
      "[{[{({}]{}}([{[{{{}}([] \n",
      "\n",
      "{<[[]]>}<{[{[{[]{()[[[] \n",
      "\n",
      "[<(<(<(<{}))><([]([]() \n",
      "\n",
      "<{([([[(<>()){}]>(<<{{ \n",
      "\n",
      "<{([{{}}[<[[[<>{}]]]>[]] \n",
      "\n"
     ]
    }
   ],
   "source": [
    "line_lst = []\n",
    "with open(\"input9_test.txt\") as f:\n",
    "    lines = f.readlines()\n",
    "    for line in lines:\n",
    "        l= line.strip()\n",
    "        line_lst.append(l)\n",
    "        print(l, '\\n')"
   ]
  },
  {
   "cell_type": "code",
   "execution_count": 7,
   "id": "7139e242",
   "metadata": {},
   "outputs": [],
   "source": [
    "ptn_open  = ['(', '[', '{', '<']\n",
    "ptn_close = [')', ']', '}', '>']"
   ]
  },
  {
   "cell_type": "code",
   "execution_count": 8,
   "id": "691da724",
   "metadata": {},
   "outputs": [
    {
     "data": {
      "text/plain": [
       "3"
      ]
     },
     "execution_count": 8,
     "metadata": {},
     "output_type": "execute_result"
    }
   ],
   "source": [
    "line.count('<')"
   ]
  },
  {
   "cell_type": "markdown",
   "id": "e02ebb68",
   "metadata": {},
   "source": [
    " ## Point System\n",
    " - )  : 3 points\n",
    " - ]  : 57 points\n",
    " - }  : 1197 points\n",
    " - \\> : 25137 points"
   ]
  },
  {
   "cell_type": "code",
   "execution_count": 9,
   "id": "5b587b2c",
   "metadata": {},
   "outputs": [
    {
     "data": {
      "text/plain": [
       "'[(()[<>])]({[<{<<[]>>('"
      ]
     },
     "execution_count": 9,
     "metadata": {},
     "output_type": "execute_result"
    }
   ],
   "source": [
    "line_lst[1]"
   ]
  },
  {
   "cell_type": "code",
   "execution_count": 10,
   "id": "5cbfbbf6",
   "metadata": {},
   "outputs": [
    {
     "name": "stdout",
     "output_type": "stream",
     "text": [
      "[4, 4, 2, 4]\n",
      "[2, 3, 0, 3]\n"
     ]
    }
   ],
   "source": [
    "print([line_lst[1].count(pattern) for pattern in ptn_open])\n",
    "print([line_lst[1].count(pattern) for pattern in ptn_close])"
   ]
  },
  {
   "cell_type": "code",
   "execution_count": 11,
   "id": "9c2de47c",
   "metadata": {},
   "outputs": [],
   "source": [
    "line_lst[1].find('<')\n",
    "test = '[\\\\(\\\\(\\\\)[<>]\\\\)]\\\\({[<{<<[]>>\\\\('\n",
    "test = '[(()[<>])]({[<{<<[]>>('"
   ]
  },
  {
   "cell_type": "code",
   "execution_count": 12,
   "id": "8a93fe93",
   "metadata": {},
   "outputs": [
    {
     "ename": "NameError",
     "evalue": "name 're' is not defined",
     "output_type": "error",
     "traceback": [
      "\u001b[0;31m---------------------------------------------------------------------------\u001b[0m",
      "\u001b[0;31mNameError\u001b[0m                                 Traceback (most recent call last)",
      "\u001b[0;32m<ipython-input-12-e031dfbb02f6>\u001b[0m in \u001b[0;36m<module>\u001b[0;34m\u001b[0m\n\u001b[0;32m----> 1\u001b[0;31m \u001b[0mre\u001b[0m\u001b[0;34m.\u001b[0m\u001b[0mfindall\u001b[0m\u001b[0;34m(\u001b[0m\u001b[0;34m'<'\u001b[0m\u001b[0;34m,\u001b[0m \u001b[0mtest\u001b[0m \u001b[0;34m)\u001b[0m\u001b[0;34m\u001b[0m\u001b[0;34m\u001b[0m\u001b[0m\n\u001b[0m",
      "\u001b[0;31mNameError\u001b[0m: name 're' is not defined"
     ]
    }
   ],
   "source": [
    "re.findall('<', test )"
   ]
  },
  {
   "cell_type": "code",
   "execution_count": 18,
   "id": "f9432ea2",
   "metadata": {},
   "outputs": [
    {
     "name": "stdout",
     "output_type": "stream",
     "text": [
      "[1, 2, 10, 21]\n",
      "[3, 8]\n"
     ]
    }
   ],
   "source": [
    "x = re.finditer( '\\\\(', test)\n",
    "y = re.finditer( '\\\\)', test)\n",
    "print([i.start() for i in x])\n",
    "print([i.start() for i in y])"
   ]
  },
  {
   "cell_type": "code",
   "execution_count": 28,
   "id": "e53f2490",
   "metadata": {},
   "outputs": [
    {
     "name": "stdout",
     "output_type": "stream",
     "text": [
      "[0, 4, 12, 17]\n",
      "[7, 9, 18]\n"
     ]
    }
   ],
   "source": [
    "x = re.finditer( '\\\\[', test)\n",
    "y = re.finditer( '\\\\]', test)\n",
    "print([i.start() for i in x])\n",
    "print([i.start() for i in y])"
   ]
  },
  {
   "cell_type": "code",
   "execution_count": 19,
   "id": "f69ea1a6",
   "metadata": {},
   "outputs": [
    {
     "name": "stdout",
     "output_type": "stream",
     "text": [
      "[5, 13, 15, 16]\n",
      "[6, 19, 20]\n"
     ]
    }
   ],
   "source": [
    "x = re.finditer( '\\\\<', test)\n",
    "y = re.finditer( '\\\\>', test)\n",
    "print([i.start() for i in x])\n",
    "print([i.start() for i in y])"
   ]
  },
  {
   "cell_type": "code",
   "execution_count": 25,
   "id": "c64aedd9",
   "metadata": {},
   "outputs": [
    {
     "name": "stdout",
     "output_type": "stream",
     "text": [
      "[2, 7, 10, 15, 18]\n",
      "[11, 16]\n"
     ]
    }
   ],
   "source": [
    "test2 =\"{  (  [  (  <  {  }  [  <  >  []  } >   {  [ ]   {   [ ( < ( ) > \"\n",
    "                            \n",
    "x = re.finditer( '\\\\[', test2)\n",
    "y = re.finditer( '\\\\]', test2)\n",
    "print([i.start() for i in x])\n",
    "print([i.start() for i in y])"
   ]
  },
  {
   "cell_type": "code",
   "execution_count": 26,
   "id": "b0e9cb6a",
   "metadata": {},
   "outputs": [
    {
     "name": "stdout",
     "output_type": "stream",
     "text": [
      "[4, 8, 20]\n",
      "[9, 13, 23]\n"
     ]
    }
   ],
   "source": [
    "test2 =\"{([(<{}[<>[]}>{[]{[(<()>\"\n",
    "                            \n",
    "x = re.finditer( '<', test2)\n",
    "y = re.finditer( '>', test2)\n",
    "print([i.start() for i in x])\n",
    "print([i.start() for i in y])"
   ]
  },
  {
   "cell_type": "code",
   "execution_count": 37,
   "id": "318c17ce",
   "metadata": {},
   "outputs": [
    {
     "name": "stdout",
     "output_type": "stream",
     "text": [
      "[0, 5, 14, 17]\n",
      "[6, 12]\n"
     ]
    }
   ],
   "source": [
    "test2 =\"{([(<{}[<>[]}>{[]{[(<()>\"\n",
    "                            \n",
    "x = re.finditer( '{', test2)\n",
    "y = re.finditer( '}', test2)\n",
    "print([i.start() for i in x])\n",
    "print([i.start() for i in y])"
   ]
  },
  {
   "cell_type": "code",
   "execution_count": 30,
   "id": "e2406f2d",
   "metadata": {},
   "outputs": [
    {
     "name": "stdout",
     "output_type": "stream",
     "text": [
      "[3, 9, 55, 59]\n",
      "[61]\n"
     ]
    }
   ],
   "source": [
    "test2 =\"{  (  [  (  <  {  }  [  <  >  []  } >   {  [ ]   {   [ ( < ( ) > \"\n",
    "                            \n",
    "x = re.finditer( '\\\\(', test2)\n",
    "y = re.finditer( '\\\\)', test2)\n",
    "print([i.start() for i in x])\n",
    "print([i.start() for i in y])"
   ]
  },
  {
   "cell_type": "code",
   "execution_count": 38,
   "id": "df2f21d9",
   "metadata": {},
   "outputs": [
    {
     "data": {
      "text/plain": [
       "'{[<{}[<>[]}>{[]{[<)>'"
      ]
     },
     "execution_count": 38,
     "metadata": {},
     "output_type": "execute_result"
    }
   ],
   "source": [
    "re.sub( \"\\\\(\", \"\",test2)"
   ]
  }
 ],
 "metadata": {
  "kernelspec": {
   "display_name": "Python 3",
   "language": "python",
   "name": "python3"
  },
  "language_info": {
   "codemirror_mode": {
    "name": "ipython",
    "version": 3
   },
   "file_extension": ".py",
   "mimetype": "text/x-python",
   "name": "python",
   "nbconvert_exporter": "python",
   "pygments_lexer": "ipython3",
   "version": "3.8.8"
  }
 },
 "nbformat": 4,
 "nbformat_minor": 5
}
