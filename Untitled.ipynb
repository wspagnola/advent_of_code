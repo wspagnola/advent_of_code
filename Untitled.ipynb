{
 "cells": [
  {
   "cell_type": "code",
   "execution_count": 17,
   "id": "083bdf77",
   "metadata": {},
   "outputs": [],
   "source": [
    "import os\n",
    "import pandas as pd\n",
    "import  numpy as np"
   ]
  },
  {
   "cell_type": "code",
   "execution_count": 10,
   "id": "6400acd7",
   "metadata": {},
   "outputs": [
    {
     "data": {
      "text/plain": [
       "'/Users/WilliamSpagnola/Desktop'"
      ]
     },
     "execution_count": 10,
     "metadata": {},
     "output_type": "execute_result"
    }
   ],
   "source": [
    "os.getcwd()"
   ]
  },
  {
   "cell_type": "code",
   "execution_count": 28,
   "id": "7761d43c",
   "metadata": {},
   "outputs": [],
   "source": [
    "#os.listdir()\n",
    "dta = pd.read_csv('input.txt', dtype = str)"
   ]
  },
  {
   "cell_type": "code",
   "execution_count": 44,
   "id": "07343524",
   "metadata": {},
   "outputs": [
    {
     "data": {
      "text/plain": [
       "[['010000100100'],\n",
       " ['010011111111'],\n",
       " ['000101001111'],\n",
       " ['010100011111'],\n",
       " ['111100111011']]"
      ]
     },
     "execution_count": 44,
     "metadata": {},
     "output_type": "execute_result"
    }
   ],
   "source": [
    "lst = pd.Series.tolist(dta)\n",
    "lst[0:5]"
   ]
  },
  {
   "cell_type": "markdown",
   "id": "d117e637",
   "metadata": {},
   "source": [
    "#### Unnest List"
   ]
  },
  {
   "cell_type": "code",
   "execution_count": 76,
   "id": "cc0db868",
   "metadata": {},
   "outputs": [],
   "source": [
    "#a = [split(words) for words in lst]\n",
    "# Note: Remember lists are mutable so you can append \"in place\" rather than using assignment \n",
    "\n",
    "def unnest(lst):\n",
    "    unnest_lst = []\n",
    "    for sublst in lst:\n",
    "        for elem in sublst:\n",
    "            unnest_lst.append(elem)\n",
    "    return(unnest_lst)\n",
    "\n",
    "unnest_lst = unnest(lst)"
   ]
  },
  {
   "cell_type": "markdown",
   "id": "994de5f9",
   "metadata": {},
   "source": [
    "#### Split Characters"
   ]
  },
  {
   "cell_type": "code",
   "execution_count": 83,
   "id": "e2ccd27a",
   "metadata": {},
   "outputs": [],
   "source": [
    "# from https://www.geeksforgeeks.org/python-split-string-into-list-of-characters/\n",
    "def int_split(word):\n",
    "    return [int(char) for char in word]"
   ]
  },
  {
   "cell_type": "code",
   "execution_count": 84,
   "id": "12b942f9",
   "metadata": {},
   "outputs": [
    {
     "data": {
      "text/plain": [
       "[[0, 1, 0, 0, 0, 0, 1, 0, 0, 1, 0, 0],\n",
       " [0, 1, 0, 0, 1, 1, 1, 1, 1, 1, 1, 1],\n",
       " [0, 0, 0, 1, 0, 1, 0, 0, 1, 1, 1, 1],\n",
       " [0, 1, 0, 1, 0, 0, 0, 1, 1, 1, 1, 1],\n",
       " [1, 1, 1, 1, 0, 0, 1, 1, 1, 0, 1, 1]]"
      ]
     },
     "execution_count": 84,
     "metadata": {},
     "output_type": "execute_result"
    }
   ],
   "source": [
    "splt_lst = [int_split(i) for i in unnest_lst]\n",
    "splt_lst[0:5]"
   ]
  },
  {
   "cell_type": "code",
   "execution_count": 86,
   "id": "33f80d67",
   "metadata": {},
   "outputs": [
    {
     "data": {
      "text/plain": [
       "array([[0, 1, 0, ..., 1, 0, 0],\n",
       "       [0, 1, 0, ..., 1, 1, 1],\n",
       "       [0, 0, 0, ..., 1, 1, 1],\n",
       "       ...,\n",
       "       [1, 1, 0, ..., 1, 0, 1],\n",
       "       [0, 1, 1, ..., 0, 0, 1],\n",
       "       [0, 0, 1, ..., 1, 1, 1]])"
      ]
     },
     "execution_count": 86,
     "metadata": {},
     "output_type": "execute_result"
    }
   ],
   "source": [
    "mat = np.asarray(splt_lst)\n",
    "mat"
   ]
  },
  {
   "cell_type": "code",
   "execution_count": 91,
   "id": "dccc0256",
   "metadata": {},
   "outputs": [
    {
     "data": {
      "text/plain": [
       "(999, 12)"
      ]
     },
     "execution_count": 91,
     "metadata": {},
     "output_type": "execute_result"
    }
   ],
   "source": [
    "mat.shape"
   ]
  },
  {
   "cell_type": "code",
   "execution_count": 93,
   "id": "757dc8b9",
   "metadata": {},
   "outputs": [
    {
     "data": {
      "text/plain": [
       "array([1, 1, 0, 0, 0, 0, 1, 1, 1, 1, 1, 1])"
      ]
     },
     "execution_count": 93,
     "metadata": {},
     "output_type": "execute_result"
    }
   ],
   "source": [
    "(mat.sum(axis = 0) >= (mat.shape[0] / 2))*1"
   ]
  },
  {
   "cell_type": "code",
   "execution_count": 117,
   "id": "f9e87dfc",
   "metadata": {},
   "outputs": [
    {
     "data": {
      "text/plain": [
       "array([   1,    2,    4,    8,   16,   32,   64,  128,  256,  512, 1024,\n",
       "       2048])"
      ]
     },
     "execution_count": 117,
     "metadata": {},
     "output_type": "execute_result"
    }
   ],
   "source": [
    "z = np.arange(mat.shape[1])\n",
    "#z = np.repeat(2, 12)\n",
    "#z\n",
    "\n",
    "#map()\n",
    "\n",
    "def exp_2(x):\n",
    "    return(2**x)\n",
    "\n",
    "bin_array = np.asarray(list(map(exp_2, z)))"
   ]
  },
  {
   "cell_type": "code",
   "execution_count": null,
   "id": "f69eedeb",
   "metadata": {},
   "outputs": [],
   "source": []
  }
 ],
 "metadata": {
  "kernelspec": {
   "display_name": "Python 3",
   "language": "python",
   "name": "python3"
  },
  "language_info": {
   "codemirror_mode": {
    "name": "ipython",
    "version": 3
   },
   "file_extension": ".py",
   "mimetype": "text/x-python",
   "name": "python",
   "nbconvert_exporter": "python",
   "pygments_lexer": "ipython3",
   "version": "3.8.8"
  }
 },
 "nbformat": 4,
 "nbformat_minor": 5
}
