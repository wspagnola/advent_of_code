{
 "cells": [
  {
   "cell_type": "code",
   "execution_count": 138,
   "id": "96e77f87",
   "metadata": {},
   "outputs": [],
   "source": [
    "import numpy as np\n",
    "import pandas as pd"
   ]
  },
  {
   "cell_type": "code",
   "execution_count": 139,
   "id": "e05e128b",
   "metadata": {},
   "outputs": [],
   "source": [
    "txt = \"start-A \\n start-b \\n A-c \\n A-b \\n b-d \\n A-end \\nb-end\""
   ]
  },
  {
   "cell_type": "code",
   "execution_count": 140,
   "id": "4d7b0a34",
   "metadata": {},
   "outputs": [],
   "source": [
    "txt_lst = [word.split('-') for word in txt.split() ]"
   ]
  },
  {
   "cell_type": "code",
   "execution_count": 141,
   "id": "8d2213a3",
   "metadata": {},
   "outputs": [
    {
     "data": {
      "text/html": [
       "<div>\n",
       "<style scoped>\n",
       "    .dataframe tbody tr th:only-of-type {\n",
       "        vertical-align: middle;\n",
       "    }\n",
       "\n",
       "    .dataframe tbody tr th {\n",
       "        vertical-align: top;\n",
       "    }\n",
       "\n",
       "    .dataframe thead th {\n",
       "        text-align: right;\n",
       "    }\n",
       "</style>\n",
       "<table border=\"1\" class=\"dataframe\">\n",
       "  <thead>\n",
       "    <tr style=\"text-align: right;\">\n",
       "      <th></th>\n",
       "      <th>source</th>\n",
       "      <th>target</th>\n",
       "    </tr>\n",
       "  </thead>\n",
       "  <tbody>\n",
       "    <tr>\n",
       "      <th>0</th>\n",
       "      <td>start</td>\n",
       "      <td>A</td>\n",
       "    </tr>\n",
       "    <tr>\n",
       "      <th>1</th>\n",
       "      <td>start</td>\n",
       "      <td>b</td>\n",
       "    </tr>\n",
       "    <tr>\n",
       "      <th>2</th>\n",
       "      <td>A</td>\n",
       "      <td>c</td>\n",
       "    </tr>\n",
       "    <tr>\n",
       "      <th>3</th>\n",
       "      <td>A</td>\n",
       "      <td>b</td>\n",
       "    </tr>\n",
       "    <tr>\n",
       "      <th>4</th>\n",
       "      <td>b</td>\n",
       "      <td>d</td>\n",
       "    </tr>\n",
       "    <tr>\n",
       "      <th>5</th>\n",
       "      <td>A</td>\n",
       "      <td>end</td>\n",
       "    </tr>\n",
       "    <tr>\n",
       "      <th>6</th>\n",
       "      <td>b</td>\n",
       "      <td>end</td>\n",
       "    </tr>\n",
       "  </tbody>\n",
       "</table>\n",
       "</div>"
      ],
      "text/plain": [
       "  source target\n",
       "0  start      A\n",
       "1  start      b\n",
       "2      A      c\n",
       "3      A      b\n",
       "4      b      d\n",
       "5      A    end\n",
       "6      b    end"
      ]
     },
     "execution_count": 141,
     "metadata": {},
     "output_type": "execute_result"
    }
   ],
   "source": [
    "net = pd.DataFrame(txt_lst, columns = ['source', 'target'])\n",
    "net\n",
    "\n",
    "# start -> A -> b -> end"
   ]
  },
  {
   "cell_type": "code",
   "execution_count": 142,
   "id": "43a8bb98",
   "metadata": {},
   "outputs": [
    {
     "ename": "AttributeError",
     "evalue": "'DataFrame' object has no attribute 'Source'",
     "output_type": "error",
     "traceback": [
      "\u001b[0;31m---------------------------------------------------------------------------\u001b[0m",
      "\u001b[0;31mAttributeError\u001b[0m                            Traceback (most recent call last)",
      "\u001b[0;32m<ipython-input-142-a341108ffc7c>\u001b[0m in \u001b[0;36m<module>\u001b[0;34m\u001b[0m\n\u001b[0;32m----> 1\u001b[0;31m \u001b[0mstart_rows\u001b[0m \u001b[0;34m=\u001b[0m \u001b[0mnet\u001b[0m\u001b[0;34m[\u001b[0m\u001b[0mnet\u001b[0m\u001b[0;34m.\u001b[0m\u001b[0mSource\u001b[0m \u001b[0;34m==\u001b[0m \u001b[0;34m'start'\u001b[0m\u001b[0;34m]\u001b[0m\u001b[0;34m\u001b[0m\u001b[0;34m\u001b[0m\u001b[0m\n\u001b[0m",
      "\u001b[0;32m~/opt/anaconda3/lib/python3.8/site-packages/pandas/core/generic.py\u001b[0m in \u001b[0;36m__getattr__\u001b[0;34m(self, name)\u001b[0m\n\u001b[1;32m   5463\u001b[0m             \u001b[0;32mif\u001b[0m \u001b[0mself\u001b[0m\u001b[0;34m.\u001b[0m\u001b[0m_info_axis\u001b[0m\u001b[0;34m.\u001b[0m\u001b[0m_can_hold_identifiers_and_holds_name\u001b[0m\u001b[0;34m(\u001b[0m\u001b[0mname\u001b[0m\u001b[0;34m)\u001b[0m\u001b[0;34m:\u001b[0m\u001b[0;34m\u001b[0m\u001b[0;34m\u001b[0m\u001b[0m\n\u001b[1;32m   5464\u001b[0m                 \u001b[0;32mreturn\u001b[0m \u001b[0mself\u001b[0m\u001b[0;34m[\u001b[0m\u001b[0mname\u001b[0m\u001b[0;34m]\u001b[0m\u001b[0;34m\u001b[0m\u001b[0;34m\u001b[0m\u001b[0m\n\u001b[0;32m-> 5465\u001b[0;31m             \u001b[0;32mreturn\u001b[0m \u001b[0mobject\u001b[0m\u001b[0;34m.\u001b[0m\u001b[0m__getattribute__\u001b[0m\u001b[0;34m(\u001b[0m\u001b[0mself\u001b[0m\u001b[0;34m,\u001b[0m \u001b[0mname\u001b[0m\u001b[0;34m)\u001b[0m\u001b[0;34m\u001b[0m\u001b[0;34m\u001b[0m\u001b[0m\n\u001b[0m\u001b[1;32m   5466\u001b[0m \u001b[0;34m\u001b[0m\u001b[0m\n\u001b[1;32m   5467\u001b[0m     \u001b[0;32mdef\u001b[0m \u001b[0m__setattr__\u001b[0m\u001b[0;34m(\u001b[0m\u001b[0mself\u001b[0m\u001b[0;34m,\u001b[0m \u001b[0mname\u001b[0m\u001b[0;34m:\u001b[0m \u001b[0mstr\u001b[0m\u001b[0;34m,\u001b[0m \u001b[0mvalue\u001b[0m\u001b[0;34m)\u001b[0m \u001b[0;34m->\u001b[0m \u001b[0;32mNone\u001b[0m\u001b[0;34m:\u001b[0m\u001b[0;34m\u001b[0m\u001b[0;34m\u001b[0m\u001b[0m\n",
      "\u001b[0;31mAttributeError\u001b[0m: 'DataFrame' object has no attribute 'Source'"
     ]
    }
   ],
   "source": [
    "start_rows = net[net.Source == 'start']"
   ]
  },
  {
   "cell_type": "code",
   "execution_count": 143,
   "id": "36db9461",
   "metadata": {},
   "outputs": [
    {
     "ename": "AttributeError",
     "evalue": "'DataFrame' object has no attribute 'Source'",
     "output_type": "error",
     "traceback": [
      "\u001b[0;31m---------------------------------------------------------------------------\u001b[0m",
      "\u001b[0;31mAttributeError\u001b[0m                            Traceback (most recent call last)",
      "\u001b[0;32m<ipython-input-143-1be134963b6b>\u001b[0m in \u001b[0;36m<module>\u001b[0;34m\u001b[0m\n\u001b[1;32m      5\u001b[0m     \u001b[0my\u001b[0m \u001b[0;34m=\u001b[0m \u001b[0md\u001b[0m\u001b[0;34m[\u001b[0m\u001b[0;36m1\u001b[0m\u001b[0;34m]\u001b[0m\u001b[0;34m\u001b[0m\u001b[0;34m\u001b[0m\u001b[0m\n\u001b[1;32m      6\u001b[0m \u001b[0;34m\u001b[0m\u001b[0m\n\u001b[0;32m----> 7\u001b[0;31m     \u001b[0mnext_row\u001b[0m \u001b[0;34m=\u001b[0m \u001b[0mnet\u001b[0m\u001b[0;34m[\u001b[0m\u001b[0mnet\u001b[0m\u001b[0;34m.\u001b[0m\u001b[0mSource\u001b[0m \u001b[0;34m==\u001b[0m\u001b[0my\u001b[0m\u001b[0;34m]\u001b[0m\u001b[0;34m\u001b[0m\u001b[0;34m\u001b[0m\u001b[0m\n\u001b[0m\u001b[1;32m      8\u001b[0m \u001b[0;34m\u001b[0m\u001b[0m\n\u001b[1;32m      9\u001b[0m     \u001b[0;32mfor\u001b[0m \u001b[0mrows\u001b[0m \u001b[0;32min\u001b[0m \u001b[0mnext_row\u001b[0m\u001b[0;34m.\u001b[0m\u001b[0miterrows\u001b[0m\u001b[0;34m(\u001b[0m\u001b[0;34m)\u001b[0m\u001b[0;34m:\u001b[0m\u001b[0;34m\u001b[0m\u001b[0;34m\u001b[0m\u001b[0m\n",
      "\u001b[0;32m~/opt/anaconda3/lib/python3.8/site-packages/pandas/core/generic.py\u001b[0m in \u001b[0;36m__getattr__\u001b[0;34m(self, name)\u001b[0m\n\u001b[1;32m   5463\u001b[0m             \u001b[0;32mif\u001b[0m \u001b[0mself\u001b[0m\u001b[0;34m.\u001b[0m\u001b[0m_info_axis\u001b[0m\u001b[0;34m.\u001b[0m\u001b[0m_can_hold_identifiers_and_holds_name\u001b[0m\u001b[0;34m(\u001b[0m\u001b[0mname\u001b[0m\u001b[0;34m)\u001b[0m\u001b[0;34m:\u001b[0m\u001b[0;34m\u001b[0m\u001b[0;34m\u001b[0m\u001b[0m\n\u001b[1;32m   5464\u001b[0m                 \u001b[0;32mreturn\u001b[0m \u001b[0mself\u001b[0m\u001b[0;34m[\u001b[0m\u001b[0mname\u001b[0m\u001b[0;34m]\u001b[0m\u001b[0;34m\u001b[0m\u001b[0;34m\u001b[0m\u001b[0m\n\u001b[0;32m-> 5465\u001b[0;31m             \u001b[0;32mreturn\u001b[0m \u001b[0mobject\u001b[0m\u001b[0;34m.\u001b[0m\u001b[0m__getattribute__\u001b[0m\u001b[0;34m(\u001b[0m\u001b[0mself\u001b[0m\u001b[0;34m,\u001b[0m \u001b[0mname\u001b[0m\u001b[0;34m)\u001b[0m\u001b[0;34m\u001b[0m\u001b[0;34m\u001b[0m\u001b[0m\n\u001b[0m\u001b[1;32m   5466\u001b[0m \u001b[0;34m\u001b[0m\u001b[0m\n\u001b[1;32m   5467\u001b[0m     \u001b[0;32mdef\u001b[0m \u001b[0m__setattr__\u001b[0m\u001b[0;34m(\u001b[0m\u001b[0mself\u001b[0m\u001b[0;34m,\u001b[0m \u001b[0mname\u001b[0m\u001b[0;34m:\u001b[0m \u001b[0mstr\u001b[0m\u001b[0;34m,\u001b[0m \u001b[0mvalue\u001b[0m\u001b[0;34m)\u001b[0m \u001b[0;34m->\u001b[0m \u001b[0;32mNone\u001b[0m\u001b[0;34m:\u001b[0m\u001b[0;34m\u001b[0m\u001b[0;34m\u001b[0m\u001b[0m\n",
      "\u001b[0;31mAttributeError\u001b[0m: 'DataFrame' object has no attribute 'Source'"
     ]
    }
   ],
   "source": [
    "x = []\n",
    "for rows in start_rows.iterrows():\n",
    "    d = rows[1]\n",
    "    x = d[0]\n",
    "    y = d[1]\n",
    "    \n",
    "    next_row = net[net.Source ==y]\n",
    "    \n",
    "    for rows in next_row.iterrows():\n",
    "        \n",
    "        print(\"Next Row\\n\", next_row)\n",
    "    \n",
    "        x = next_row['Target']\n",
    "    \n",
    "        print(\"\\nNext Row\\n\", x)\n",
    "        \n",
    "        f\n",
    "    \n",
    "        #while y != \"end\":\n",
    "        break\n",
    "#next_row"
   ]
  },
  {
   "cell_type": "code",
   "execution_count": 214,
   "id": "a8222007",
   "metadata": {},
   "outputs": [],
   "source": [
    "def find_next_row(dta, source):\n",
    "    \n",
    "    paths = []\n",
    "\n",
    "    #return(dta.loc[dta.source == source])\n",
    "    cur_row = dta.loc[dta.source == source]\n",
    "    #print(0)\n",
    "    print(cur_row)\n",
    "    nrow = cur_row.shape[0]\n",
    "    \n",
    "    for i in range(nrow):\n",
    "        #print(i+1)\n",
    "        \n",
    "        path_lst = [source]\n",
    "            \n",
    "        next_row = dta.loc[dta.source ==cur_row.target[i] ]\n",
    "        print(\"\\nPath\", cur_row.target[i])\n",
    "        print(\"\\nNode:\\n\", next_row)\n",
    "        \n",
    "        path_lst.append(cur_row.target[i])\n",
    "        print(path_lst)\n",
    "        \n",
    "        # cycles through next target\n",
    "        for j in next_row.target:      \n",
    "            print(\"\\nTarget\", j)\n",
    "            k = j\n",
    "            while(dta.loc[dta.source == k].shape[0] > 0):\n",
    "                path_lst.append(k)\n",
    "                dta.loc[dta.source ==k ]\n",
    "      \n",
    "        paths.append(path_lst)\n",
    "    return(paths)     \n",
    "        \n",
    "#             print('next')\n",
    "       # else:\n",
    "           # return(path_lst)\n",
    "         \n",
    "#         for j in range(next_row.shape[0]):\n",
    "        \n",
    "#             #print(cur_row.target[i])\n",
    "           \n",
    "#             print(\"\\nPath\",  next_row.target.iloc[j])\n",
    "#             path_lst.append(next_row.target.iloc[j])\n",
    "            \n",
    "            #next_row2 = dta.loc[source == next_row.target.iloc[j]].shape[0]\n",
    "            \n",
    "            \n",
    "            #next_row2 = dta.loc[dta.source == x]\n",
    "           \n",
    "            #find_next_row(next_row2, x)\n",
    "        #paths.append(path_lst)\n",
    "   \n",
    "\n",
    "    #return(next_row)"
   ]
  },
  {
   "cell_type": "code",
   "execution_count": 215,
   "id": "bd0c1a57",
   "metadata": {},
   "outputs": [
    {
     "name": "stdout",
     "output_type": "stream",
     "text": [
      "  source target\n",
      "0  start      A\n",
      "1  start      b\n",
      "\n",
      "Path A\n",
      "\n",
      "Node:\n",
      "   source target\n",
      "2      A      c\n",
      "3      A      b\n",
      "5      A    end\n",
      "['start', 'A']\n",
      "\n",
      "Target c\n",
      "\n",
      "Target b\n",
      "\n",
      "Target end\n",
      "\n",
      "Path b\n",
      "\n",
      "Node:\n",
      "   source target\n",
      "4      b      d\n",
      "6      b    end\n",
      "['start', 'b']\n",
      "\n",
      "Target d\n",
      "\n",
      "Target end\n"
     ]
    },
    {
     "data": {
      "text/plain": [
       "[['start', 'A', 'b'], ['start', 'b']]"
      ]
     },
     "execution_count": 215,
     "metadata": {},
     "output_type": "execute_result"
    }
   ],
   "source": [
    "find_next_row(net, \"start\")"
   ]
  },
  {
   "cell_type": "markdown",
   "id": "3c69782b",
   "metadata": {},
   "source": [
    "##  Attempt 2"
   ]
  },
  {
   "cell_type": "code",
   "execution_count": 255,
   "id": "dcc5f611",
   "metadata": {},
   "outputs": [],
   "source": [
    "def find_next_row(dta, source):\n",
    "    \n",
    "    paths = []\n",
    "  \n",
    "    node0 = dta.loc[dta.source == source] #first node \n",
    "\n",
    "    nrow = node0.shape[0] # find out how mayn targets in first node\n",
    "   # print(node0)\n",
    "    \n",
    "    for i in node0.target:\n",
    "       # print(i)\n",
    "        \n",
    "        path_lst = [source, i] #initalize path list \n",
    "        paths.append(path_lst)\n",
    "    return(paths)\n",
    "    \n",
    "#find_next_row(net, \"start\")"
   ]
  },
  {
   "cell_type": "code",
   "execution_count": 270,
   "id": "6bb6beb5",
   "metadata": {},
   "outputs": [
    {
     "name": "stdout",
     "output_type": "stream",
     "text": [
      "[['start', 'A'], ['start', 'b']]\n",
      "[['A', 'c'], ['A', 'b'], ['A', 'end']]\n",
      "[]\n",
      "[['start', 'A'], ['start', 'b']]\n",
      "[['A', 'c'], ['A', 'b'], ['A', 'end']]\n",
      "[['b', 'd'], ['b', 'end']]\n",
      "[]\n",
      "[['start', 'A'], ['start', 'b']]\n",
      "[['A', 'c'], ['A', 'b'], ['A', 'end']]\n",
      "[]\n",
      "[['start', 'A'], ['start', 'b']]\n",
      "[['b', 'd'], ['b', 'end']]\n"
     ]
    }
   ],
   "source": [
    "print(find_next_row(net, \"start\"))\n",
    "print(find_next_row(net, \"A\"))\n",
    "print(find_next_row(net, \"c\"))\n",
    "\n",
    "print(find_next_row(net, \"start\"))\n",
    "print(find_next_row(net, \"A\"))\n",
    "print(find_next_row(net, \"b\"))\n",
    "print(find_next_row(net, \"d\"))\n",
    "\n",
    "print(find_next_row(net, \"start\"))\n",
    "print(find_next_row(net, \"A\"))\n",
    "print(find_next_row(net, \"end\"))\n",
    "\n",
    "print(find_next_row(net, \"start\"))\n",
    "print(find_next_row(net, \"b\"))\n",
    "print(find_next_row(net, \"b\"))"
   ]
  },
  {
   "cell_type": "code",
   "execution_count": null,
   "id": "d003bf72",
   "metadata": {},
   "outputs": [],
   "source": []
  },
  {
   "cell_type": "code",
   "execution_count": null,
   "id": "51649234",
   "metadata": {},
   "outputs": [],
   "source": []
  }
 ],
 "metadata": {
  "kernelspec": {
   "display_name": "Python 3",
   "language": "python",
   "name": "python3"
  },
  "language_info": {
   "codemirror_mode": {
    "name": "ipython",
    "version": 3
   },
   "file_extension": ".py",
   "mimetype": "text/x-python",
   "name": "python",
   "nbconvert_exporter": "python",
   "pygments_lexer": "ipython3",
   "version": "3.8.8"
  }
 },
 "nbformat": 4,
 "nbformat_minor": 5
}
