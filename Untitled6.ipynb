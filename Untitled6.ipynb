{
 "cells": [
  {
   "cell_type": "code",
   "execution_count": 3,
   "id": "795e075d",
   "metadata": {},
   "outputs": [],
   "source": [
    "import numpy as np"
   ]
  },
  {
   "cell_type": "code",
   "execution_count": 24,
   "id": "69b5cccd",
   "metadata": {},
   "outputs": [
    {
     "data": {
      "text/plain": [
       "array([[1, 1, 1, 1, 1],\n",
       "       [1, 9, 9, 9, 1],\n",
       "       [1, 9, 1, 9, 1],\n",
       "       [1, 9, 9, 9, 1],\n",
       "       [1, 1, 1, 1, 1]])"
      ]
     },
     "execution_count": 24,
     "metadata": {},
     "output_type": "execute_result"
    }
   ],
   "source": [
    "lst_test = [[1,1,1,1,1],\n",
    "     [1,9,9,9,1],\n",
    "     [1,9,1,9,1],\n",
    "     [1,9,9,9,1],\n",
    "     [1,1,1,1,1]]\n",
    "a = np.array(lst_test)\n",
    "a"
   ]
  },
  {
   "cell_type": "code",
   "execution_count": 50,
   "id": "676af4b3",
   "metadata": {},
   "outputs": [
    {
     "name": "stdout",
     "output_type": "stream",
     "text": [
      "0\n",
      "1\n",
      "2\n",
      "3\n",
      "4\n",
      "5\n",
      "6\n",
      "7\n"
     ]
    }
   ],
   "source": [
    "a.shape\n",
    "len(x)\n",
    "\n",
    "for m in range(len(x)):\n",
    "    print(m)"
   ]
  },
  {
   "cell_type": "code",
   "execution_count": 149,
   "id": "44c7fcd4",
   "metadata": {},
   "outputs": [
    {
     "name": "stdout",
     "output_type": "stream",
     "text": [
      "1\n"
     ]
    },
    {
     "data": {
      "text/plain": [
       "array([[ 3,  4,  5,  4,  3],\n",
       "       [ 4, 10, 10, 10,  4],\n",
       "       [ 5, 10, 10, 10,  5],\n",
       "       [ 4, 10, 10, 10,  4],\n",
       "       [ 3,  4,  5,  4,  3]])"
      ]
     },
     "execution_count": 149,
     "metadata": {},
     "output_type": "execute_result"
    }
   ],
   "source": [
    "\n",
    "# Initialize\n",
    "nrow, ncol = a.shape\n",
    "a1 = a + 1\n",
    "x, y = np.where(a1 == 10)\n",
    "\n",
    "\n",
    "# while loop here\n",
    "#while len(x) > 0:\n",
    "a2 = np.zeros([5,5], dtype = int)\n",
    "\n",
    "for m in range(len(x)):\n",
    "        i = x[m]\n",
    "        j = y[m]\n",
    "        coord = [i, j]\n",
    "\n",
    "        u = i-1 if (i > 0) else np.nan\n",
    "        d = i + 1 if (i < nrow)  else np.nan\n",
    "        ver = (u, d)\n",
    "        #print(ver)\n",
    "\n",
    "        l = j-1 if (j > 0) else np.nan\n",
    "        r = j+1 if (j < ncol) else np.nan\n",
    "        hor = (l, r)\n",
    "\n",
    "        diag_ul = (u, l)\n",
    "        diag_ur = (u, r)\n",
    "        diag_dl = (d, l)\n",
    "        diag_dr = (d, r)\n",
    "        diag = [diag_ul, diag_ur, diag_dl, diag_dr]\n",
    "        #print(diag)\n",
    "         # An octopus can only flash at most once per step\n",
    "        for n in ver:\n",
    "            if (np.isnan(n) == False) & (a1[n,j] < 10):\n",
    "                #print(\"plus 1 hor\")\n",
    "                a2[n, j] = a2[n, j] + 1\n",
    "        for n in hor:\n",
    "            if (np.isnan(n) == False) & (a1[i,n] < 10):\n",
    "                a2[i, n] = a2[i, n] + 1\n",
    "        for n in diag:\n",
    "           # print(a2[n])\n",
    "            if a1[n] < 10:\n",
    "                a2[n] = a2[n] + 1\n",
    "at = a1 + a2\n",
    "\n",
    "new_flash = ((at > 9)*(a1 < 9) )\n",
    "x, y = np.where(new_flash)\n",
    "\n",
    "print(len(x))\n",
    "\n",
    "a1 = at\n",
    "    \n",
    "    \n",
    "    \n",
    "#a2 = np.zeros([5,5], dtype = int)\n",
    "        \n",
    "            #a2[diag[0]] = a2[diag] + 1\n",
    "        #print(coord)\n",
    "        #print(a2)\n",
    "        #a2 = np.zeros([5,5], dtype = int)\n",
    "        #print(coord)\n",
    "        #print(lr)\n",
    "     \n",
    "        #print('\\n')\n",
    "\n",
    "at"
   ]
  },
  {
   "cell_type": "code",
   "execution_count": null,
   "id": "8836d301",
   "metadata": {},
   "outputs": [],
   "source": [
    "a3 = a1 + a2\n",
    "a3[a3 > 9] = a3[a3 > 9] - 9\n",
    "#print(a3)\n",
    "a\n",
    "#print(a1)\n",
    "print(a2)\n",
    "#print(a3)\n",
    "a1 + a2\n",
    "a2\n",
    "\n",
    "a1\n",
    "\n",
    "at = a1 + a2\n",
    "# step 2 \n",
    "(at > 9)*(a1 < 9)*1"
   ]
  },
  {
   "cell_type": "code",
   "execution_count": 86,
   "id": "a856f7b1",
   "metadata": {},
   "outputs": [
    {
     "name": "stdout",
     "output_type": "stream",
     "text": [
      "[[ 2  2  2  2  2]\n",
      " [ 2 10 10 10  2]\n",
      " [ 2 10  2 10  2]\n",
      " [ 2 10 10 10  2]\n",
      " [ 2  2  2  2  2]]\n"
     ]
    }
   ],
   "source": []
  },
  {
   "cell_type": "code",
   "execution_count": null,
   "id": "1429ffb8",
   "metadata": {},
   "outputs": [],
   "source": [
    "\n",
    "\n",
    "print(a1)\n",
    "\n",
    "\n",
    "print(x)\n",
    "print(y)\n",
    "# for i in range(nrow):\n",
    "#     for j in range(ncol):\n",
    "#         print(a[i, j])"
   ]
  }
 ],
 "metadata": {
  "kernelspec": {
   "display_name": "Python 3",
   "language": "python",
   "name": "python3"
  },
  "language_info": {
   "codemirror_mode": {
    "name": "ipython",
    "version": 3
   },
   "file_extension": ".py",
   "mimetype": "text/x-python",
   "name": "python",
   "nbconvert_exporter": "python",
   "pygments_lexer": "ipython3",
   "version": "3.8.8"
  }
 },
 "nbformat": 4,
 "nbformat_minor": 5
}
