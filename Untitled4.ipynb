{
 "cells": [
  {
   "cell_type": "code",
   "execution_count": 6,
   "id": "b22f8e3e",
   "metadata": {},
   "outputs": [],
   "source": [
    "import numpy as np"
   ]
  },
  {
   "cell_type": "code",
   "execution_count": 96,
   "id": "c17c5d06",
   "metadata": {},
   "outputs": [
    {
     "name": "stdout",
     "output_type": "stream",
     "text": [
      "(5, 10)\n",
      "5\n",
      "10\n"
     ]
    }
   ],
   "source": [
    "a = np.array([[2,1,9,9,9,4,3,2,1,0],\n",
    "              [3,9,8,7,8,9,4,9,2,1],\n",
    "              [9,8,5,6,7,8,9,8,9,2],\n",
    "              [8,7,6,7,8,9,6,7,8,9],\n",
    "              [9,8,9,9,9,6,5,6,7,8]])\n",
    "\n",
    "nrow = a.shape[0]\n",
    "ncol = a.shape[1]\n",
    "\n",
    "print(a.shape)\n",
    "print(nrow)\n",
    "print(ncol)\n"
   ]
  },
  {
   "cell_type": "code",
   "execution_count": 58,
   "id": "dafe159a",
   "metadata": {},
   "outputs": [
    {
     "data": {
      "text/plain": [
       "inf"
      ]
     },
     "execution_count": 58,
     "metadata": {},
     "output_type": "execute_result"
    }
   ],
   "source": [
    "np.inf"
   ]
  },
  {
   "cell_type": "code",
   "execution_count": 103,
   "id": "d450ec29",
   "metadata": {},
   "outputs": [
    {
     "name": "stdout",
     "output_type": "stream",
     "text": [
      "[(0, 1), (0, 9), (2, 2), (4, 6)]\n"
     ]
    }
   ],
   "source": [
    "min_lst = []\n",
    "\n",
    "for i in range(a.shape[0]):\n",
    "    for j in range(a.shape[1]):\n",
    "        #print(i, j)\n",
    "        check_l = a[i - 1, j] if i > 0    else np.inf\n",
    "        check_r = a[i + 1, j] if i < (nrow-1) else np.inf\n",
    "        check_u = a[i, j - 1] if j > 0    else np.inf\n",
    "        check_d = a[i, j + 1] if j < (ncol-1) else np.inf\n",
    "        \n",
    "        check_vec = [check_l, check_r, check_u, check_d]\n",
    "        check = np.mean(a[i, j] < check_vec) == 1\n",
    "        #print(check)\n",
    "        if check == True:\n",
    "            min_lst.append((i, j))\n",
    "        #print(check)\n",
    "print(min_lst)"
   ]
  },
  {
   "cell_type": "code",
   "execution_count": 106,
   "id": "5a0b83d3",
   "metadata": {},
   "outputs": [
    {
     "data": {
      "text/plain": [
       "15"
      ]
     },
     "execution_count": 106,
     "metadata": {},
     "output_type": "execute_result"
    }
   ],
   "source": [
    "sum([a[x]+ 1 for x in min_lst] )"
   ]
  },
  {
   "cell_type": "code",
   "execution_count": null,
   "id": "b8588f68",
   "metadata": {},
   "outputs": [],
   "source": []
  },
  {
   "cell_type": "markdown",
   "id": "faf51a94",
   "metadata": {},
   "source": [
    "## Old Code"
   ]
  },
  {
   "cell_type": "code",
   "execution_count": 67,
   "id": "f953c80e",
   "metadata": {},
   "outputs": [
    {
     "name": "stdout",
     "output_type": "stream",
     "text": [
      "5\n",
      "10\n"
     ]
    }
   ],
   "source": [
    "\n",
    "# for i in range(a.shape[0]):\n",
    "#     for j in range(a.shape[1]):\n",
    "        \n",
    "#         # inside \n",
    "#         if ((i > 0) & (i < nrow - 1) & (j > 0) & (j < ncol - 1) ):\n",
    "            \n",
    "#              t = [(a[i, j] > a[i-1, j-1]), (a[i, j] > a[i, j-1]), (a[i, j] > a[i+1, j-1]),\n",
    "#                   (a[i, j] > a[i-1, j  ]),                  True, (a[i, j] > a[i+1, j  ]),\n",
    "#                   (a[i, j] > a[i-1, j+1]), (a[i, j] > a[i, j+1]), (a[i, j] > a[i+1, j+1]) ]\n",
    "                \n",
    "#         # Top Left Corner\n",
    "#         elif ((i == 0) & (j==0)):\n",
    "            \n",
    "#             t = [                                True, (a[i, j] > a[i+1, j  ]),\n",
    "#                                 (a[i, j] > a[i, j+1])                        ]\n",
    "            \n",
    "#         # Top Right Corner\n",
    "#         elif ((i == 0) & (j==ncol)):\n",
    "#             t = [\n",
    "#                   (a[i, j] > a[i-1, j  ]),                  True, \n",
    "#                                            (a[i, j] > a[i, j+1]) ]\n",
    "            \n",
    "#         # Bottom Left Corner\n",
    "#         elif ((i > 0) & (i < nrow - 1) & (j > 0) & (j < ncol - 1) ):\n",
    "            \n",
    "#              t = [                         (a[i, j] > a[i, j-1]), \n",
    "#                                                             True, (a[i, j] > a[i+1, j  ])]\n",
    "#         # Bottom Left Corner\n",
    "#         elif ((i > 0) & (i < nrow - 1) & (j > 0) & (j < ncol - 1) ):\n",
    "            \n",
    "#              t = [                         (a[i, j] > a[i, j-1]), \n",
    "#                                                             True, (a[i, j] > a[i+1, j  ])]\n",
    "#         print(i, j)\n",
    "#         print(t)\n",
    "     "
   ]
  }
 ],
 "metadata": {
  "kernelspec": {
   "display_name": "Python 3",
   "language": "python",
   "name": "python3"
  },
  "language_info": {
   "codemirror_mode": {
    "name": "ipython",
    "version": 3
   },
   "file_extension": ".py",
   "mimetype": "text/x-python",
   "name": "python",
   "nbconvert_exporter": "python",
   "pygments_lexer": "ipython3",
   "version": "3.8.8"
  }
 },
 "nbformat": 4,
 "nbformat_minor": 5
}
