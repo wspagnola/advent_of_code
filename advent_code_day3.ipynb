{
 "cells": [
  {
   "cell_type": "code",
   "execution_count": 1,
   "id": "98368464",
   "metadata": {},
   "outputs": [],
   "source": [
    "import os\n",
    "import pandas as pd\n",
    "import numpy as np"
   ]
  },
  {
   "cell_type": "code",
   "execution_count": 2,
   "id": "8a412557",
   "metadata": {},
   "outputs": [
    {
     "data": {
      "text/plain": [
       "'/Users/WilliamSpagnola/Desktop'"
      ]
     },
     "execution_count": 2,
     "metadata": {},
     "output_type": "execute_result"
    }
   ],
   "source": [
    "os.getcwd()"
   ]
  },
  {
   "cell_type": "code",
   "execution_count": 3,
   "id": "4d10de17",
   "metadata": {},
   "outputs": [],
   "source": [
    "#os.listdir()\n",
    "dta = pd.read_csv('input.txt', dtype = str)"
   ]
  },
  {
   "cell_type": "code",
   "execution_count": 4,
   "id": "f5983db3",
   "metadata": {},
   "outputs": [
    {
     "data": {
      "text/plain": [
       "[['010000100100'],\n",
       " ['010011111111'],\n",
       " ['000101001111'],\n",
       " ['010100011111'],\n",
       " ['111100111011']]"
      ]
     },
     "execution_count": 4,
     "metadata": {},
     "output_type": "execute_result"
    }
   ],
   "source": [
    "lst = pd.Series.tolist(dta)\n",
    "lst[0:5]"
   ]
  },
  {
   "cell_type": "markdown",
   "id": "e123ada3",
   "metadata": {},
   "source": [
    "#### Unnest List"
   ]
  },
  {
   "cell_type": "code",
   "execution_count": 5,
   "id": "24957802",
   "metadata": {},
   "outputs": [],
   "source": [
    "#a = [split(words) for words in lst]\n",
    "# Note: Remember lists are mutable so you can append \"in place\" rather than using assignment \n",
    "\n",
    "def unnest(lst):\n",
    "    unnest_lst = []\n",
    "    for sublst in lst:\n",
    "        for elem in sublst:\n",
    "            unnest_lst.append(elem)\n",
    "    return(unnest_lst)\n",
    "\n",
    "unnest_lst = unnest(lst)"
   ]
  },
  {
   "cell_type": "markdown",
   "id": "429e736a",
   "metadata": {},
   "source": [
    "#### Split Characters"
   ]
  },
  {
   "cell_type": "code",
   "execution_count": 6,
   "id": "35609ac5",
   "metadata": {},
   "outputs": [],
   "source": [
    "# from https://www.geeksforgeeks.org/python-split-string-into-list-of-characters/\n",
    "def int_split(word):\n",
    "    return [int(char) for char in word]"
   ]
  },
  {
   "cell_type": "code",
   "execution_count": 7,
   "id": "658c92e3",
   "metadata": {},
   "outputs": [
    {
     "data": {
      "text/plain": [
       "[[0, 1, 0, 0, 0, 0, 1, 0, 0, 1, 0, 0],\n",
       " [0, 1, 0, 0, 1, 1, 1, 1, 1, 1, 1, 1],\n",
       " [0, 0, 0, 1, 0, 1, 0, 0, 1, 1, 1, 1],\n",
       " [0, 1, 0, 1, 0, 0, 0, 1, 1, 1, 1, 1],\n",
       " [1, 1, 1, 1, 0, 0, 1, 1, 1, 0, 1, 1]]"
      ]
     },
     "execution_count": 7,
     "metadata": {},
     "output_type": "execute_result"
    }
   ],
   "source": [
    "splt_lst = [int_split(i) for i in unnest_lst]\n",
    "splt_lst[0:5]"
   ]
  },
  {
   "cell_type": "code",
   "execution_count": 8,
   "id": "e052a06c",
   "metadata": {},
   "outputs": [
    {
     "data": {
      "text/plain": [
       "array([[0, 1, 0, ..., 1, 0, 0],\n",
       "       [0, 1, 0, ..., 1, 1, 1],\n",
       "       [0, 0, 0, ..., 1, 1, 1],\n",
       "       ...,\n",
       "       [1, 1, 0, ..., 1, 0, 1],\n",
       "       [0, 1, 1, ..., 0, 0, 1],\n",
       "       [0, 0, 1, ..., 1, 1, 1]])"
      ]
     },
     "execution_count": 8,
     "metadata": {},
     "output_type": "execute_result"
    }
   ],
   "source": [
    "mat = np.asarray(splt_lst)\n",
    "mat"
   ]
  },
  {
   "cell_type": "code",
   "execution_count": 9,
   "id": "6acba969",
   "metadata": {},
   "outputs": [
    {
     "data": {
      "text/plain": [
       "(999, 12)"
      ]
     },
     "execution_count": 9,
     "metadata": {},
     "output_type": "execute_result"
    }
   ],
   "source": [
    "mat.shape"
   ]
  },
  {
   "cell_type": "code",
   "execution_count": 145,
   "id": "66b72a2a",
   "metadata": {},
   "outputs": [
    {
     "name": "stdout",
     "output_type": "stream",
     "text": [
      "gamma binary: [1 1 0 0 0 0 1 1 1 1 1 1]\n",
      "epsilon binary: [0 0 1 1 1 1 0 0 0 0 0 0]\n"
     ]
    }
   ],
   "source": [
    "gamma_bin  = (mat.sum(axis = 0) > (mat.shape[0] / 2))*1\n",
    "epsilon_bin  = (mat.sum(axis = 0) < (mat.shape[0] / 2))*1\n",
    "\n",
    "print('gamma binary:', gamma_bin)\n",
    "print('epsilon binary:', epsilon_bin)"
   ]
  },
  {
   "cell_type": "markdown",
   "id": "8072bae3",
   "metadata": {},
   "source": [
    "### Boolean Gamma, Epsilon Matrices"
   ]
  },
  {
   "cell_type": "code",
   "execution_count": 152,
   "id": "2f283fe1",
   "metadata": {},
   "outputs": [
    {
     "name": "stdout",
     "output_type": "stream",
     "text": [
      "[0 1 0 0 0 0 1 0 0 1 0 0]\n",
      "[0 0 1 1 1 1 0 0 0 0 0 0]\n",
      "[1 0 0 0 0 0 0 1 1 0 1 1]\n"
     ]
    }
   ],
   "source": [
    "gamma_bool = (mat == gamma_bin)*1\n",
    "epsilon_bool = (mat == epsilon_bin)*1\n",
    "\n",
    "print(mat[0])\n",
    "print(epsilon_bin)\n",
    "print(epsilon_bool[0])"
   ]
  },
  {
   "cell_type": "code",
   "execution_count": 15,
   "id": "fbdbc113",
   "metadata": {},
   "outputs": [
    {
     "data": {
      "text/plain": [
       "array([2048, 1024,  512,  256,  128,   64,   32,   16,    8,    4,    2,\n",
       "          1])"
      ]
     },
     "execution_count": 15,
     "metadata": {},
     "output_type": "execute_result"
    }
   ],
   "source": [
    "z = np.arange(mat.shape[1])\n",
    "#z = np.repeat(2, 12)\n",
    "#z\n",
    "\n",
    "#map()\n",
    "\n",
    "def exp_2(x):\n",
    "    return(2**x)\n",
    "\n",
    "bin_array = np.asarray(list(map(exp_2, z)))[::-1]\n",
    "bin_array"
   ]
  },
  {
   "cell_type": "code",
   "execution_count": 20,
   "id": "12663805",
   "metadata": {},
   "outputs": [
    {
     "name": "stdout",
     "output_type": "stream",
     "text": [
      "gamma: 3135\n",
      "epsilon: 960\n",
      "final answer: 3009600\n"
     ]
    }
   ],
   "source": [
    "gamma = np.sum(gamma_bin*bin_array)\n",
    "epsilon = np.sum(epsilon_bin*bin_array)\n",
    "final_answer = gamma*epsilon\n",
    "print(\"gamma:\",gamma)\n",
    "print(\"epsilon:\", epsilon)\n",
    "print(\"final answer:\", final_answer)"
   ]
  },
  {
   "cell_type": "markdown",
   "id": "ddc20cd0",
   "metadata": {},
   "source": [
    "## Part II"
   ]
  },
  {
   "cell_type": "code",
   "execution_count": 81,
   "id": "ba936008",
   "metadata": {},
   "outputs": [
    {
     "name": "stdout",
     "output_type": "stream",
     "text": [
      "2020\n",
      "[0 1 0 0 0 0 1 0 0 1 0 0]\n",
      "[2048 1024  512  256  128   64   32   16    8    4    2    1]\n"
     ]
    }
   ],
   "source": [
    "print(gamma_dot[0, 0])\n",
    "print(mat[0])\n",
    "print(bin_array)"
   ]
  },
  {
   "cell_type": "code",
   "execution_count": 74,
   "id": "17112285",
   "metadata": {},
   "outputs": [
    {
     "name": "stdout",
     "output_type": "stream",
     "text": [
      "(1, 999)\n",
      "(array([0]), array([217]))\n"
     ]
    },
    {
     "data": {
      "text/plain": [
       "array([0, 1, 1, 0, 1, 1, 1, 1, 0, 1, 1, 1])"
      ]
     },
     "execution_count": 74,
     "metadata": {},
     "output_type": "execute_result"
    }
   ],
   "source": [
    "#gamma_mat = [gamma_bin == mat]*bin_array\n",
    "gamma_dot = np.dot([gamma_bin == mat], bin_array)\n",
    "\n",
    "\n",
    "\n",
    "print(gamma_dot.shape)\n",
    "# a.item ?\n",
    "idx = np.where(gamma_dot == np.max(gamma_dot))\n",
    "#idx\n",
    "print(idx)\n",
    "\n",
    "\n",
    "mat[216, :]\n",
    "\n",
    "\n",
    "\n"
   ]
  },
  {
   "cell_type": "code",
   "execution_count": 90,
   "id": "d3fa6b60",
   "metadata": {},
   "outputs": [
    {
     "name": "stdout",
     "output_type": "stream",
     "text": [
      "a:\n",
      " [[ 1  2  3]\n",
      " [ 4  5  6]\n",
      " [ 7  8  9]\n",
      " [10 11 12]] \n",
      "\n",
      "b:\n",
      " [10 20 30]\n"
     ]
    }
   ],
   "source": [
    "a = np.arange(1,12 + 1).reshape(4,3)\n",
    "print(\"a:\\n\", a, '\\n')\n",
    "b = np.array([10, 20, 30])\n",
    "print(\"b:\\n\", b)\n"
   ]
  },
  {
   "cell_type": "code",
   "execution_count": 91,
   "id": "a0ac35cc",
   "metadata": {},
   "outputs": [
    {
     "data": {
      "text/plain": [
       "array([140, 320, 500, 680])"
      ]
     },
     "execution_count": 91,
     "metadata": {},
     "output_type": "execute_result"
    }
   ],
   "source": [
    "np.dot(a, b)"
   ]
  },
  {
   "cell_type": "code",
   "execution_count": 93,
   "id": "eab09949",
   "metadata": {},
   "outputs": [
    {
     "name": "stdout",
     "output_type": "stream",
     "text": [
      "[2048 1024  512  256  128   64   32   16    8    4    2    1]\n",
      "(12,)\n"
     ]
    }
   ],
   "source": [
    "print(bin_array)\n",
    "print(bin_array.shape)\n"
   ]
  },
  {
   "cell_type": "code",
   "execution_count": 95,
   "id": "e2ccb414",
   "metadata": {},
   "outputs": [
    {
     "name": "stdout",
     "output_type": "stream",
     "text": [
      "[0 1 0 0 0 0 1 0 0 1 0 0]\n",
      "(999, 12)\n"
     ]
    }
   ],
   "source": [
    "print(mat[0, :])\n",
    "print(mat.shape)"
   ]
  },
  {
   "cell_type": "code",
   "execution_count": 122,
   "id": "840ffefb",
   "metadata": {},
   "outputs": [
    {
     "data": {
      "text/plain": [
       "array([1, 1, 0, 0, 0, 0, 1, 1, 1, 1, 1, 1])"
      ]
     },
     "execution_count": 122,
     "metadata": {},
     "output_type": "execute_result"
    }
   ],
   "source": [
    "np.dot(mat[0, :], bin_array)"
   ]
  },
  {
   "cell_type": "code",
   "execution_count": 141,
   "id": "9885f250",
   "metadata": {},
   "outputs": [
    {
     "name": "stdout",
     "output_type": "stream",
     "text": [
      "(array([217]),)\n",
      "[1 1 1 1 1 1 1 1 1 0 1 1]\n",
      "4091\n",
      "[1 1 0 0 0 0 1 1 1 0 1 1]\n",
      "[1 1 0 0 0 0 1 1 1 1 1 1]\n"
     ]
    }
   ],
   "source": [
    "dec_bool_g = np.dot(gamma_bool, bin_array)\n",
    "print(np.where(dec_bool_g  == np.max(dec_nums)))\n",
    "print(gamma_bool[217,]*1)\n",
    "print(dec_bool_g [217])\n",
    "print(mat[217])\n",
    "print(gamma_bin)\n"
   ]
  },
  {
   "cell_type": "code",
   "execution_count": 156,
   "id": "498671c3",
   "metadata": {},
   "outputs": [
    {
     "name": "stdout",
     "output_type": "stream",
     "text": [
      "2075\n",
      "[1 0 0 0 0 0 0 1 1 0 1 1]\n",
      "[2048 1024  512  256  128   64   32   16    8    4    2    1]\n"
     ]
    }
   ],
   "source": [
    "print(dec_bool_e[0])\n",
    "print(epsilon_bool[0])\n",
    "print(bin_array)"
   ]
  },
  {
   "cell_type": "code",
   "execution_count": 178,
   "id": "633c178a",
   "metadata": {},
   "outputs": [
    {
     "name": "stdout",
     "output_type": "stream",
     "text": [
      "(array([291]),)\n",
      "[0 0 1 1 1 1 0 0 1 0 0 1]\n",
      "[0 0 1 1 1 1 0 0 0 0 0 0]\n",
      "[1 1 1 1 1 1 1 1 0 1 1 0]\n",
      "4086\n"
     ]
    }
   ],
   "source": [
    "dec_bool_e = np.dot(epsilon_bool, bin_array)\n",
    "print(np.where(dec_bool_e  == np.max(dec_bool_e )))\n",
    "print(mat[291, ])\n",
    "print(epsilon_bin)\n",
    "print(epsilon_bool[291,])\n",
    "print(dec_bool_e [291])\n"
   ]
  },
  {
   "cell_type": "markdown",
   "id": "14f2f189",
   "metadata": {},
   "source": [
    "### Convert from Binary to Decimal"
   ]
  },
  {
   "cell_type": "code",
   "execution_count": 176,
   "id": "92fa9373",
   "metadata": {},
   "outputs": [
    {
     "name": "stdout",
     "output_type": "stream",
     "text": [
      "3131\n",
      "[1 1 0 0 0 0 1 1 1 0 1 1]\n",
      "[1 1 0 0 0 0 1 1 1 1 1 1]\n",
      "[2048 1024  512  256  128   64   32   16    8    4    2    1]\n"
     ]
    },
    {
     "data": {
      "text/plain": [
       "3131"
      ]
     },
     "execution_count": 176,
     "metadata": {},
     "output_type": "execute_result"
    }
   ],
   "source": [
    "o2_gen = np.dot(mat[217], bin_array)\n",
    "print(o2_gen)\n",
    "print(mat[217])\n",
    "print(gamma_bin)\n",
    "print(bin_array)\n",
    "\n",
    "2048 + 1024+32+16+8+2+1"
   ]
  },
  {
   "cell_type": "code",
   "execution_count": 177,
   "id": "b2577b60",
   "metadata": {},
   "outputs": [
    {
     "name": "stdout",
     "output_type": "stream",
     "text": [
      "969\n",
      "[0 0 1 1 1 1 0 0 1 0 0 1]\n",
      "[0 0 1 1 1 1 0 0 0 0 0 0]\n",
      "[2048 1024  512  256  128   64   32   16    8    4    2    1]\n"
     ]
    }
   ],
   "source": [
    "co2_gen = np.dot(mat[291], bin_array)\n",
    "print(co2_gen)\n",
    "print(mat[291])\n",
    "print(epsilon_bin)\n",
    "print(bin_array)"
   ]
  },
  {
   "cell_type": "code",
   "execution_count": 211,
   "id": "7977978e",
   "metadata": {},
   "outputs": [
    {
     "name": "stdout",
     "output_type": "stream",
     "text": [
      "final answer (part 2): 3033939\n"
     ]
    }
   ],
   "source": [
    "final_answer2 = o2_gen * co2_gen\n",
    "print(\"final answer (part 2):\", final_answer2)\n",
    "\n",
    "#3033939 still too low? \n"
   ]
  },
  {
   "cell_type": "code",
   "execution_count": 118,
   "id": "269f3c17",
   "metadata": {},
   "outputs": [
    {
     "name": "stdout",
     "output_type": "stream",
     "text": [
      "final answer (part 2): 4095\n"
     ]
    }
   ],
   "source": [
    "#final_answer2 = dec_nums[872]*dec_nums[174]\n",
    "#print(\"final answer (part 2):\", final_answer2)\n",
    "# Too low: 4092"
   ]
  },
  {
   "cell_type": "code",
   "execution_count": 120,
   "id": "0021a5e8",
   "metadata": {},
   "outputs": [
    {
     "data": {
      "text/plain": [
       "4095"
      ]
     },
     "execution_count": 120,
     "metadata": {},
     "output_type": "execute_result"
    }
   ],
   "source": [
    "# 4,095 is highest decimal number represented by 12 binary digits\n",
    "# (note: first place is 2**0 so highest place in 12-digit sequence is 2**1\n",
    "2**12 -1"
   ]
  },
  {
   "cell_type": "code",
   "execution_count": 194,
   "id": "47389ace",
   "metadata": {},
   "outputs": [
    {
     "data": {
      "text/plain": [
       "2"
      ]
     },
     "execution_count": 194,
     "metadata": {},
     "output_type": "execute_result"
    }
   ],
   "source": [
    "sum(arr)"
   ]
  },
  {
   "cell_type": "code",
   "execution_count": 198,
   "id": "c2b808a2",
   "metadata": {},
   "outputs": [
    {
     "data": {
      "text/plain": [
       "(array([291, 461]),)"
      ]
     },
     "execution_count": 198,
     "metadata": {},
     "output_type": "execute_result"
    }
   ],
   "source": [
    "np.where(arr == True)"
   ]
  },
  {
   "cell_type": "code",
   "execution_count": 202,
   "id": "a7a315d9",
   "metadata": {
    "scrolled": true
   },
   "outputs": [
    {
     "name": "stdout",
     "output_type": "stream",
     "text": [
      "[0 0 1 1 1 1 0 0 1 0 0 1]\n",
      "[0 0 1 1 1 1 0 0 1 1 0 1]\n",
      "[0 0 1 1 1 1 0 0 0 0 0 0]\n"
     ]
    }
   ],
   "source": [
    "print(mat[291 ,])\n",
    "print(mat[461 ,])\n",
    "print(epsilon_bin)"
   ]
  },
  {
   "cell_type": "code",
   "execution_count": 207,
   "id": "2ac93e05",
   "metadata": {},
   "outputs": [
    {
     "name": "stdout",
     "output_type": "stream",
     "text": [
      "1\n",
      "(array([217]),)\n"
     ]
    }
   ],
   "source": [
    "print(sum(arr))\n",
    "print(np.where(arr==True))"
   ]
  },
  {
   "cell_type": "code",
   "execution_count": 212,
   "id": "32764b82",
   "metadata": {},
   "outputs": [],
   "source": [
    "o2_gen = np.dot(mat[217], bin_array)\n",
    "co2_gen = np.dot(mat[461], bin_array)\n",
    "final_answer2 = o2_gen * co2_gen"
   ]
  },
  {
   "cell_type": "code",
   "execution_count": 214,
   "id": "8718995b",
   "metadata": {},
   "outputs": [
    {
     "name": "stdout",
     "output_type": "stream",
     "text": [
      "o2_gen: 3131\n",
      "co2_gen: 973\n",
      "final answer (part 2): 3046463\n"
     ]
    }
   ],
   "source": [
    "print(\"o2_gen:\", o2_gen)\n",
    "print(\"co2_gen:\", co2_gen)\n",
    "print(\"final answer (part 2):\", final_answer2)"
   ]
  },
  {
   "cell_type": "code",
   "execution_count": null,
   "id": "b51b083d",
   "metadata": {},
   "outputs": [],
   "source": [
    "mat_test = np.array([[0,0,1,0,0], \n",
    " [1,1,1,1,0], \n",
    " [1,0,1,1,0], \n",
    " [1,0,1,1,1], \n",
    " [1,0,1,0,1], \n",
    " [0,1,1,1,1], \n",
    " [0,0,1,1,1],\n",
    " [1,1,1,0,0],\n",
    " [1,0,0,0,0], \n",
    " [1,1,0,0,1], \n",
    " [0,0,0,1,0], \n",
    " [0,1,0,1,0]])\n"
   ]
  },
  {
   "cell_type": "markdown",
   "id": "c4c5ec0b",
   "metadata": {},
   "source": [
    "### Define Functions"
   ]
  },
  {
   "cell_type": "code",
   "execution_count": 393,
   "id": "95973406",
   "metadata": {},
   "outputs": [],
   "source": [
    "def gen_o2(mat):\n",
    "    x = np.mean(mat, axis = 0)\n",
    "\n",
    "    #return(common)\n",
    "    new_mat = mat\n",
    "    \n",
    "    ncols = new_mat.shape[1]\n",
    "    #common = np.round(new_mat)\n",
    "    #print(\"Common:\", common, '\\n\\n\\n')\n",
    "        \n",
    "    for i in range(ncols):\n",
    "       # print(i)\n",
    "        #print(i)\n",
    "        #print(value)\n",
    " \n",
    "        most_common = (np.mean(new_mat[:,i]) >= 0.5)*1\n",
    "        #print(\"common:\", most_common)\n",
    "        new_mat = new_mat[new_mat[ :,i] == most_common, :]\n",
    "        #print(new_mat)\n",
    "        \n",
    "        if new_mat.shape[0] == 1:\n",
    "            return(new_mat[0])\n",
    "        \n",
    "def gen_co2(mat):\n",
    "    x = np.mean(mat, axis = 0)\n",
    "\n",
    "    #return(common)\n",
    "    new_mat = mat\n",
    "    \n",
    "    ncols = new_mat.shape[1]\n",
    "    #common = np.round(new_mat)\n",
    "    #print(\"Common:\", common, '\\n\\n\\n')\n",
    "        \n",
    "    for i in range(ncols):\n",
    "       # print(i)\n",
    "        #print(i)\n",
    "        #print(value)\n",
    " \n",
    "        least_common = (np.mean(new_mat[:,i]) < 0.5)*1\n",
    "        #print(\"common:\", most_common)\n",
    "        new_mat = new_mat[new_mat[ :,i] == least_common, :]\n",
    "        #print(new_mat)\n",
    "        \n",
    "        if new_mat.shape[0] == 1:\n",
    "            return(new_mat[0])\n",
    "\n",
    "def to_decimal(binary):\n",
    "    \n",
    "    bin_digits = np.flip(2**np.arange(len(binary)))\n",
    "    return(np.dot(binary, bin_digits))\n",
    "    "
   ]
  },
  {
   "cell_type": "code",
   "execution_count": 354,
   "id": "db57b957",
   "metadata": {},
   "outputs": [
    {
     "data": {
      "text/plain": [
       "21"
      ]
     },
     "execution_count": 354,
     "metadata": {},
     "output_type": "execute_result"
    }
   ],
   "source": [
    "\n",
    "1 + 4 + 16"
   ]
  },
  {
   "cell_type": "code",
   "execution_count": 380,
   "id": "7d43c5ff",
   "metadata": {},
   "outputs": [
    {
     "data": {
      "text/plain": [
       "array([1, 0, 1, 1, 1])"
      ]
     },
     "execution_count": 380,
     "metadata": {},
     "output_type": "execute_result"
    }
   ],
   "source": [
    "o2_test = gen_o2(mat_test)\n",
    "o2_test"
   ]
  },
  {
   "cell_type": "code",
   "execution_count": 388,
   "id": "6498c6fe",
   "metadata": {},
   "outputs": [
    {
     "data": {
      "text/plain": [
       "array([0, 1, 0, 1, 0])"
      ]
     },
     "execution_count": 388,
     "metadata": {},
     "output_type": "execute_result"
    }
   ],
   "source": [
    "co2_test = gen_co2(mat_test)\n",
    "co2_test "
   ]
  },
  {
   "cell_type": "code",
   "execution_count": 391,
   "id": "8deea8e4",
   "metadata": {},
   "outputs": [
    {
     "name": "stdout",
     "output_type": "stream",
     "text": [
      "23\n",
      "10\n",
      "230\n"
     ]
    }
   ],
   "source": [
    "print(to_decimal(o2_test))\n",
    "print(to_decimal(co2_test))\n",
    "print(to_decimal(o2_test)*to_decimal(co2_test))"
   ]
  },
  {
   "cell_type": "code",
   "execution_count": 395,
   "id": "1a481af8",
   "metadata": {},
   "outputs": [
    {
     "name": "stdout",
     "output_type": "stream",
     "text": [
      "[1 1 1 1 0 1 1 0 0 0 1 1]\n",
      "[0 1 1 0 1 1 1 0 0 0 1 0]\n"
     ]
    }
   ],
   "source": [
    "o2_fin = gen_02(mat)\n",
    "print(o2_fin)\n",
    "co2_fin = gen_c02(mat)\n",
    "print(co2_fin)\n"
   ]
  },
  {
   "cell_type": "code",
   "execution_count": 397,
   "id": "c82b9817",
   "metadata": {},
   "outputs": [
    {
     "name": "stdout",
     "output_type": "stream",
     "text": [
      "3939\n",
      "1762\n",
      "6940518\n"
     ]
    }
   ],
   "source": [
    "print(to_decimal(o2_fin))\n",
    "print(to_decimal(co2_fin))\n",
    "print(to_decimal(o2_fin)*to_decimal(co2_fin))"
   ]
  },
  {
   "cell_type": "markdown",
   "id": "d38e8c65",
   "metadata": {},
   "source": [
    "## Lessons Learned"
   ]
  },
  {
   "cell_type": "code",
   "execution_count": null,
   "id": "ef226dc9",
   "metadata": {},
   "outputs": [],
   "source": [
    "# NOTE NESTED ARRAYS\n",
    "# APPEND DOESN'T NEED ASSIGNMENT\n",
    "# np.where\n",
    "# np.dot"
   ]
  },
  {
   "cell_type": "markdown",
   "id": "2531cc32",
   "metadata": {},
   "source": [
    "## Old Code"
   ]
  },
  {
   "cell_type": "markdown",
   "id": "94debbe1",
   "metadata": {},
   "source": [
    "### Struggled Imagining For Loop"
   ]
  },
  {
   "cell_type": "code",
   "execution_count": 193,
   "id": "49ff899c",
   "metadata": {},
   "outputs": [],
   "source": [
    "arr = (mat[:, 0] == epsilon_bin[0]) & (mat[:, 1] == epsilon_bin[1] ) & (mat[:, 2] == epsilon_bin[2] ) & (mat[:, 3] == epsilon_bin[3]) & (mat[:, 4] == epsilon_bin[4] ) & (mat[:, 5] == epsilon_bin[5] ) & (mat[:, 6] == epsilon_bin[6]) & (mat[:, 7] == epsilon_bin[7] ) \n"
   ]
  }
 ],
 "metadata": {
  "kernelspec": {
   "display_name": "Python 3",
   "language": "python",
   "name": "python3"
  },
  "language_info": {
   "codemirror_mode": {
    "name": "ipython",
    "version": 3
   },
   "file_extension": ".py",
   "mimetype": "text/x-python",
   "name": "python",
   "nbconvert_exporter": "python",
   "pygments_lexer": "ipython3",
   "version": "3.8.8"
  }
 },
 "nbformat": 4,
 "nbformat_minor": 5
}
