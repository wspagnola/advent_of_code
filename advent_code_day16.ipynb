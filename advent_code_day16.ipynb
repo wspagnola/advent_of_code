{
 "cells": [
  {
   "cell_type": "code",
   "execution_count": 1,
   "id": "c33238d8",
   "metadata": {},
   "outputs": [],
   "source": [
    "import numpy as np"
   ]
  },
  {
   "cell_type": "code",
   "execution_count": 3,
   "id": "ad7040e2",
   "metadata": {},
   "outputs": [],
   "source": [
    "hex_test = 'D2FE28'"
   ]
  },
  {
   "cell_type": "code",
   "execution_count": 10,
   "id": "be2e99b1",
   "metadata": {},
   "outputs": [],
   "source": [
    "def hex_convert(x):\n",
    "    \n",
    "    if (x == 'A'):\n",
    "        y = '10'\n",
    "    elif (x == 'B'):\n",
    "        y = '11'\n",
    "    elif (x == 'C'):\n",
    "        y = '12'\n",
    "    elif (x == 'D'):\n",
    "        y = '13'\n",
    "    elif (x == 'E'):\n",
    "        y = '14'\n",
    "    elif (x == 'F'):\n",
    "        y = '15'\n",
    "    else:\n",
    "        y = x\n",
    "    \n",
    "    return(int(y))\n"
   ]
  },
  {
   "cell_type": "code",
   "execution_count": null,
   "id": "2408cb9a",
   "metadata": {},
   "outputs": [],
   "source": []
  },
  {
   "cell_type": "code",
   "execution_count": 12,
   "id": "c703ea78",
   "metadata": {},
   "outputs": [
    {
     "data": {
      "text/plain": [
       "array([13,  2, 15, 14,  2,  8])"
      ]
     },
     "execution_count": 12,
     "metadata": {},
     "output_type": "execute_result"
    }
   ],
   "source": [
    "hex_array = np.array([hex_convert(char) for char in hex_test])\n",
    "hex_array "
   ]
  },
  {
   "cell_type": "code",
   "execution_count": 22,
   "id": "43e229c6",
   "metadata": {},
   "outputs": [
    {
     "data": {
      "text/plain": [
       "122"
      ]
     },
     "execution_count": 22,
     "metadata": {},
     "output_type": "execute_result"
    }
   ],
   "source": [
    "dec_array = np.sum(hex_array*np.arange(len(hex_array) ))\n",
    "dec_array"
   ]
  },
  {
   "cell_type": "markdown",
   "id": "d4e9f71b",
   "metadata": {},
   "source": [
    "## Save this as dictionary "
   ]
  },
  {
   "cell_type": "code",
   "execution_count": null,
   "id": "afe34d5e",
   "metadata": {},
   "outputs": [],
   "source": [
    "x = dict(0: \"0000\", 1 = \"0001\", 2 = \"0010\"\n",
    "3 = 0011\n",
    "4 = 0100\n",
    "5 = 0101\n",
    "6 = 0110\n",
    "7 = 0111\n",
    "8 = 1000\n",
    "9 = 1001\n",
    "A = 1010\n",
    "B = 1011\n",
    "C = 1100\n",
    "D = 1101\n",
    "E = 1110\n",
    "F = 1111)"
   ]
  },
  {
   "cell_type": "raw",
   "id": "1c22327f",
   "metadata": {},
   "source": [
    "0 = 0000\n",
    "1 = 0001\n",
    "2 = 0010\n",
    "3 = 0011\n",
    "4 = 0100\n",
    "5 = 0101\n",
    "6 = 0110\n",
    "7 = 0111\n",
    "8 = 1000\n",
    "9 = 1001\n",
    "A = 1010\n",
    "B = 1011\n",
    "C = 1100\n",
    "D = 1101\n",
    "E = 1110\n",
    "F = 1111"
   ]
  }
 ],
 "metadata": {
  "kernelspec": {
   "display_name": "Python 3",
   "language": "python",
   "name": "python3"
  },
  "language_info": {
   "codemirror_mode": {
    "name": "ipython",
    "version": 3
   },
   "file_extension": ".py",
   "mimetype": "text/x-python",
   "name": "python",
   "nbconvert_exporter": "python",
   "pygments_lexer": "ipython3",
   "version": "3.8.8"
  }
 },
 "nbformat": 4,
 "nbformat_minor": 5
}
