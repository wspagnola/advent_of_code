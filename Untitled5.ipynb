{
 "cells": [
  {
   "cell_type": "code",
   "execution_count": 1,
   "id": "a5db1ec0",
   "metadata": {},
   "outputs": [],
   "source": [
    "import numpy as np"
   ]
  },
  {
   "cell_type": "code",
   "execution_count": 11,
   "id": "1bfed931",
   "metadata": {},
   "outputs": [
    {
     "name": "stdout",
     "output_type": "stream",
     "text": [
      "(100, 10)\n",
      "[[-0.32090637 -0.40690616 -0.77782644 -0.63750874  0.88176798  0.34677997\n",
      "  -1.26386824 -1.22248574  0.16145523  0.32040088]\n",
      " [-0.37073002  0.4576428   1.0607846   0.12753439  1.20764283 -0.18210711\n",
      "  -0.33478395  0.66229044  0.7137974   0.18882407]\n",
      " [-0.54027903 -0.73562988 -0.79867599  1.00572815 -1.37320535  1.03831988\n",
      "   0.50661014  0.54331497  1.75973768  0.14926363]\n",
      " [ 0.43801384 -0.16173282 -0.95546919 -0.77093595 -1.42266676  0.83859649\n",
      "   1.07430992 -0.15826141  0.64738171  0.46153106]\n",
      " [ 0.52486493 -0.56425832 -0.69202412  0.47623871 -0.15171244 -0.75545418\n",
      "  -1.13296244  0.12346163 -1.01443617 -1.28552864]]\n"
     ]
    }
   ],
   "source": [
    "z = np.random.randn(1000).reshape(100, 10)\n",
    "print(z.shape)\n",
    "print(z[0:5])"
   ]
  },
  {
   "cell_type": "code",
   "execution_count": 23,
   "id": "f0720419",
   "metadata": {},
   "outputs": [
    {
     "data": {
      "text/plain": [
       "(1000, 1)"
      ]
     },
     "execution_count": 23,
     "metadata": {},
     "output_type": "execute_result"
    }
   ],
   "source": [
    "z_vec = z.reshape(-1, 1)\n",
    "z_vec.shape"
   ]
  },
  {
   "cell_type": "code",
   "execution_count": 26,
   "id": "932252ca",
   "metadata": {},
   "outputs": [
    {
     "data": {
      "text/plain": [
       "array([[-0.32090637],\n",
       "       [-0.40690616],\n",
       "       [-0.77782644],\n",
       "       [-0.63750874],\n",
       "       [ 0.88176798]])"
      ]
     },
     "execution_count": 26,
     "metadata": {},
     "output_type": "execute_result"
    }
   ],
   "source": [
    "# Col Vector\n",
    "z_vec[0:5]"
   ]
  },
  {
   "cell_type": "code",
   "execution_count": 27,
   "id": "ccd19300",
   "metadata": {},
   "outputs": [
    {
     "data": {
      "text/plain": [
       "-0.32090636759729746"
      ]
     },
     "execution_count": 27,
     "metadata": {},
     "output_type": "execute_result"
    }
   ],
   "source": [
    "z_vec[0][0]"
   ]
  },
  {
   "cell_type": "code",
   "execution_count": 55,
   "id": "55263737",
   "metadata": {},
   "outputs": [
    {
     "name": "stdout",
     "output_type": "stream",
     "text": [
      "﻿[({(<(())[]>[[{[]{<()<>> \n",
      "\n",
      "[(()[<>])]({[<{<<[]>>( \n",
      "\n",
      "{([(<{}[<>[]}>{[]{[(<()> \n",
      "\n",
      "(((({<>}<{<{<>}{[]{[]{} \n",
      "\n",
      "[[<[([]))<([[{}[[()]]] \n",
      "\n",
      "[{[{({}]{}}([{[{{{}}([] \n",
      "\n",
      "{<[[]]>}<{[{[{[]{()[[[] \n",
      "\n",
      "[<(<(<(<{}))><([]([]() \n",
      "\n",
      "<{([([[(<>()){}]>(<<{{ \n",
      "\n",
      "<{([{{}}[<[[[<>{}]]]>[]] \n",
      "\n"
     ]
    }
   ],
   "source": [
    "line_lst = []\n",
    "with open(\"input9_test.txt\") as f:\n",
    "    lines = f.readlines()\n",
    "    for line in lines:\n",
    "        l= line.strip()\n",
    "        line_lst.append(l)\n",
    "        print(l, '\\n')"
   ]
  },
  {
   "cell_type": "code",
   "execution_count": 49,
   "id": "e28e27b9",
   "metadata": {},
   "outputs": [],
   "source": [
    "ptn_open  = ['(', '[', '{', '<']\n",
    "ptn_close = [')', ']', '}', '>']"
   ]
  },
  {
   "cell_type": "code",
   "execution_count": 42,
   "id": "684d62a9",
   "metadata": {},
   "outputs": [
    {
     "data": {
      "text/plain": [
       "3"
      ]
     },
     "execution_count": 42,
     "metadata": {},
     "output_type": "execute_result"
    }
   ],
   "source": [
    "line.count('<')"
   ]
  },
  {
   "cell_type": "markdown",
   "id": "ea91d44d",
   "metadata": {},
   "source": [
    " ## Point System\n",
    " - )  : 3 points\n",
    " - ]  : 57 points\n",
    " - }  : 1197 points\n",
    " - \\> : 25137 points"
   ]
  },
  {
   "cell_type": "code",
   "execution_count": 58,
   "id": "7e413f08",
   "metadata": {},
   "outputs": [
    {
     "data": {
      "text/plain": [
       "'[(()[<>])]({[<{<<[]>>('"
      ]
     },
     "execution_count": 58,
     "metadata": {},
     "output_type": "execute_result"
    }
   ],
   "source": [
    "line_lst[1]"
   ]
  },
  {
   "cell_type": "code",
   "execution_count": 57,
   "id": "87a9241c",
   "metadata": {},
   "outputs": [
    {
     "name": "stdout",
     "output_type": "stream",
     "text": [
      "[4, 4, 2, 4]\n",
      "[2, 3, 0, 3]\n"
     ]
    }
   ],
   "source": [
    "print([line_lst[1].count(pattern) for pattern in ptn_open])\n",
    "print([line_lst[1].count(pattern) for pattern in ptn_close])"
   ]
  },
  {
   "cell_type": "code",
   "execution_count": 86,
   "id": "cb1ed6ca",
   "metadata": {},
   "outputs": [],
   "source": [
    "line_lst[1].find('<')\n",
    "test = '[\\\\(\\\\(\\\\)[<>]\\\\)]\\\\({[<{<<[]>>\\\\('\n",
    "test = '[(()[<>])]({[<{<<[]>>('"
   ]
  },
  {
   "cell_type": "code",
   "execution_count": 81,
   "id": "68551f28",
   "metadata": {},
   "outputs": [
    {
     "data": {
      "text/plain": [
       "['<', '<', '<', '<']"
      ]
     },
     "execution_count": 81,
     "metadata": {},
     "output_type": "execute_result"
    }
   ],
   "source": [
    "re.findall('<', test )"
   ]
  },
  {
   "cell_type": "code",
   "execution_count": 84,
   "id": "7935d528",
   "metadata": {},
   "outputs": [
    {
     "name": "stdout",
     "output_type": "stream",
     "text": [
      "[1, 2, 10, 21]\n",
      "[3, 8]\n"
     ]
    }
   ],
   "source": [
    "x = re.finditer( '\\\\(', test)\n",
    "y = re.finditer( '\\\\)', test)\n",
    "print([i.start() for i in x])\n",
    "print([i.start() for i in y])"
   ]
  },
  {
   "cell_type": "code",
   "execution_count": 87,
   "id": "b4e1f4aa",
   "metadata": {},
   "outputs": [
    {
     "name": "stdout",
     "output_type": "stream",
     "text": [
      "[0, 4, 12, 17]\n",
      "[7, 9, 18]\n"
     ]
    }
   ],
   "source": [
    "x = re.finditer( '\\\\[', test)\n",
    "y = re.finditer( '\\\\]', test)\n",
    "print([i.start() for i in x])\n",
    "print([i.start() for i in y])"
   ]
  },
  {
   "cell_type": "code",
   "execution_count": null,
   "id": "41a216f0",
   "metadata": {},
   "outputs": [],
   "source": []
  }
 ],
 "metadata": {
  "kernelspec": {
   "display_name": "Python 3",
   "language": "python",
   "name": "python3"
  },
  "language_info": {
   "codemirror_mode": {
    "name": "ipython",
    "version": 3
   },
   "file_extension": ".py",
   "mimetype": "text/x-python",
   "name": "python",
   "nbconvert_exporter": "python",
   "pygments_lexer": "ipython3",
   "version": "3.8.8"
  }
 },
 "nbformat": 4,
 "nbformat_minor": 5
}
