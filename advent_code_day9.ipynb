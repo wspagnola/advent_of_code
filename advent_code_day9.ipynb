{
 "cells": [
  {
   "cell_type": "markdown",
   "id": "ce24dcc3",
   "metadata": {},
   "source": [
    "## Advent of Code Day 9"
   ]
  },
  {
   "cell_type": "code",
   "execution_count": 107,
   "id": "d8961cc5",
   "metadata": {},
   "outputs": [],
   "source": [
    "import numpy as np\n",
    "import os"
   ]
  },
  {
   "cell_type": "code",
   "execution_count": 96,
   "id": "68a058f3",
   "metadata": {},
   "outputs": [
    {
     "name": "stdout",
     "output_type": "stream",
     "text": [
      "(5, 10)\n",
      "5\n",
      "10\n"
     ]
    }
   ],
   "source": [
    "a = np.array([[2,1,9,9,9,4,3,2,1,0],\n",
    "              [3,9,8,7,8,9,4,9,2,1],\n",
    "              [9,8,5,6,7,8,9,8,9,2],\n",
    "              [8,7,6,7,8,9,6,7,8,9],\n",
    "              [9,8,9,9,9,6,5,6,7,8]])\n",
    "\n",
    "nrow = a.shape[0]\n",
    "ncol = a.shape[1]\n",
    "\n",
    "print(a.shape)\n",
    "print(nrow)\n",
    "print(ncol)\n"
   ]
  },
  {
   "cell_type": "code",
   "execution_count": 58,
   "id": "451fa955",
   "metadata": {},
   "outputs": [
    {
     "data": {
      "text/plain": [
       "inf"
      ]
     },
     "execution_count": 58,
     "metadata": {},
     "output_type": "execute_result"
    }
   ],
   "source": [
    "np.inf"
   ]
  },
  {
   "cell_type": "code",
   "execution_count": 103,
   "id": "a03f07ac",
   "metadata": {},
   "outputs": [
    {
     "name": "stdout",
     "output_type": "stream",
     "text": [
      "[(0, 1), (0, 9), (2, 2), (4, 6)]\n"
     ]
    }
   ],
   "source": [
    "min_lst = []\n",
    "\n",
    "for i in range(a.shape[0]):\n",
    "    for j in range(a.shape[1]):\n",
    "        #print(i, j)\n",
    "        check_l = a[i - 1, j] if i > 0        else np.inf\n",
    "        check_r = a[i + 1, j] if i < (nrow-1) else np.inf\n",
    "        check_u = a[i, j - 1] if j > 0        else np.inf\n",
    "        check_d = a[i, j + 1] if j < (ncol-1) else np.inf\n",
    "        \n",
    "        check_vec = [check_l, check_r, check_u, check_d]\n",
    "        check = np.mean(a[i, j] < check_vec) == 1\n",
    "        #print(check)\n",
    "        if check == True:\n",
    "            min_lst.append((i, j))\n",
    "        #print(check)\n",
    "#print(min_lst)"
   ]
  },
  {
   "cell_type": "code",
   "execution_count": 106,
   "id": "230b04b3",
   "metadata": {},
   "outputs": [
    {
     "data": {
      "text/plain": [
       "15"
      ]
     },
     "execution_count": 106,
     "metadata": {},
     "output_type": "execute_result"
    }
   ],
   "source": [
    "sum([a[x]+ 1 for x in min_lst] )"
   ]
  },
  {
   "cell_type": "markdown",
   "id": "1be5693c",
   "metadata": {},
   "source": [
    "## Actual Input (Part 1)"
   ]
  },
  {
   "cell_type": "code",
   "execution_count": 126,
   "id": "e40e6d8a",
   "metadata": {},
   "outputs": [
    {
     "name": "stdout",
     "output_type": "stream",
     "text": [
      "[['4', '2', '1', '0', '1', '2', '9', '9', '9', '8', '7', '6', '5', '6', '7', '8', '9', '9', '9', '8', '7', '6', '5', '9', '8', '9', '9', '9', '9', '8', '7', '6', '5', '4', '5', '6', '7', '8', '9', '9', '8', '9', '1', '0', '9', '9', '8', '7', '6', '5', '3', '4', '5', '6', '7', '8', '9', '9', '9', '8', '9', '5', '4', '3', '4', '5', '8', '9', '1', '0', '9', '9', '8', '7', '6', '5', '4', '3', '2', '1', '0', '1', '2', '3', '4', '5', '6', '7', '9', '9', '9', '9', '6', '5', '4', '1', '2', '3', '9', '9'], ['4', '3', '2', '1', '2', '9', '8', '9', '8', '7', '6', '7', '4', '5', '6', '7', '9', '9', '8', '9', '6', '5', '4', '6', '7', '8', '9', '8', '9', '9', '6', '5', '4', '3', '4', '7', '8', '9', '9', '8', '7', '8', '9', '9', '8', '7', '6', '5', '4', '3', '2', '3', '4', '7', '8', '9', '9', '8', '7', '7', '5', '4', '1', '2', '3', '6', '7', '8', '9', '9', '8', '7', '9', '9', '8', '7', '6', '5', '4', '3', '3', '2', '3', '4', '5', '6', '9', '9', '8', '8', '9', '8', '9', '4', '3', '2', '3', '6', '7', '8'], ['5', '7', '3', '4', '9', '8', '7', '7', '9', '4', '5', '4', '3', '6', '7', '8', '9', '8', '7', '6', '5', '4', '3', '5', '6', '9', '8', '7', '9', '8', '7', '6', '5', '6', '5', '6', '7', '8', '9', '7', '6', '7', '8', '9', '9', '8', '9', '4', '3', '2', '1', '4', '5', '8', '9', '9', '8', '7', '6', '5', '4', '3', '2', '3', '4', '5', '6', '7', '8', '9', '7', '6', '7', '8', '9', '9', '7', '6', '7', '5', '4', '3', '4', '5', '6', '9', '8', '7', '6', '7', '8', '7', '8', '9', '4', '3', '4', '5', '6', '7'], ['7', '6', '4', '9', '8', '7', '6', '5', '4', '3', '2', '1', '2', '3', '4', '7', '8', '9', '8', '7', '6', '5', '5', '6', '7', '8', '9', '6', '5', '9', '8', '7', '6', '7', '6', '7', '8', '9', '7', '6', '5', '6', '7', '8', '9', '9', '8', '7', '6', '3', '2', '3', '6', '7', '8', '9', '9', '8', '7', '7', '5', '4', '5', '4', '8', '6', '8', '9', '9', '7', '6', '5', '5', '4', '5', '9', '8', '7', '8', '6', '5', '4', '5', '6', '9', '8', '7', '6', '5', '4', '5', '6', '7', '8', '9', '4', '6', '7', '9', '8'], ['8', '7', '5', '6', '9', '8', '9', '6', '5', '2', '1', '0', '3', '4', '5', '6', '9', '9', '9', '8', '9', '8', '6', '7', '8', '9', '6', '6', '4', '5', '9', '8', '7', '8', '9', '8', '9', '7', '8', '5', '4', '5', '6', '9', '8', '9', '9', '6', '5', '4', '5', '6', '7', '8', '9', '9', '9', '9', '9', '7', '6', '5', '6', '5', '6', '9', '9', '3', '9', '8', '7', '4', '3', '2', '3', '4', '9', '9', '8', '7', '6', '9', '6', '9', '8', '9', '8', '7', '2', '3', '4', '7', '8', '9', '6', '5', '6', '7', '8', '9']]\n"
     ]
    }
   ],
   "source": [
    "#os.listdir()\n",
    "matrix_lst = []\n",
    "with open('input9.txt') as f:\n",
    "    lines = f.readlines()\n",
    "    \n",
    "    for l in lines:\n",
    "        row_lst = []\n",
    "        for digit in l.strip():\n",
    "            row_lst.append(digit)\n",
    "            #print(row_lst)\n",
    "        matrix_lst.append(row_lst)\n",
    "    f.close()\n",
    "    \n",
    "print(matrix_lst[0:5])"
   ]
  },
  {
   "cell_type": "code",
   "execution_count": 135,
   "id": "e4559e88",
   "metadata": {},
   "outputs": [
    {
     "name": "stdout",
     "output_type": "stream",
     "text": [
      "(100, 100)\n",
      "[4 2 1 0 1 2 9 9 9 8 7 6 5 6 7 8 9 9 9 8 7 6 5 9 8 9 9 9 9 8 7 6 5 4 5 6 7\n",
      " 8 9 9 8 9 1 0 9 9 8 7 6 5 3 4 5 6 7 8 9 9 9 8 9 5 4 3 4 5 8 9 1 0 9 9 8 7\n",
      " 6 5 4 3 2 1 0 1 2 3 4 5 6 7 9 9 9 9 6 5 4 1 2 3 9 9]\n",
      "[4 3 2 1 2 9 8 9 8 7 6 7 4 5 6 7 9 9 8 9 6 5 4 6 7 8 9 8 9 9 6 5 4 3 4 7 8\n",
      " 9 9 8 7 8 9 9 8 7 6 5 4 3 2 3 4 7 8 9 9 8 7 7 5 4 1 2 3 6 7 8 9 9 8 7 9 9\n",
      " 8 7 6 5 4 3 3 2 3 4 5 6 9 9 8 8 9 8 9 4 3 2 3 6 7 8]\n"
     ]
    }
   ],
   "source": [
    "# Convert list of strings to array of integers\n",
    "mat = np.array(matrix_lst, dtype = int)\n",
    "print(mat.shape)\n",
    "print(mat[0, :])\n",
    "print(mat[1, :])"
   ]
  },
  {
   "cell_type": "code",
   "execution_count": 132,
   "id": "b8f0ce6b",
   "metadata": {},
   "outputs": [],
   "source": [
    "min_lst = []\n",
    "nrow = mat.shape[0]\n",
    "ncol = mat.shape[1]\n",
    "for i in range(mat.shape[0]):\n",
    "    for j in range(mat.shape[1]):\n",
    "        #print(i, j)\n",
    "        check_l = mat[i - 1, j] if i > 0        else np.inf\n",
    "        check_r = mat[i + 1, j] if i < (nrow-1) else np.inf\n",
    "        check_u = mat[i, j - 1] if j > 0        else np.inf\n",
    "        check_d = mat[i, j + 1] if j < (ncol-1) else np.inf\n",
    "        \n",
    "        check_vec = [check_l, check_r, check_u, check_d]\n",
    "        check = np.mean(mat[i, j] < check_vec) == 1\n",
    "        #print(check)\n",
    "        if check == True:\n",
    "            min_lst.append((i, j))\n",
    "        #print(check)\n",
    "#print(min_lst)"
   ]
  },
  {
   "cell_type": "code",
   "execution_count": 133,
   "id": "8d1f9a11",
   "metadata": {},
   "outputs": [
    {
     "data": {
      "text/plain": [
       "417"
      ]
     },
     "execution_count": 133,
     "metadata": {},
     "output_type": "execute_result"
    }
   ],
   "source": [
    "sum([mat[x]+ 1 for x in min_lst] )"
   ]
  },
  {
   "cell_type": "markdown",
   "id": "c1d63550",
   "metadata": {},
   "source": [
    "## Old Code"
   ]
  },
  {
   "cell_type": "code",
   "execution_count": 67,
   "id": "3503c1b3",
   "metadata": {},
   "outputs": [
    {
     "name": "stdout",
     "output_type": "stream",
     "text": [
      "5\n",
      "10\n"
     ]
    }
   ],
   "source": [
    "\n",
    "# for i in range(a.shape[0]):\n",
    "#     for j in range(a.shape[1]):\n",
    "        \n",
    "#         # inside \n",
    "#         if ((i > 0) & (i < nrow - 1) & (j > 0) & (j < ncol - 1) ):\n",
    "            \n",
    "#              t = [(a[i, j] > a[i-1, j-1]), (a[i, j] > a[i, j-1]), (a[i, j] > a[i+1, j-1]),\n",
    "#                   (a[i, j] > a[i-1, j  ]),                  True, (a[i, j] > a[i+1, j  ]),\n",
    "#                   (a[i, j] > a[i-1, j+1]), (a[i, j] > a[i, j+1]), (a[i, j] > a[i+1, j+1]) ]\n",
    "                \n",
    "#         # Top Left Corner\n",
    "#         elif ((i == 0) & (j==0)):\n",
    "            \n",
    "#             t = [                                True, (a[i, j] > a[i+1, j  ]),\n",
    "#                                 (a[i, j] > a[i, j+1])                        ]\n",
    "            \n",
    "#         # Top Right Corner\n",
    "#         elif ((i == 0) & (j==ncol)):\n",
    "#             t = [\n",
    "#                   (a[i, j] > a[i-1, j  ]),                  True, \n",
    "#                                            (a[i, j] > a[i, j+1]) ]\n",
    "            \n",
    "#         # Bottom Left Corner\n",
    "#         elif ((i > 0) & (i < nrow - 1) & (j > 0) & (j < ncol - 1) ):\n",
    "            \n",
    "#              t = [                         (a[i, j] > a[i, j-1]), \n",
    "#                                                             True, (a[i, j] > a[i+1, j  ])]\n",
    "#         # Bottom Left Corner\n",
    "#         elif ((i > 0) & (i < nrow - 1) & (j > 0) & (j < ncol - 1) ):\n",
    "            \n",
    "#              t = [                         (a[i, j] > a[i, j-1]), \n",
    "#                                                             True, (a[i, j] > a[i+1, j  ])]\n",
    "#         print(i, j)\n",
    "#         print(t)\n",
    "     "
   ]
  }
 ],
 "metadata": {
  "kernelspec": {
   "display_name": "Python 3",
   "language": "python",
   "name": "python3"
  },
  "language_info": {
   "codemirror_mode": {
    "name": "ipython",
    "version": 3
   },
   "file_extension": ".py",
   "mimetype": "text/x-python",
   "name": "python",
   "nbconvert_exporter": "python",
   "pygments_lexer": "ipython3",
   "version": "3.8.8"
  }
 },
 "nbformat": 4,
 "nbformat_minor": 5
}
