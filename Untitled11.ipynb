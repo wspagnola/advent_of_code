{
 "cells": [
  {
   "cell_type": "code",
   "execution_count": 16,
   "id": "6cedc2ea",
   "metadata": {},
   "outputs": [],
   "source": [
    "import numpy as np"
   ]
  },
  {
   "cell_type": "code",
   "execution_count": 4,
   "id": "fe7556ab",
   "metadata": {},
   "outputs": [],
   "source": [
    "lst = \"on x=10..12,y=10..12,z=10..12\\non x=11..13,y=11..13,z=11..13\\noff x=9..11,y=9..11,z=9..11\\non x=10..10,y=10..10,z=10..10\""
   ]
  },
  {
   "cell_type": "code",
   "execution_count": 14,
   "id": "053bdcf4",
   "metadata": {},
   "outputs": [
    {
     "name": "stdout",
     "output_type": "stream",
     "text": [
      "x=10..12,y=10..12,z=10..12\n",
      "x=11..13,y=11..13,z=11..13\n",
      "x=9..11,y=9..11,z=9..11\n",
      "x=10..10,y=10..10,z=10..10\n"
     ]
    }
   ],
   "source": [
    "io = []\n",
    "\n",
    "for line in lst.split(\"\\n\"):\n",
    "    io.append(line.split()[0])\n",
    "    print(line.split()[1])"
   ]
  },
  {
   "cell_type": "code",
   "execution_count": 59,
   "id": "66be52f5",
   "metadata": {},
   "outputs": [
    {
     "data": {
      "text/plain": [
       "(20, 20, 20)"
      ]
     },
     "execution_count": 59,
     "metadata": {},
     "output_type": "execute_result"
    }
   ],
   "source": []
  },
  {
   "cell_type": "code",
   "execution_count": 62,
   "id": "eff3a987",
   "metadata": {},
   "outputs": [],
   "source": [
    "mat = np.zeros((20, 20, 20), dtype = int)\n",
    "mat[10:12+1, 10:12+1, 10:12+1] = 1\n",
    "#mat.shape"
   ]
  },
  {
   "cell_type": "code",
   "execution_count": 63,
   "id": "071e1de4",
   "metadata": {},
   "outputs": [
    {
     "name": "stdout",
     "output_type": "stream",
     "text": [
      "10 10 10\n",
      "10 10 11\n",
      "10 10 12\n",
      "10 11 10\n",
      "10 11 11\n",
      "10 11 12\n",
      "10 12 10\n",
      "10 12 11\n",
      "10 12 12\n",
      "11 10 10\n",
      "11 10 11\n",
      "11 10 12\n",
      "11 11 10\n",
      "11 11 11\n",
      "11 11 12\n",
      "11 12 10\n",
      "11 12 11\n",
      "11 12 12\n",
      "12 10 10\n",
      "12 10 11\n",
      "12 10 12\n",
      "12 11 10\n",
      "12 11 11\n",
      "12 11 12\n",
      "12 12 10\n",
      "12 12 11\n",
      "12 12 12\n"
     ]
    }
   ],
   "source": [
    "for i in range(mat.shape[0]):\n",
    "    for j in range(mat.shape[1]):\n",
    "        for k in range(mat.shape[2]):\n",
    "            if mat[i, j, k] == 1:\n",
    "                 print(i,j, k) \n",
    "            else:\n",
    "                pass"
   ]
  },
  {
   "cell_type": "code",
   "execution_count": null,
   "id": "2b75be62",
   "metadata": {},
   "outputs": [],
   "source": []
  }
 ],
 "metadata": {
  "kernelspec": {
   "display_name": "Python 3",
   "language": "python",
   "name": "python3"
  },
  "language_info": {
   "codemirror_mode": {
    "name": "ipython",
    "version": 3
   },
   "file_extension": ".py",
   "mimetype": "text/x-python",
   "name": "python",
   "nbconvert_exporter": "python",
   "pygments_lexer": "ipython3",
   "version": "3.8.8"
  }
 },
 "nbformat": 4,
 "nbformat_minor": 5
}
